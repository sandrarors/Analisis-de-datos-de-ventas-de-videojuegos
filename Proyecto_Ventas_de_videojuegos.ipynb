{
 "cells": [
  {
   "cell_type": "markdown",
   "metadata": {
    "tags": [
     "e5c1f0c2-db9f-43a0-99b9-4875c52427e8"
    ]
   },
   "source": [
    "## Descripción del proyecto"
   ]
  },
  {
   "cell_type": "markdown",
   "metadata": {},
   "source": [
    "Trabajas para la tienda online Ice que vende videojuegos por todo el mundo. Las de usuarios y expertos, los géneros, las plataformas (por ejemplo, Xbox o PlayStation) y los datos históricos sobre las ventas de juegos están disponibles en fuentes abiertas. Tienes que identificar patrones que determinen si un juego tiene éxito o no. Esto te permitirá detectar proyectos prometedores y planificar campañas publicitarias.\n",
    "\n",
    "Delante de ti hay datos que se remontan a 2016. Imaginemos que es diciembre de 2016 y estás planeando una campaña para 2017.\n",
    "\n",
    "Lo importante es adquirir experiencia de trabajo con datos. Realmente no importa si estás pronosticando las ventas de 2017 en función de los datos de 2016 o las ventas de 2027 en función de los datos de 2026.\n",
    "\n",
    "El dataset contiene una columna \"rating\" que almacena la clasificación ESRB de cada juego. El Entertainment Software Rating Board (la Junta de clasificación de software de entretenimiento) evalúa el contenido de un juego y asigna una clasificación de edad como Adolescente o Adulto.\n"
   ]
  },
  {
   "cell_type": "markdown",
   "metadata": {},
   "source": [
    "### Inicialización"
   ]
  },
  {
   "cell_type": "code",
   "execution_count": 8,
   "metadata": {},
   "outputs": [],
   "source": [
    "# Cargar todas las librerías\n",
    "\n",
    "import pandas as pd\n",
    "import seaborn as sns\n",
    "import numpy as np\n",
    "from math import factorial\n",
    "from scipy import stats as st\n",
    "from scipy.stats import ttest_ind\n",
    "import math as mt\n",
    "import matplotlib.pyplot as plt\n"
   ]
  },
  {
   "cell_type": "code",
   "execution_count": 9,
   "metadata": {},
   "outputs": [],
   "source": [
    "# Carga los archivos de datos en \n",
    "\n",
    "df_games = pd.read_csv('games.csv')\n"
   ]
  },
  {
   "cell_type": "code",
   "execution_count": 10,
   "metadata": {},
   "outputs": [
    {
     "name": "stdout",
     "output_type": "stream",
     "text": [
      "             Name Platform  Year_of_Release     Genre  NA_sales  EU_sales  \\\n",
      "0         Pac-Man     2600           1982.0    Puzzle      7.28      0.45   \n",
      "1        Pitfall!     2600           1981.0  Platform      4.21      0.24   \n",
      "2       Asteroids     2600           1980.0   Shooter      4.00      0.26   \n",
      "3               2     2600           1980.0   Shooter      2.56      0.17   \n",
      "4  Space Invaders     2600              NaN   Shooter      2.36      0.14   \n",
      "\n",
      "   JP_sales  Other_sales  Critic_Score User_Score Rating  Total Sales  \n",
      "0       0.0         0.08           NaN        NaN    NaN         7.81  \n",
      "1       0.0         0.05           NaN        NaN    NaN         4.50  \n",
      "2       0.0         0.05           NaN        NaN    NaN         4.31  \n",
      "3       0.0         0.03           NaN        NaN    NaN         2.76  \n",
      "4       0.0         0.03           NaN        NaN    NaN         2.53  \n"
     ]
    }
   ],
   "source": [
    "# Explorar las primeras filas del dataset\n",
    "\n",
    "print(df_games.head())\n"
   ]
  },
  {
   "cell_type": "code",
   "execution_count": 11,
   "metadata": {},
   "outputs": [
    {
     "name": "stdout",
     "output_type": "stream",
     "text": [
      "<class 'pandas.core.frame.DataFrame'>\n",
      "RangeIndex: 16715 entries, 0 to 16714\n",
      "Data columns (total 12 columns):\n",
      " #   Column           Non-Null Count  Dtype  \n",
      "---  ------           --------------  -----  \n",
      " 0   Name             16713 non-null  object \n",
      " 1   Platform         16715 non-null  object \n",
      " 2   Year_of_Release  16446 non-null  float64\n",
      " 3   Genre            16713 non-null  object \n",
      " 4   NA_sales         16715 non-null  float64\n",
      " 5   EU_sales         16715 non-null  float64\n",
      " 6   JP_sales         16715 non-null  float64\n",
      " 7   Other_sales      16715 non-null  float64\n",
      " 8   Critic_Score     8137 non-null   float64\n",
      " 9   User_Score       10014 non-null  object \n",
      " 10  Rating           9949 non-null   object \n",
      " 11  Total Sales      16715 non-null  float64\n",
      "dtypes: float64(7), object(5)\n",
      "memory usage: 1.5+ MB\n",
      "None\n"
     ]
    }
   ],
   "source": [
    "# Obtener información sobre las columnas y tipos de datos\n",
    "\n",
    "print(df_games.info())\n"
   ]
  },
  {
   "cell_type": "code",
   "execution_count": 12,
   "metadata": {},
   "outputs": [
    {
     "name": "stdout",
     "output_type": "stream",
     "text": [
      "Name                  2\n",
      "Platform              0\n",
      "Year_of_Release     269\n",
      "Genre                 2\n",
      "NA_sales              0\n",
      "EU_sales              0\n",
      "JP_sales              0\n",
      "Other_sales           0\n",
      "Critic_Score       8578\n",
      "User_Score         6701\n",
      "Rating             6766\n",
      "Total Sales           0\n",
      "dtype: int64\n"
     ]
    }
   ],
   "source": [
    "# Revisar si hay valores nulos\n",
    "\n",
    "print(df_games.isnull().sum())"
   ]
  },
  {
   "cell_type": "markdown",
   "metadata": {},
   "source": [
    "## Prepara los datos"
   ]
  },
  {
   "cell_type": "markdown",
   "metadata": {},
   "source": [
    "### Reemplaza los nombres de las columnas (ponlos en minúsculas)."
   ]
  },
  {
   "cell_type": "code",
   "execution_count": 6,
   "metadata": {},
   "outputs": [
    {
     "data": {
      "text/html": [
       "<div>\n",
       "<style scoped>\n",
       "    .dataframe tbody tr th:only-of-type {\n",
       "        vertical-align: middle;\n",
       "    }\n",
       "\n",
       "    .dataframe tbody tr th {\n",
       "        vertical-align: top;\n",
       "    }\n",
       "\n",
       "    .dataframe thead th {\n",
       "        text-align: right;\n",
       "    }\n",
       "</style>\n",
       "<table border=\"1\" class=\"dataframe\">\n",
       "  <thead>\n",
       "    <tr style=\"text-align: right;\">\n",
       "      <th></th>\n",
       "      <th>name</th>\n",
       "      <th>platform</th>\n",
       "      <th>year_of_release</th>\n",
       "      <th>genre</th>\n",
       "      <th>na_sales</th>\n",
       "      <th>eu_sales</th>\n",
       "      <th>jp_sales</th>\n",
       "      <th>other_sales</th>\n",
       "      <th>critic_score</th>\n",
       "      <th>user_score</th>\n",
       "      <th>rating</th>\n",
       "    </tr>\n",
       "  </thead>\n",
       "  <tbody>\n",
       "    <tr>\n",
       "      <th>0</th>\n",
       "      <td>Wii Sports</td>\n",
       "      <td>Wii</td>\n",
       "      <td>2006.0</td>\n",
       "      <td>Sports</td>\n",
       "      <td>41.36</td>\n",
       "      <td>28.96</td>\n",
       "      <td>3.77</td>\n",
       "      <td>8.45</td>\n",
       "      <td>76.0</td>\n",
       "      <td>8</td>\n",
       "      <td>E</td>\n",
       "    </tr>\n",
       "    <tr>\n",
       "      <th>1</th>\n",
       "      <td>Super Mario Bros.</td>\n",
       "      <td>NES</td>\n",
       "      <td>1985.0</td>\n",
       "      <td>Platform</td>\n",
       "      <td>29.08</td>\n",
       "      <td>3.58</td>\n",
       "      <td>6.81</td>\n",
       "      <td>0.77</td>\n",
       "      <td>NaN</td>\n",
       "      <td>NaN</td>\n",
       "      <td>NaN</td>\n",
       "    </tr>\n",
       "    <tr>\n",
       "      <th>2</th>\n",
       "      <td>Mario Kart Wii</td>\n",
       "      <td>Wii</td>\n",
       "      <td>2008.0</td>\n",
       "      <td>Racing</td>\n",
       "      <td>15.68</td>\n",
       "      <td>12.76</td>\n",
       "      <td>3.79</td>\n",
       "      <td>3.29</td>\n",
       "      <td>82.0</td>\n",
       "      <td>8.3</td>\n",
       "      <td>E</td>\n",
       "    </tr>\n",
       "    <tr>\n",
       "      <th>3</th>\n",
       "      <td>Wii Sports Resort</td>\n",
       "      <td>Wii</td>\n",
       "      <td>2009.0</td>\n",
       "      <td>Sports</td>\n",
       "      <td>15.61</td>\n",
       "      <td>10.93</td>\n",
       "      <td>3.28</td>\n",
       "      <td>2.95</td>\n",
       "      <td>80.0</td>\n",
       "      <td>8</td>\n",
       "      <td>E</td>\n",
       "    </tr>\n",
       "    <tr>\n",
       "      <th>4</th>\n",
       "      <td>Pokemon Red/Pokemon Blue</td>\n",
       "      <td>GB</td>\n",
       "      <td>1996.0</td>\n",
       "      <td>Role-Playing</td>\n",
       "      <td>11.27</td>\n",
       "      <td>8.89</td>\n",
       "      <td>10.22</td>\n",
       "      <td>1.00</td>\n",
       "      <td>NaN</td>\n",
       "      <td>NaN</td>\n",
       "      <td>NaN</td>\n",
       "    </tr>\n",
       "  </tbody>\n",
       "</table>\n",
       "</div>"
      ],
      "text/plain": [
       "                       name platform  year_of_release         genre  na_sales  \\\n",
       "0                Wii Sports      Wii           2006.0        Sports     41.36   \n",
       "1         Super Mario Bros.      NES           1985.0      Platform     29.08   \n",
       "2            Mario Kart Wii      Wii           2008.0        Racing     15.68   \n",
       "3         Wii Sports Resort      Wii           2009.0        Sports     15.61   \n",
       "4  Pokemon Red/Pokemon Blue       GB           1996.0  Role-Playing     11.27   \n",
       "\n",
       "   eu_sales  jp_sales  other_sales  critic_score user_score rating  \n",
       "0     28.96      3.77         8.45          76.0          8      E  \n",
       "1      3.58      6.81         0.77           NaN        NaN    NaN  \n",
       "2     12.76      3.79         3.29          82.0        8.3      E  \n",
       "3     10.93      3.28         2.95          80.0          8      E  \n",
       "4      8.89     10.22         1.00           NaN        NaN    NaN  "
      ]
     },
     "execution_count": 6,
     "metadata": {},
     "output_type": "execute_result"
    }
   ],
   "source": [
    "# Renombrar las columnas a minúsculas\n",
    "\n",
    "df_games.columns = df_games.columns.str.lower()\n",
    "\n",
    "# Mostrar los nuevos nombres de las columnas\n",
    "(df_games.head())\n"
   ]
  },
  {
   "cell_type": "markdown",
   "metadata": {},
   "source": [
    "### Convierte los datos en los tipos necesarios"
   ]
  },
  {
   "cell_type": "code",
   "execution_count": 7,
   "metadata": {
    "scrolled": true
   },
   "outputs": [
    {
     "data": {
      "text/plain": [
       "<IntegerArray>\n",
       "[2006, 1985, 2008, 2009, 1996, 1989, 1984, 2005, 1999, 2007, 2010, 2013, 2004,\n",
       " 1990, 1988, 2002, 2001, 2011, 1998, 2015, 2012, 2014, 1992, 1997, 1993, 1994,\n",
       " 1982, 2016, 2003, 1986, 2000, <NA>, 1995, 1991, 1981, 1987, 1980, 1983]\n",
       "Length: 38, dtype: Int64"
      ]
     },
     "execution_count": 7,
     "metadata": {},
     "output_type": "execute_result"
    }
   ],
   "source": [
    "# Convertir columna 'year_of_release' a int64\n",
    "\n",
    "df_games['year_of_release'] = df_games['year_of_release'].astype('Int64')\n",
    "df_games['year_of_release'].unique()\n"
   ]
  },
  {
   "cell_type": "code",
   "execution_count": 8,
   "metadata": {},
   "outputs": [
    {
     "name": "stdout",
     "output_type": "stream",
     "text": [
      "<class 'pandas.core.frame.DataFrame'>\n",
      "RangeIndex: 16715 entries, 0 to 16714\n",
      "Data columns (total 11 columns):\n",
      " #   Column           Non-Null Count  Dtype  \n",
      "---  ------           --------------  -----  \n",
      " 0   name             16713 non-null  object \n",
      " 1   platform         16715 non-null  object \n",
      " 2   year_of_release  16446 non-null  Int64  \n",
      " 3   genre            16713 non-null  object \n",
      " 4   na_sales         16715 non-null  float64\n",
      " 5   eu_sales         16715 non-null  float64\n",
      " 6   jp_sales         16715 non-null  float64\n",
      " 7   other_sales      16715 non-null  float64\n",
      " 8   critic_score     8137 non-null   float64\n",
      " 9   user_score       7590 non-null   float64\n",
      " 10  rating           9949 non-null   object \n",
      "dtypes: Int64(1), float64(6), object(4)\n",
      "memory usage: 1.4+ MB\n",
      "None\n"
     ]
    }
   ],
   "source": [
    "# Convertir columna 'user_score' a float64 \n",
    "\n",
    "df_games['user_score'] = df_games['user_score'].replace('tbd', np.nan)\n",
    "df_games['user_score'] = df_games['user_score'].astype('float64')\n",
    "\n",
    "print(df_games.info())"
   ]
  },
  {
   "cell_type": "markdown",
   "metadata": {},
   "source": [
    "#### Describe las columnas en las que los tipos de datos han sido cambiados y explica por qué."
   ]
  },
  {
   "cell_type": "markdown",
   "metadata": {},
   "source": [
    "**Comentarios**\n",
    "\n",
    "- Convertimos la columna *year_of_release* de tipo float64 a int64 ya que es más fácil catalogar los años como número sin decimales.\n",
    "\n",
    "- Convertimos la columna *user_score* de object a float64  ya que vamos a utilizar más adelante estos números para realizar el análisis estadístico.\n"
   ]
  },
  {
   "cell_type": "markdown",
   "metadata": {},
   "source": [
    "### Si es necesario, elige la manera de tratar los valores ausentes:\n",
    "\n",
    "- Explica por qué rellenaste los valores ausentes como lo hiciste o por qué decidiste dejarlos en blanco.\n",
    "- ¿Por qué crees que los valores están ausentes? Brinda explicaciones posibles.\n",
    "- Presta atención a la abreviatura TBD: significa \"to be determined\" (a determinar). Especifica cómo piensas manejar estos casos. "
   ]
  },
  {
   "cell_type": "code",
   "execution_count": 9,
   "metadata": {},
   "outputs": [
    {
     "name": "stdout",
     "output_type": "stream",
     "text": [
      "<class 'pandas.core.frame.DataFrame'>\n",
      "Int64Index: 16713 entries, 0 to 16714\n",
      "Data columns (total 11 columns):\n",
      " #   Column           Non-Null Count  Dtype  \n",
      "---  ------           --------------  -----  \n",
      " 0   name             16713 non-null  object \n",
      " 1   platform         16713 non-null  object \n",
      " 2   year_of_release  16444 non-null  Int64  \n",
      " 3   genre            16713 non-null  object \n",
      " 4   na_sales         16713 non-null  float64\n",
      " 5   eu_sales         16713 non-null  float64\n",
      " 6   jp_sales         16713 non-null  float64\n",
      " 7   other_sales      16713 non-null  float64\n",
      " 8   critic_score     8137 non-null   float64\n",
      " 9   user_score       7590 non-null   float64\n",
      " 10  rating           9949 non-null   object \n",
      "dtypes: Int64(1), float64(6), object(4)\n",
      "memory usage: 1.5+ MB\n",
      "None\n"
     ]
    }
   ],
   "source": [
    "# Eliminar filas con valores nulos en 'Name' y 'Genre'\n",
    "\n",
    "df_games.dropna(subset=['name', 'genre'], inplace=True)\n",
    "\n",
    "print(df_games.info())"
   ]
  },
  {
   "cell_type": "code",
   "execution_count": 10,
   "metadata": {},
   "outputs": [
    {
     "name": "stdout",
     "output_type": "stream",
     "text": [
      "<class 'pandas.core.frame.DataFrame'>\n",
      "Int64Index: 16713 entries, 0 to 16714\n",
      "Data columns (total 11 columns):\n",
      " #   Column           Non-Null Count  Dtype  \n",
      "---  ------           --------------  -----  \n",
      " 0   name             16713 non-null  object \n",
      " 1   platform         16713 non-null  object \n",
      " 2   year_of_release  16444 non-null  Int64  \n",
      " 3   genre            16713 non-null  object \n",
      " 4   na_sales         16713 non-null  float64\n",
      " 5   eu_sales         16713 non-null  float64\n",
      " 6   jp_sales         16713 non-null  float64\n",
      " 7   other_sales      16713 non-null  float64\n",
      " 8   critic_score     8137 non-null   float64\n",
      " 9   user_score       7590 non-null   float64\n",
      " 10  rating           9949 non-null   object \n",
      "dtypes: Int64(1), float64(6), object(4)\n",
      "memory usage: 1.5+ MB\n",
      "None\n"
     ]
    }
   ],
   "source": [
    "# Reemplazar 'TBD' con 'unknown' en la columna 'rating'\n",
    "\n",
    "df_games.replace('TBD', 'unknown', inplace=True)\n",
    "print(df_games.info())\n"
   ]
  },
  {
   "cell_type": "code",
   "execution_count": 11,
   "metadata": {},
   "outputs": [
    {
     "data": {
      "text/html": [
       "<div>\n",
       "<style scoped>\n",
       "    .dataframe tbody tr th:only-of-type {\n",
       "        vertical-align: middle;\n",
       "    }\n",
       "\n",
       "    .dataframe tbody tr th {\n",
       "        vertical-align: top;\n",
       "    }\n",
       "\n",
       "    .dataframe thead th {\n",
       "        text-align: right;\n",
       "    }\n",
       "</style>\n",
       "<table border=\"1\" class=\"dataframe\">\n",
       "  <thead>\n",
       "    <tr style=\"text-align: right;\">\n",
       "      <th></th>\n",
       "      <th>total_games_by_year</th>\n",
       "      <th>info_user_score</th>\n",
       "      <th>info_critic_score</th>\n",
       "    </tr>\n",
       "    <tr>\n",
       "      <th>year_of_release</th>\n",
       "      <th></th>\n",
       "      <th></th>\n",
       "      <th></th>\n",
       "    </tr>\n",
       "  </thead>\n",
       "  <tbody>\n",
       "    <tr>\n",
       "      <th>1980</th>\n",
       "      <td>9</td>\n",
       "      <td>0</td>\n",
       "      <td>0</td>\n",
       "    </tr>\n",
       "    <tr>\n",
       "      <th>1981</th>\n",
       "      <td>46</td>\n",
       "      <td>0</td>\n",
       "      <td>0</td>\n",
       "    </tr>\n",
       "    <tr>\n",
       "      <th>1982</th>\n",
       "      <td>36</td>\n",
       "      <td>0</td>\n",
       "      <td>0</td>\n",
       "    </tr>\n",
       "    <tr>\n",
       "      <th>1983</th>\n",
       "      <td>17</td>\n",
       "      <td>0</td>\n",
       "      <td>0</td>\n",
       "    </tr>\n",
       "    <tr>\n",
       "      <th>1984</th>\n",
       "      <td>14</td>\n",
       "      <td>0</td>\n",
       "      <td>0</td>\n",
       "    </tr>\n",
       "    <tr>\n",
       "      <th>1985</th>\n",
       "      <td>14</td>\n",
       "      <td>1</td>\n",
       "      <td>1</td>\n",
       "    </tr>\n",
       "    <tr>\n",
       "      <th>1986</th>\n",
       "      <td>21</td>\n",
       "      <td>0</td>\n",
       "      <td>0</td>\n",
       "    </tr>\n",
       "    <tr>\n",
       "      <th>1987</th>\n",
       "      <td>16</td>\n",
       "      <td>0</td>\n",
       "      <td>0</td>\n",
       "    </tr>\n",
       "    <tr>\n",
       "      <th>1988</th>\n",
       "      <td>15</td>\n",
       "      <td>1</td>\n",
       "      <td>1</td>\n",
       "    </tr>\n",
       "    <tr>\n",
       "      <th>1989</th>\n",
       "      <td>17</td>\n",
       "      <td>0</td>\n",
       "      <td>0</td>\n",
       "    </tr>\n",
       "    <tr>\n",
       "      <th>1990</th>\n",
       "      <td>16</td>\n",
       "      <td>0</td>\n",
       "      <td>0</td>\n",
       "    </tr>\n",
       "    <tr>\n",
       "      <th>1991</th>\n",
       "      <td>41</td>\n",
       "      <td>0</td>\n",
       "      <td>0</td>\n",
       "    </tr>\n",
       "    <tr>\n",
       "      <th>1992</th>\n",
       "      <td>43</td>\n",
       "      <td>1</td>\n",
       "      <td>1</td>\n",
       "    </tr>\n",
       "    <tr>\n",
       "      <th>1993</th>\n",
       "      <td>60</td>\n",
       "      <td>0</td>\n",
       "      <td>0</td>\n",
       "    </tr>\n",
       "    <tr>\n",
       "      <th>1994</th>\n",
       "      <td>121</td>\n",
       "      <td>1</td>\n",
       "      <td>1</td>\n",
       "    </tr>\n",
       "    <tr>\n",
       "      <th>1995</th>\n",
       "      <td>219</td>\n",
       "      <td>0</td>\n",
       "      <td>0</td>\n",
       "    </tr>\n",
       "    <tr>\n",
       "      <th>1996</th>\n",
       "      <td>263</td>\n",
       "      <td>8</td>\n",
       "      <td>8</td>\n",
       "    </tr>\n",
       "    <tr>\n",
       "      <th>1997</th>\n",
       "      <td>289</td>\n",
       "      <td>18</td>\n",
       "      <td>17</td>\n",
       "    </tr>\n",
       "    <tr>\n",
       "      <th>1998</th>\n",
       "      <td>379</td>\n",
       "      <td>31</td>\n",
       "      <td>28</td>\n",
       "    </tr>\n",
       "    <tr>\n",
       "      <th>1999</th>\n",
       "      <td>338</td>\n",
       "      <td>31</td>\n",
       "      <td>39</td>\n",
       "    </tr>\n",
       "    <tr>\n",
       "      <th>2000</th>\n",
       "      <td>350</td>\n",
       "      <td>107</td>\n",
       "      <td>143</td>\n",
       "    </tr>\n",
       "    <tr>\n",
       "      <th>2001</th>\n",
       "      <td>482</td>\n",
       "      <td>257</td>\n",
       "      <td>326</td>\n",
       "    </tr>\n",
       "    <tr>\n",
       "      <th>2002</th>\n",
       "      <td>829</td>\n",
       "      <td>464</td>\n",
       "      <td>627</td>\n",
       "    </tr>\n",
       "    <tr>\n",
       "      <th>2003</th>\n",
       "      <td>775</td>\n",
       "      <td>516</td>\n",
       "      <td>585</td>\n",
       "    </tr>\n",
       "    <tr>\n",
       "      <th>2004</th>\n",
       "      <td>762</td>\n",
       "      <td>489</td>\n",
       "      <td>561</td>\n",
       "    </tr>\n",
       "    <tr>\n",
       "      <th>2005</th>\n",
       "      <td>939</td>\n",
       "      <td>583</td>\n",
       "      <td>655</td>\n",
       "    </tr>\n",
       "    <tr>\n",
       "      <th>2006</th>\n",
       "      <td>1006</td>\n",
       "      <td>552</td>\n",
       "      <td>620</td>\n",
       "    </tr>\n",
       "    <tr>\n",
       "      <th>2007</th>\n",
       "      <td>1197</td>\n",
       "      <td>629</td>\n",
       "      <td>692</td>\n",
       "    </tr>\n",
       "    <tr>\n",
       "      <th>2008</th>\n",
       "      <td>1427</td>\n",
       "      <td>661</td>\n",
       "      <td>715</td>\n",
       "    </tr>\n",
       "    <tr>\n",
       "      <th>2009</th>\n",
       "      <td>1426</td>\n",
       "      <td>614</td>\n",
       "      <td>651</td>\n",
       "    </tr>\n",
       "    <tr>\n",
       "      <th>2010</th>\n",
       "      <td>1255</td>\n",
       "      <td>467</td>\n",
       "      <td>500</td>\n",
       "    </tr>\n",
       "    <tr>\n",
       "      <th>2011</th>\n",
       "      <td>1136</td>\n",
       "      <td>501</td>\n",
       "      <td>500</td>\n",
       "    </tr>\n",
       "    <tr>\n",
       "      <th>2012</th>\n",
       "      <td>653</td>\n",
       "      <td>339</td>\n",
       "      <td>321</td>\n",
       "    </tr>\n",
       "    <tr>\n",
       "      <th>2013</th>\n",
       "      <td>544</td>\n",
       "      <td>304</td>\n",
       "      <td>273</td>\n",
       "    </tr>\n",
       "    <tr>\n",
       "      <th>2014</th>\n",
       "      <td>581</td>\n",
       "      <td>329</td>\n",
       "      <td>261</td>\n",
       "    </tr>\n",
       "    <tr>\n",
       "      <th>2015</th>\n",
       "      <td>606</td>\n",
       "      <td>297</td>\n",
       "      <td>225</td>\n",
       "    </tr>\n",
       "    <tr>\n",
       "      <th>2016</th>\n",
       "      <td>502</td>\n",
       "      <td>262</td>\n",
       "      <td>232</td>\n",
       "    </tr>\n",
       "  </tbody>\n",
       "</table>\n",
       "</div>"
      ],
      "text/plain": [
       "                 total_games_by_year  info_user_score  info_critic_score\n",
       "year_of_release                                                         \n",
       "1980                               9                0                  0\n",
       "1981                              46                0                  0\n",
       "1982                              36                0                  0\n",
       "1983                              17                0                  0\n",
       "1984                              14                0                  0\n",
       "1985                              14                1                  1\n",
       "1986                              21                0                  0\n",
       "1987                              16                0                  0\n",
       "1988                              15                1                  1\n",
       "1989                              17                0                  0\n",
       "1990                              16                0                  0\n",
       "1991                              41                0                  0\n",
       "1992                              43                1                  1\n",
       "1993                              60                0                  0\n",
       "1994                             121                1                  1\n",
       "1995                             219                0                  0\n",
       "1996                             263                8                  8\n",
       "1997                             289               18                 17\n",
       "1998                             379               31                 28\n",
       "1999                             338               31                 39\n",
       "2000                             350              107                143\n",
       "2001                             482              257                326\n",
       "2002                             829              464                627\n",
       "2003                             775              516                585\n",
       "2004                             762              489                561\n",
       "2005                             939              583                655\n",
       "2006                            1006              552                620\n",
       "2007                            1197              629                692\n",
       "2008                            1427              661                715\n",
       "2009                            1426              614                651\n",
       "2010                            1255              467                500\n",
       "2011                            1136              501                500\n",
       "2012                             653              339                321\n",
       "2013                             544              304                273\n",
       "2014                             581              329                261\n",
       "2015                             606              297                225\n",
       "2016                             502              262                232"
      ]
     },
     "execution_count": 11,
     "metadata": {},
     "output_type": "execute_result"
    }
   ],
   "source": [
    "# Buscamos los valores nulos agrupando columnas\n",
    "\n",
    "df_games.groupby('year_of_release').agg(\n",
    "    total_games_by_year = ('name','count'),\n",
    "    info_user_score = ('user_score','count'),\n",
    "    info_critic_score = ('critic_score','count')\n",
    ")"
   ]
  },
  {
   "cell_type": "markdown",
   "metadata": {},
   "source": [
    "**Comentarios**\n",
    "\n",
    "- Eliminamos las filas con valores nulos en las columnas *'name'* y *'gender'*: Un juego sin nombre o género pierde contexto en cualquier análisis, por lo que eliminar estas filas minimiza errores en los resultados. La ausencia en estas columnas podría ser causada por errores al recopilar o ingresar datos, especialmente si son juegos menos populares o sin suficiente información disponible.\n",
    "\n",
    "- Conservaremos los valores nulos en las columnas *'year_of_release'*, *'critic_score', 'user_score'* y *'rating'*:  Dejar estos valores indicará que faltan datos precisos. La ausencia en estas columnas podría deberse a que ciertos juegos antiguos o independientes no tienen un registro oficial del año de lanzamiento y no recibieron una clasificación oficial de ESRB.\n",
    "\n",
    "- Reemplazamos ‘tbd’ con 'unknown' en la columna ‘rating’: Cambiar estos valores como 'unknown' nos permite mantener los datos y al mismo tiempo indicar que no hay información disponible.\n"
   ]
  },
  {
   "cell_type": "markdown",
   "metadata": {},
   "source": [
    "### Calcula las ventas totales (la suma de las ventas en todas las regiones) para cada juego y coloca estos valores en una columna separada."
   ]
  },
  {
   "cell_type": "code",
   "execution_count": 12,
   "metadata": {},
   "outputs": [
    {
     "data": {
      "text/html": [
       "<div>\n",
       "<style scoped>\n",
       "    .dataframe tbody tr th:only-of-type {\n",
       "        vertical-align: middle;\n",
       "    }\n",
       "\n",
       "    .dataframe tbody tr th {\n",
       "        vertical-align: top;\n",
       "    }\n",
       "\n",
       "    .dataframe thead th {\n",
       "        text-align: right;\n",
       "    }\n",
       "</style>\n",
       "<table border=\"1\" class=\"dataframe\">\n",
       "  <thead>\n",
       "    <tr style=\"text-align: right;\">\n",
       "      <th></th>\n",
       "      <th>name</th>\n",
       "      <th>platform</th>\n",
       "      <th>year_of_release</th>\n",
       "      <th>genre</th>\n",
       "      <th>na_sales</th>\n",
       "      <th>eu_sales</th>\n",
       "      <th>jp_sales</th>\n",
       "      <th>other_sales</th>\n",
       "      <th>critic_score</th>\n",
       "      <th>user_score</th>\n",
       "      <th>rating</th>\n",
       "      <th>total_sales</th>\n",
       "    </tr>\n",
       "  </thead>\n",
       "  <tbody>\n",
       "    <tr>\n",
       "      <th>0</th>\n",
       "      <td>Wii Sports</td>\n",
       "      <td>Wii</td>\n",
       "      <td>2006</td>\n",
       "      <td>Sports</td>\n",
       "      <td>41.36</td>\n",
       "      <td>28.96</td>\n",
       "      <td>3.77</td>\n",
       "      <td>8.45</td>\n",
       "      <td>76.0</td>\n",
       "      <td>8.0</td>\n",
       "      <td>E</td>\n",
       "      <td>82.54</td>\n",
       "    </tr>\n",
       "    <tr>\n",
       "      <th>1</th>\n",
       "      <td>Super Mario Bros.</td>\n",
       "      <td>NES</td>\n",
       "      <td>1985</td>\n",
       "      <td>Platform</td>\n",
       "      <td>29.08</td>\n",
       "      <td>3.58</td>\n",
       "      <td>6.81</td>\n",
       "      <td>0.77</td>\n",
       "      <td>NaN</td>\n",
       "      <td>NaN</td>\n",
       "      <td>NaN</td>\n",
       "      <td>40.24</td>\n",
       "    </tr>\n",
       "    <tr>\n",
       "      <th>2</th>\n",
       "      <td>Mario Kart Wii</td>\n",
       "      <td>Wii</td>\n",
       "      <td>2008</td>\n",
       "      <td>Racing</td>\n",
       "      <td>15.68</td>\n",
       "      <td>12.76</td>\n",
       "      <td>3.79</td>\n",
       "      <td>3.29</td>\n",
       "      <td>82.0</td>\n",
       "      <td>8.3</td>\n",
       "      <td>E</td>\n",
       "      <td>35.52</td>\n",
       "    </tr>\n",
       "    <tr>\n",
       "      <th>3</th>\n",
       "      <td>Wii Sports Resort</td>\n",
       "      <td>Wii</td>\n",
       "      <td>2009</td>\n",
       "      <td>Sports</td>\n",
       "      <td>15.61</td>\n",
       "      <td>10.93</td>\n",
       "      <td>3.28</td>\n",
       "      <td>2.95</td>\n",
       "      <td>80.0</td>\n",
       "      <td>8.0</td>\n",
       "      <td>E</td>\n",
       "      <td>32.77</td>\n",
       "    </tr>\n",
       "    <tr>\n",
       "      <th>4</th>\n",
       "      <td>Pokemon Red/Pokemon Blue</td>\n",
       "      <td>GB</td>\n",
       "      <td>1996</td>\n",
       "      <td>Role-Playing</td>\n",
       "      <td>11.27</td>\n",
       "      <td>8.89</td>\n",
       "      <td>10.22</td>\n",
       "      <td>1.00</td>\n",
       "      <td>NaN</td>\n",
       "      <td>NaN</td>\n",
       "      <td>NaN</td>\n",
       "      <td>31.38</td>\n",
       "    </tr>\n",
       "  </tbody>\n",
       "</table>\n",
       "</div>"
      ],
      "text/plain": [
       "                       name platform  year_of_release         genre  na_sales  \\\n",
       "0                Wii Sports      Wii             2006        Sports     41.36   \n",
       "1         Super Mario Bros.      NES             1985      Platform     29.08   \n",
       "2            Mario Kart Wii      Wii             2008        Racing     15.68   \n",
       "3         Wii Sports Resort      Wii             2009        Sports     15.61   \n",
       "4  Pokemon Red/Pokemon Blue       GB             1996  Role-Playing     11.27   \n",
       "\n",
       "   eu_sales  jp_sales  other_sales  critic_score  user_score rating  \\\n",
       "0     28.96      3.77         8.45          76.0         8.0      E   \n",
       "1      3.58      6.81         0.77           NaN         NaN    NaN   \n",
       "2     12.76      3.79         3.29          82.0         8.3      E   \n",
       "3     10.93      3.28         2.95          80.0         8.0      E   \n",
       "4      8.89     10.22         1.00           NaN         NaN    NaN   \n",
       "\n",
       "   total_sales  \n",
       "0        82.54  \n",
       "1        40.24  \n",
       "2        35.52  \n",
       "3        32.77  \n",
       "4        31.38  "
      ]
     },
     "execution_count": 12,
     "metadata": {},
     "output_type": "execute_result"
    }
   ],
   "source": [
    "# Calcular las ventas totales sumando las ventas de todas las regiones\n",
    "df_games['total_sales'] = df_games[['na_sales', 'eu_sales', 'jp_sales', 'other_sales']].sum(axis=1)\n",
    "\n",
    "# Mostrar las primeras filas con la nueva columna de ventas totales\n",
    "df_games.head()\n"
   ]
  },
  {
   "cell_type": "code",
   "execution_count": 13,
   "metadata": {},
   "outputs": [
    {
     "name": "stdout",
     "output_type": "stream",
     "text": [
      "<class 'pandas.core.frame.DataFrame'>\n",
      "Int64Index: 16713 entries, 0 to 16714\n",
      "Data columns (total 12 columns):\n",
      " #   Column           Non-Null Count  Dtype  \n",
      "---  ------           --------------  -----  \n",
      " 0   name             16713 non-null  object \n",
      " 1   platform         16713 non-null  object \n",
      " 2   year_of_release  16444 non-null  Int64  \n",
      " 3   genre            16713 non-null  object \n",
      " 4   na_sales         16713 non-null  float64\n",
      " 5   eu_sales         16713 non-null  float64\n",
      " 6   jp_sales         16713 non-null  float64\n",
      " 7   other_sales      16713 non-null  float64\n",
      " 8   critic_score     8137 non-null   float64\n",
      " 9   user_score       7590 non-null   float64\n",
      " 10  rating           9949 non-null   object \n",
      " 11  total_sales      16713 non-null  float64\n",
      "dtypes: Int64(1), float64(7), object(4)\n",
      "memory usage: 2.2+ MB\n",
      "None\n"
     ]
    }
   ],
   "source": [
    "# Confirmamos los cambios realizados en el dataframe\n",
    "\n",
    "print(df_games.info())"
   ]
  },
  {
   "cell_type": "markdown",
   "metadata": {},
   "source": [
    "## Analiza los datos"
   ]
  },
  {
   "cell_type": "markdown",
   "metadata": {},
   "source": [
    "### Mira cuántos juegos fueron lanzados en diferentes años. ¿Son significativos los datos de cada período?"
   ]
  },
  {
   "cell_type": "code",
   "execution_count": 14,
   "metadata": {},
   "outputs": [
    {
     "name": "stdout",
     "output_type": "stream",
     "text": [
      "1980     9\n",
      "1981    46\n",
      "1982    36\n",
      "1983    17\n",
      "1984    14\n",
      "1985    14\n",
      "1986    21\n",
      "1987    16\n",
      "1988    15\n",
      "1989    17\n",
      "Name: year_of_release, dtype: Int64\n"
     ]
    },
    {
     "data": {
      "image/png": "[encoded data removed]",
      "text/plain": [
       "<Figure size 1500x600 with 1 Axes>"
      ]
     },
     "metadata": {},
     "output_type": "display_data"
    }
   ],
   "source": [
    "# Contar cuántos juegos fueron lanzados por cada año\n",
    "df_games_by_year = df_games['year_of_release'].value_counts().sort_index()\n",
    "\n",
    "# Mostrar el conteo de juegos por año\n",
    "print(df_games_by_year.head(10))\n",
    "\n",
    "# Evaluar la significancia de los datos (gráficamente, por ejemplo)\n",
    "import matplotlib.pyplot as plt\n",
    "\n",
    "plt.figure(figsize=(15, 6))\n",
    "df_games_by_year.plot(kind='bar')\n",
    "plt.title('Número de juegos lanzados por año')\n",
    "plt.xlabel('Año de lanzamiento')\n",
    "plt.ylabel('Número de juegos')\n",
    "plt.xticks(rotation=45)\n",
    "plt.show()\n"
   ]
  },
  {
   "cell_type": "markdown",
   "metadata": {},
   "source": [
    "**Comentarios**\n",
    "\n",
    "Los datos anteriores a 1995 muestran pocos lanzamientos por año, lo que sugiere que esos años podrían no ser tan representativos.\n",
    "\n",
    "El gráfico muestra un aumento gradual en los lanzamientos de juegos a partir de 1995, con un crecimiento más rápido entre 2000 y 2008, alcanzando su punto máximo en 2008. La explosión de consolas como la PlayStation, Xbox y Nintendo en los años 2000 puede haber contribuido al auge de los lanzamientos.\n",
    "\n",
    "Después de 2008, hay una disminución en los lanzamientos de nuevos juegos. Factores como la crisis financiera de 2008 podrían haber sido la causa de dicha disminución.\n",
    "\n"
   ]
  },
  {
   "cell_type": "markdown",
   "metadata": {},
   "source": [
    "### Observa cómo varían las ventas de una plataforma a otra. "
   ]
  },
  {
   "cell_type": "markdown",
   "metadata": {},
   "source": [
    "#### Elige las plataformas con las mayores ventas totales y construye una distribución basada en los datos de cada año.\n",
    "\n",
    "- Determina para qué período debes tomar datos. Para hacerlo mira tus respuestas a las preguntas anteriores. Los datos deberían permitirte construir un modelo para 2017.\n",
    "- Trabaja solo con los datos que consideras relevantes. Ignora los datos de años anteriores.\n",
    "- ¿Qué plataformas son líderes en ventas? ¿Cuáles crecen y cuáles se reducen? Elige varias plataformas potencialmente rentables.\n"
   ]
  },
  {
   "cell_type": "code",
   "execution_count": 15,
   "metadata": {
    "scrolled": false
   },
   "outputs": [
    {
     "data": {
      "image/png": "[encoded data removed]",
      "text/plain": [
       "<Figure size 1000x500 with 1 Axes>"
      ]
     },
     "metadata": {},
     "output_type": "display_data"
    }
   ],
   "source": [
    "df_games.groupby('platform')['total_sales'].sum().sort_values(ascending=False).plot(kind = 'bar', figsize=(10,5))\n",
    "\n",
    "# Título y etiquetas\n",
    "plt.title('Ventas por año por plataforma')\n",
    "plt.xlabel('Plataforma')\n",
    "plt.ylabel('Ventas por año (en millones)')\n",
    "plt.legend(title='Plataformas')\n",
    "plt.xticks(rotation=45)\n",
    "\n",
    "# Mostrar el gráfico\n",
    "plt.show()"
   ]
  },
  {
   "cell_type": "markdown",
   "metadata": {},
   "source": [
    "**Comentarios**\n",
    "\n",
    "Generamos una gráfica de barras para detectar cuáles son las plataformas con mayores ventas totales.\n",
    "\n",
    "Considerando la información del número de juegos lanzados y las ventas totales por plataforma, crearemos un gráfico de distribución para analizar el comportamiento de las 10 plataformas con más ventas tomando como referencia la información del año 2000 en adelante ya que, como podemos observar en el gráfico *'Número de juegos lanzados por año'*, a partir de esa fecha es cuando empezó a incrementar el número de juegos lanzados al mercado."
   ]
  },
  {
   "cell_type": "code",
   "execution_count": 16,
   "metadata": {},
   "outputs": [
    {
     "data": {
      "text/html": [
       "<div>\n",
       "<style scoped>\n",
       "    .dataframe tbody tr th:only-of-type {\n",
       "        vertical-align: middle;\n",
       "    }\n",
       "\n",
       "    .dataframe tbody tr th {\n",
       "        vertical-align: top;\n",
       "    }\n",
       "\n",
       "    .dataframe thead th {\n",
       "        text-align: right;\n",
       "    }\n",
       "</style>\n",
       "<table border=\"1\" class=\"dataframe\">\n",
       "  <thead>\n",
       "    <tr style=\"text-align: right;\">\n",
       "      <th></th>\n",
       "      <th>name</th>\n",
       "      <th>platform</th>\n",
       "      <th>year_of_release</th>\n",
       "      <th>genre</th>\n",
       "      <th>na_sales</th>\n",
       "      <th>eu_sales</th>\n",
       "      <th>jp_sales</th>\n",
       "      <th>other_sales</th>\n",
       "      <th>critic_score</th>\n",
       "      <th>user_score</th>\n",
       "      <th>rating</th>\n",
       "      <th>total_sales</th>\n",
       "    </tr>\n",
       "  </thead>\n",
       "  <tbody>\n",
       "    <tr>\n",
       "      <th>0</th>\n",
       "      <td>Wii Sports</td>\n",
       "      <td>Wii</td>\n",
       "      <td>2006</td>\n",
       "      <td>Sports</td>\n",
       "      <td>41.36</td>\n",
       "      <td>28.96</td>\n",
       "      <td>3.77</td>\n",
       "      <td>8.45</td>\n",
       "      <td>76.0</td>\n",
       "      <td>8.0</td>\n",
       "      <td>E</td>\n",
       "      <td>82.54</td>\n",
       "    </tr>\n",
       "    <tr>\n",
       "      <th>2</th>\n",
       "      <td>Mario Kart Wii</td>\n",
       "      <td>Wii</td>\n",
       "      <td>2008</td>\n",
       "      <td>Racing</td>\n",
       "      <td>15.68</td>\n",
       "      <td>12.76</td>\n",
       "      <td>3.79</td>\n",
       "      <td>3.29</td>\n",
       "      <td>82.0</td>\n",
       "      <td>8.3</td>\n",
       "      <td>E</td>\n",
       "      <td>35.52</td>\n",
       "    </tr>\n",
       "    <tr>\n",
       "      <th>3</th>\n",
       "      <td>Wii Sports Resort</td>\n",
       "      <td>Wii</td>\n",
       "      <td>2009</td>\n",
       "      <td>Sports</td>\n",
       "      <td>15.61</td>\n",
       "      <td>10.93</td>\n",
       "      <td>3.28</td>\n",
       "      <td>2.95</td>\n",
       "      <td>80.0</td>\n",
       "      <td>8.0</td>\n",
       "      <td>E</td>\n",
       "      <td>32.77</td>\n",
       "    </tr>\n",
       "    <tr>\n",
       "      <th>6</th>\n",
       "      <td>New Super Mario Bros.</td>\n",
       "      <td>DS</td>\n",
       "      <td>2006</td>\n",
       "      <td>Platform</td>\n",
       "      <td>11.28</td>\n",
       "      <td>9.14</td>\n",
       "      <td>6.50</td>\n",
       "      <td>2.88</td>\n",
       "      <td>89.0</td>\n",
       "      <td>8.5</td>\n",
       "      <td>E</td>\n",
       "      <td>29.80</td>\n",
       "    </tr>\n",
       "    <tr>\n",
       "      <th>7</th>\n",
       "      <td>Wii Play</td>\n",
       "      <td>Wii</td>\n",
       "      <td>2006</td>\n",
       "      <td>Misc</td>\n",
       "      <td>13.96</td>\n",
       "      <td>9.18</td>\n",
       "      <td>2.93</td>\n",
       "      <td>2.84</td>\n",
       "      <td>58.0</td>\n",
       "      <td>6.6</td>\n",
       "      <td>E</td>\n",
       "      <td>28.91</td>\n",
       "    </tr>\n",
       "  </tbody>\n",
       "</table>\n",
       "</div>"
      ],
      "text/plain": [
       "                    name platform  year_of_release     genre  na_sales  \\\n",
       "0             Wii Sports      Wii             2006    Sports     41.36   \n",
       "2         Mario Kart Wii      Wii             2008    Racing     15.68   \n",
       "3      Wii Sports Resort      Wii             2009    Sports     15.61   \n",
       "6  New Super Mario Bros.       DS             2006  Platform     11.28   \n",
       "7               Wii Play      Wii             2006      Misc     13.96   \n",
       "\n",
       "   eu_sales  jp_sales  other_sales  critic_score  user_score rating  \\\n",
       "0     28.96      3.77         8.45          76.0         8.0      E   \n",
       "2     12.76      3.79         3.29          82.0         8.3      E   \n",
       "3     10.93      3.28         2.95          80.0         8.0      E   \n",
       "6      9.14      6.50         2.88          89.0         8.5      E   \n",
       "7      9.18      2.93         2.84          58.0         6.6      E   \n",
       "\n",
       "   total_sales  \n",
       "0        82.54  \n",
       "2        35.52  \n",
       "3        32.77  \n",
       "6        29.80  \n",
       "7        28.91  "
      ]
     },
     "execution_count": 16,
     "metadata": {},
     "output_type": "execute_result"
    }
   ],
   "source": [
    "# Filtrar datos para considerar solo las ventas totales a partir del año 2000\n",
    "\n",
    "df_filtered_games_sales_years = df_games[df_games['year_of_release'] >= 2000]\n",
    "\n",
    "(df_filtered_games_sales_years.head())"
   ]
  },
  {
   "cell_type": "code",
   "execution_count": 17,
   "metadata": {},
   "outputs": [
    {
     "data": {
      "text/html": [
       "<div>\n",
       "<style scoped>\n",
       "    .dataframe tbody tr th:only-of-type {\n",
       "        vertical-align: middle;\n",
       "    }\n",
       "\n",
       "    .dataframe tbody tr th {\n",
       "        vertical-align: top;\n",
       "    }\n",
       "\n",
       "    .dataframe thead th {\n",
       "        text-align: right;\n",
       "    }\n",
       "</style>\n",
       "<table border=\"1\" class=\"dataframe\">\n",
       "  <thead>\n",
       "    <tr style=\"text-align: right;\">\n",
       "      <th></th>\n",
       "      <th>platform</th>\n",
       "      <th>total_sales</th>\n",
       "    </tr>\n",
       "  </thead>\n",
       "  <tbody>\n",
       "    <tr>\n",
       "      <th>0</th>\n",
       "      <td>PS2</td>\n",
       "      <td>1233.56</td>\n",
       "    </tr>\n",
       "    <tr>\n",
       "      <th>1</th>\n",
       "      <td>X360</td>\n",
       "      <td>961.24</td>\n",
       "    </tr>\n",
       "    <tr>\n",
       "      <th>2</th>\n",
       "      <td>PS3</td>\n",
       "      <td>931.34</td>\n",
       "    </tr>\n",
       "    <tr>\n",
       "      <th>3</th>\n",
       "      <td>Wii</td>\n",
       "      <td>891.18</td>\n",
       "    </tr>\n",
       "    <tr>\n",
       "      <th>4</th>\n",
       "      <td>DS</td>\n",
       "      <td>802.76</td>\n",
       "    </tr>\n",
       "    <tr>\n",
       "      <th>5</th>\n",
       "      <td>PS4</td>\n",
       "      <td>314.14</td>\n",
       "    </tr>\n",
       "    <tr>\n",
       "      <th>6</th>\n",
       "      <td>GBA</td>\n",
       "      <td>312.88</td>\n",
       "    </tr>\n",
       "    <tr>\n",
       "      <th>7</th>\n",
       "      <td>PSP</td>\n",
       "      <td>289.53</td>\n",
       "    </tr>\n",
       "    <tr>\n",
       "      <th>8</th>\n",
       "      <td>3DS</td>\n",
       "      <td>257.81</td>\n",
       "    </tr>\n",
       "    <tr>\n",
       "      <th>9</th>\n",
       "      <td>XB</td>\n",
       "      <td>251.57</td>\n",
       "    </tr>\n",
       "  </tbody>\n",
       "</table>\n",
       "</div>"
      ],
      "text/plain": [
       "  platform  total_sales\n",
       "0      PS2      1233.56\n",
       "1     X360       961.24\n",
       "2      PS3       931.34\n",
       "3      Wii       891.18\n",
       "4       DS       802.76\n",
       "5      PS4       314.14\n",
       "6      GBA       312.88\n",
       "7      PSP       289.53\n",
       "8      3DS       257.81\n",
       "9       XB       251.57"
      ]
     },
     "execution_count": 17,
     "metadata": {},
     "output_type": "execute_result"
    }
   ],
   "source": [
    "# Calcular las ventas totales por plataforma\n",
    "platform_sales = df_filtered_games_sales_years.groupby('platform')['total_sales'].sum().sort_values(ascending=False)\n",
    "\n",
    "# Seleccionar las 10 plataformas principales por ventas totales\n",
    "df_top_10_platforms = platform_sales.head(10)\n",
    "\n",
    "# Guardar las 10 plataformas en un dataframe\n",
    "df_top_10_platforms = df_top_10_platforms.reset_index()\n",
    "\n",
    "# Mostrar el dataframe con las 10 plataformas con mayores ventas totales\n",
    "(df_top_10_platforms)\n"
   ]
  },
  {
   "cell_type": "code",
   "execution_count": 18,
   "metadata": {},
   "outputs": [
    {
     "data": {
      "image/png": "[encoded data removed]",
      "text/plain": [
       "<Figure size 2000x800 with 1 Axes>"
      ]
     },
     "metadata": {},
     "output_type": "display_data"
    }
   ],
   "source": [
    "# Distribución de las 10 plataformas con mayores ventas totales a partir del año 2000\n",
    "\n",
    "# Definir la paleta de colores\n",
    "palette = sns.color_palette(\"tab10\", len(df_top_10_platforms))\n",
    "\n",
    "plt.figure(figsize=(20, 8))\n",
    "\n",
    "# Graficar cada plataforma con su color correspondiente\n",
    "for i, platform in enumerate(df_top_10_platforms['platform']):\n",
    "    platform_data = df_filtered_games_sales_years[df_filtered_games_sales_years['platform'] == platform]\n",
    "    sns.histplot(platform_data['year_of_release'], kde=False, label=platform, bins=15, color=palette[i], alpha=0.7)\n",
    "\n",
    "# Título y etiquetas\n",
    "plt.title('Distribución de ventas por año para las 10 plataformas más populares')\n",
    "plt.xlabel('Año')\n",
    "plt.ylabel('Ventas por año (en millones)')\n",
    "plt.legend(title='Plataformas')\n",
    "plt.xticks(rotation=45)\n",
    "\n",
    "# Mostrar el gráfico\n",
    "plt.show()"
   ]
  },
  {
   "cell_type": "markdown",
   "metadata": {},
   "source": [
    "**Comentarios**\n",
    "\n",
    "En la distribución de ventas por año para las 10 plataformas más populares, se observan varios patrones interesantes:\n",
    "- PS2 (PlayStation 2) domina claramente las ventas durante los primeros años (2000-2006).\n",
    "\n",
    "- Wii, Xbox 360 y PS3 empiezan a ganar terreno a partir del 2006-2007, en la generación de consolas posterior a PS2. Especialmente notable es el crecimiento de la Wii y el Xbox 360 en este periodo, con picos de ventas alrededor de 2008.\n",
    "\n",
    "- DS (Nintendo DS) también tiene un período de ventas notable alrededor de 2008-2010, lo que refleja la popularidad de esta consola portátil de Nintendo.\n",
    "\n",
    "- A partir de 2012, vemos una caída generalizada en las ventas de consolas como Wii, DS, PSP y PS2, lo que indica que estas plataformas están alcanzando el final de su ciclo de vida. Esto es natural, ya que las nuevas generaciones de consolas (como PS4 y Xbox One) empiezan a tomar el relevo.\n",
    "\n",
    "- PS4 y 3DS son las plataformas más destacadas en los últimos años de la gráfica (2014-2016), lo que refleja el lanzamiento y éxito de la nueva generación de consolas de Sony y Nintendo en ese periodo."
   ]
  },
  {
   "cell_type": "markdown",
   "metadata": {},
   "source": [
    "#### Busca las plataformas que solían ser populares pero que ahora no tienen ventas. ¿Cuánto tardan generalmente las nuevas plataformas en aparecer y las antiguas en desaparecer? "
   ]
  },
  {
   "cell_type": "code",
   "execution_count": 19,
   "metadata": {
    "scrolled": false
   },
   "outputs": [
    {
     "data": {
      "text/plain": [
       "platform\n",
       "PS2     1233.56\n",
       "X360     961.24\n",
       "PS3      931.34\n",
       "Wii      891.18\n",
       "DS       802.76\n",
       "PS4      314.14\n",
       "GBA      312.88\n",
       "PSP      289.53\n",
       "3DS      257.81\n",
       "XB       251.57\n",
       "PC       205.72\n",
       "GC       196.73\n",
       "XOne     159.32\n",
       "PS       140.70\n",
       "WiiU      82.19\n",
       "PSV       53.81\n",
       "N64       37.30\n",
       "GB        29.00\n",
       "DC         7.41\n",
       "WS         0.96\n",
       "Name: total_sales, dtype: float64"
      ]
     },
     "execution_count": 19,
     "metadata": {},
     "output_type": "execute_result"
    }
   ],
   "source": [
    "(platform_sales)"
   ]
  },
  {
   "cell_type": "code",
   "execution_count": 20,
   "metadata": {},
   "outputs": [],
   "source": [
    "df_botton_8_platforms = ['WS', 'DC', 'GB', 'N64', 'PSV', 'WiiU', 'PS', 'GC'] # No se considera la plataforma XOne ya que es un modelo reciente"
   ]
  },
  {
   "cell_type": "code",
   "execution_count": 21,
   "metadata": {},
   "outputs": [
    {
     "data": {
      "text/html": [
       "<div>\n",
       "<style scoped>\n",
       "    .dataframe tbody tr th:only-of-type {\n",
       "        vertical-align: middle;\n",
       "    }\n",
       "\n",
       "    .dataframe tbody tr th {\n",
       "        vertical-align: top;\n",
       "    }\n",
       "\n",
       "    .dataframe thead th {\n",
       "        text-align: right;\n",
       "    }\n",
       "</style>\n",
       "<table border=\"1\" class=\"dataframe\">\n",
       "  <thead>\n",
       "    <tr style=\"text-align: right;\">\n",
       "      <th></th>\n",
       "      <th>year_of_release</th>\n",
       "      <th>platform</th>\n",
       "      <th>total_sales</th>\n",
       "    </tr>\n",
       "  </thead>\n",
       "  <tbody>\n",
       "    <tr>\n",
       "      <th>0</th>\n",
       "      <td>2000</td>\n",
       "      <td>DC</td>\n",
       "      <td>5.99</td>\n",
       "    </tr>\n",
       "    <tr>\n",
       "      <th>1</th>\n",
       "      <td>2000</td>\n",
       "      <td>GB</td>\n",
       "      <td>19.76</td>\n",
       "    </tr>\n",
       "    <tr>\n",
       "      <th>2</th>\n",
       "      <td>2000</td>\n",
       "      <td>N64</td>\n",
       "      <td>33.97</td>\n",
       "    </tr>\n",
       "    <tr>\n",
       "      <th>3</th>\n",
       "      <td>2000</td>\n",
       "      <td>PS</td>\n",
       "      <td>96.37</td>\n",
       "    </tr>\n",
       "    <tr>\n",
       "      <th>4</th>\n",
       "      <td>2000</td>\n",
       "      <td>WS</td>\n",
       "      <td>0.68</td>\n",
       "    </tr>\n",
       "  </tbody>\n",
       "</table>\n",
       "</div>"
      ],
      "text/plain": [
       "   year_of_release platform  total_sales\n",
       "0             2000       DC         5.99\n",
       "1             2000       GB        19.76\n",
       "2             2000      N64        33.97\n",
       "3             2000       PS        96.37\n",
       "4             2000       WS         0.68"
      ]
     },
     "execution_count": 21,
     "metadata": {},
     "output_type": "execute_result"
    }
   ],
   "source": [
    "df_platforms_life_cycle = df_filtered_games_sales_years[df_filtered_games_sales_years['platform'].isin(df_botton_8_platforms)].groupby(['year_of_release','platform'])['total_sales'].sum().reset_index() \n",
    "\n",
    "(df_platforms_life_cycle.head())"
   ]
  },
  {
   "cell_type": "code",
   "execution_count": 22,
   "metadata": {},
   "outputs": [
    {
     "data": {
      "image/png": "[encoded data removed]",
      "text/plain": [
       "<Figure size 2000x500 with 1 Axes>"
      ]
     },
     "metadata": {},
     "output_type": "display_data"
    }
   ],
   "source": [
    "# Generar gráfico con la información del dataframe:\n",
    "plt.figure(figsize=(20,5))\n",
    "sns.lineplot(data = df_platforms_life_cycle, x = 'year_of_release', y = 'total_sales', hue = 'platform')\n",
    "\n",
    "# Título y etiquetas\n",
    "plt.title('Diagrama Lineal del Ciclo de Vida por Plataforma')\n",
    "plt.xlabel('Plataformas')\n",
    "plt.ylabel('Ventas Totales (en millones)')\n",
    "\n",
    "# Mostrar el gráfico\n",
    "plt.show()"
   ]
  },
  {
   "cell_type": "markdown",
   "metadata": {},
   "source": [
    "**Comentarios**\n",
    "\n",
    "- Las plataformas clásicas (como PS, N64 y GB) tuvieron picos rápidos en ventas, seguidos de un declive abrupto.\n",
    "- Las plataformas más recientes en el gráfico, como WiiU y PSV, tuvieron un ciclo de vida más prolongado, con ventas más distribuidas a lo largo del tiempo.\n",
    "- Generalmente, las plataformas pueden durar entre 5 a 10 años antes de ser reemplazadas por nuevas generaciones como es el caso de PS. Sin embargo, algunas plataformas pueden durar más tiempo si mantienen su relevancia, pero al final, todas alcanzan su punto de declive debido a que ya no se mantuvieron en el mercado activo."
   ]
  },
  {
   "cell_type": "markdown",
   "metadata": {},
   "source": [
    "#### Crea un diagrama de caja para las ventas globales de todos los juegos desglosados por plataforma.\n",
    "\n",
    "- ¿Son significativas las diferencias en las ventas?\n",
    "- ¿Qué sucede con las ventas promedio en varias plataformas? Describe tus hallazgos.\n"
   ]
  },
  {
   "cell_type": "code",
   "execution_count": 23,
   "metadata": {
    "scrolled": false
   },
   "outputs": [
    {
     "data": {
      "image/png": "[encoded data removed]",
      "text/plain": [
       "<Figure size 1200x500 with 1 Axes>"
      ]
     },
     "metadata": {},
     "output_type": "display_data"
    }
   ],
   "source": [
    "# Crear el diagrama de caja (boxplot) para visualizar la distribución de ventas por plataforma a partir del año 2000\n",
    "plt.figure(figsize=(12, 5))\n",
    "sns.boxplot(x='platform', y='total_sales', data=df_filtered_games_sales_years)\n",
    "\n",
    "# Título y etiquetas\n",
    "plt.title('Diagrama de Caja para las Ventas Globales por Plataforma')\n",
    "plt.xlabel('Plataformas')\n",
    "plt.ylabel('Ventas Totales (en millones)')\n",
    "plt.xticks(rotation=45)\n",
    "\n",
    "# Mostrar el gráfico\n",
    "plt.show()"
   ]
  },
  {
   "cell_type": "markdown",
   "metadata": {},
   "source": [
    "**Comentarios**\n",
    "\n",
    "- Las plataformas más nuevas y exitosas (como Wii, DS, X360) tienden a tener tanto ventas promedio más altas como una mayor dispersión de las ventas. Esto sugiere que estas plataformas han tenido tanto títulos exitosos como otros con menos impacto.\n",
    "- Plataformas clásicas como PS, GB, N64, y DC tienen una dispersión de ventas mucho más reducida, lo que indica que, en promedio, los juegos no alcanzaron ventas tan altas en comparación con las plataformas más modernas.\n",
    "- Las plataformas menos populares tienen ventas muy bajas, con la mayoría de los juegos vendiendo cantidades modestas, sin valores atípicos significativos que las hubieran destacado."
   ]
  },
  {
   "cell_type": "markdown",
   "metadata": {},
   "source": [
    "#### Mira cómo las reseñas de usuarios y profesionales afectan las ventas de una plataforma popular (tu elección).\n",
    "\n",
    "Crea un gráfico de dispersión y calcula la correlación entre las reseñas y las ventas. Saca conclusiones."
   ]
  },
  {
   "cell_type": "code",
   "execution_count": 24,
   "metadata": {},
   "outputs": [
    {
     "data": {
      "image/png": "[encoded data removed]",
      "text/plain": [
       "<Figure size 1000x600 with 1 Axes>"
      ]
     },
     "metadata": {},
     "output_type": "display_data"
    },
    {
     "data": {
      "image/png": "[encoded data removed]",
      "text/plain": [
       "<Figure size 1000x600 with 1 Axes>"
      ]
     },
     "metadata": {},
     "output_type": "display_data"
    },
    {
     "name": "stdout",
     "output_type": "stream",
     "text": [
      "Correlación entre puntuación de usuarios y ventas: 0.11\n",
      "Correlación entre puntuación de críticos y ventas: 0.39\n"
     ]
    }
   ],
   "source": [
    "# Filtrar los datos para la plataforma X360\n",
    "x360_games = df_filtered_games_sales_years[df_filtered_games_sales_years['platform'] == 'X360']\n",
    "\n",
    "# Eliminar filas con valores nulos en reseñas o ventas\n",
    "x360_games = x360_games.dropna(subset=['user_score', 'critic_score', 'total_sales'])\n",
    "\n",
    "# Crear gráfico de dispersión para la relación entre reseñas de usuarios y ventas globales\n",
    "plt.figure(figsize=(10, 6))\n",
    "sns.scatterplot(x='user_score', y='total_sales', data=x360_games, color='blue', label='User Score')\n",
    "plt.title('Relación entre Reseñas de Usuarios y Ventas en X360')\n",
    "plt.xlabel('Puntuación de Usuarios')\n",
    "plt.ylabel('Ventas Totales (millones)')\n",
    "plt.show()\n",
    "\n",
    "# Crear gráfico de dispersión para la relación entre reseñas de críticos y ventas globales\n",
    "plt.figure(figsize=(10, 6))\n",
    "sns.scatterplot(x='critic_score', y='total_sales', data=x360_games, color='green', label='Critic Score')\n",
    "plt.title('Relación entre Reseñas de Críticos y Ventas en X360')\n",
    "plt.xlabel('Puntuación de Críticos')\n",
    "plt.ylabel('Ventas Totales (millones)')\n",
    "plt.show()\n",
    "\n",
    "# Calcular la correlación entre reseñas de usuarios y ventas\n",
    "user_corr, _ = st.pearsonr(x360_games['user_score'], x360_games['total_sales'])\n",
    "print(f'Correlación entre puntuación de usuarios y ventas: {user_corr:.2f}')\n",
    "\n",
    "# Calcular la correlación entre reseñas de críticos y ventas\n",
    "critic_corr, _ = st.pearsonr(x360_games['critic_score'], x360_games['total_sales'])\n",
    "print(f'Correlación entre puntuación de críticos y ventas: {critic_corr:.2f}')\n"
   ]
  },
  {
   "cell_type": "markdown",
   "metadata": {},
   "source": [
    "**Comentarios**\n",
    "\n",
    "- El gráfico *'Relación entre Reseñas de Usuarios y Ventas en X360'* sugiere que las puntuaciones de usuarios no tienen una correlación lineal fuerte con las ventas de los juegos en la plataforma X360 ya que no hay una tendencia clara que indique que un juego con una mejor puntuación siempre se vende mejor.\n",
    "- El gráfico *'Relación entre Reseñas de Críticos y Ventas en X360'* sugiere que las puntuaciones de criticos tiene una ligera correlación lineal con las ventas de los juegos en la plataforma X360 aunque no lo suficientemente fuerte como para considerar que sea una variable que afecte las ventas de las plataformas.\n"
   ]
  },
  {
   "cell_type": "markdown",
   "metadata": {},
   "source": [
    "#### Teniendo en cuenta tus conclusiones compara las ventas de los mismos juegos en otras plataformas.\n",
    "\n",
    "\n"
   ]
  },
  {
   "cell_type": "code",
   "execution_count": 25,
   "metadata": {
    "scrolled": false
   },
   "outputs": [
    {
     "data": {
      "image/png": "[encoded data removed]",
      "text/plain": [
       "<Figure size 1200x500 with 1 Axes>"
      ]
     },
     "metadata": {},
     "output_type": "display_data"
    },
    {
     "name": "stdout",
     "output_type": "stream",
     "text": [
      "platform\n",
      "GEN     3.016667\n",
      "N64     1.930000\n",
      "PS      1.523333\n",
      "PS4     1.477345\n",
      "SNES    1.380000\n",
      "PS3     0.864473\n",
      "PS2     0.813153\n",
      "XOne    0.803125\n",
      "X360    0.780861\n",
      "Wii     0.635925\n",
      "XB      0.432051\n",
      "DS      0.412105\n",
      "PSP     0.396968\n",
      "GBA     0.331429\n",
      "WiiU    0.267971\n",
      "GC      0.267273\n",
      "3DS     0.263529\n",
      "PSV     0.252340\n",
      "PC      0.252310\n",
      "Name: total_sales, dtype: float64\n"
     ]
    }
   ],
   "source": [
    "# Filtrar los juegos disponibles en la plataforma X360\n",
    "x360_games = df_filtered_games_sales_years[df_filtered_games_sales_years['platform'] == 'X360']\n",
    "\n",
    "# Filtrar los juegos que están disponibles en más de una plataforma (mismos nombres)\n",
    "common_games = df_games[df_games['name'].isin(x360_games['name'])]\n",
    "\n",
    "# Agrupar por nombre de juego y plataforma, y sumar las ventas totales para cada combinación\n",
    "game_sales_by_platform = common_games.groupby(['name', 'platform'])['total_sales'].sum().reset_index()\n",
    "\n",
    "# Crear un gráfico de comparación para ventas de los mismos juegos en diferentes plataformas\n",
    "plt.figure(figsize=(12, 5))\n",
    "sns.boxplot(x='platform', y='total_sales', data=game_sales_by_platform)\n",
    "plt.title('Comparación de Ventas para Juegos en Múltiples Plataformas')\n",
    "plt.xlabel('Plataforma')\n",
    "plt.ylabel('Ventas Totales (millones)')\n",
    "plt.xticks(rotation=45)\n",
    "plt.show()\n",
    "\n",
    "# Resumir las ventas promedio por plataforma para los juegos comunes\n",
    "average_sales_by_platform = game_sales_by_platform.groupby('platform')['total_sales'].mean().sort_values(ascending=False)\n",
    "\n",
    "print(average_sales_by_platform)\n"
   ]
  },
  {
   "cell_type": "markdown",
   "metadata": {},
   "source": [
    "**Comentarios**"
   ]
  },
  {
   "cell_type": "markdown",
   "metadata": {},
   "source": [
    "- Hay una gran desigualdad en la distribución de ventas de los videojuegos: unas pocas plataformas dominan en términos de éxitos masivos.\n",
    "- El éxito de un juego depende más de la plataforma: Wii, PS2, PS3 y X360 tuvieron muchos juegos de alto rendimiento.\n",
    "- Algunas plataformas tienen ventas más consistentes, como es el caso de PC y PS4, mientras que otras dependen más de unos pocos juegos exitosos.\n",
    "\n",
    "Este análisis confirma la tendencia de que solo un pequeño porcentaje de juegos logran ventas masivas, lo que enfatiza la importancia de franquicias exitosas y títulos exclusivos en cada plataforma."
   ]
  },
  {
   "cell_type": "markdown",
   "metadata": {},
   "source": [
    "#### Echa un vistazo a la distribución general de los juegos por género. ¿Qué se puede decir de los géneros más rentables? ¿Puedes generalizar acerca de los géneros con ventas altas y bajas?"
   ]
  },
  {
   "cell_type": "code",
   "execution_count": 26,
   "metadata": {},
   "outputs": [
    {
     "name": "stdout",
     "output_type": "stream",
     "text": [
      "genre\n",
      "Action          1526.16\n",
      "Sports          1130.92\n",
      "Shooter          912.70\n",
      "Role-Playing     731.22\n",
      "Misc             718.35\n",
      "Racing           561.06\n",
      "Platform         494.42\n",
      "Simulation       335.41\n",
      "Fighting         311.90\n",
      "Adventure        183.74\n",
      "Puzzle           138.20\n",
      "Strategy         115.07\n",
      "Name: total_sales, dtype: float64\n"
     ]
    },
    {
     "data": {
      "image/png": "[encoded data removed]",
      "text/plain": [
       "<Figure size 1200x600 with 1 Axes>"
      ]
     },
     "metadata": {},
     "output_type": "display_data"
    }
   ],
   "source": [
    "# Agrupar por género y calcular las ventas totales\n",
    "genre_sales = df_filtered_games_sales_years.groupby('genre')['total_sales'].sum().sort_values(ascending=False)\n",
    "\n",
    "print(genre_sales)\n",
    "\n",
    "# Crear un gráfico de barras para visualizar las ventas por género\n",
    "plt.figure(figsize=(12, 6))\n",
    "sns.barplot(x=genre_sales.index, y=genre_sales.values, palette=\"viridis\")\n",
    "plt.title('Ventas Totales por Género')\n",
    "plt.xlabel('Género')\n",
    "plt.ylabel('Ventas Totales (millones)')\n",
    "plt.xticks(rotation=45)\n",
    "plt.show()\n"
   ]
  },
  {
   "cell_type": "markdown",
   "metadata": {},
   "source": [
    "**Comentarios**\n",
    "\n",
    "- Como se observa en el gráfico, los juegos de Acción cuentan con las mayores ventas con ganancias de más de 1500 millones.\n",
    "- Los siguientes géneros en el ranking corresponden a juegos de Deportes y Shooter con ventan significativas pero un tanto lejos del total de los juegos de Acción ya que éstos géneros se encuentran entre los 1100 y 900 millones, lo cual es una diferencia significativa en comparación de las ventas de los juegos de Acción.\n",
    "- Los géneros Role-Playing y Misc han generado ventas casi similares por alrededor de 700 millones lo cual no es tan malo pero se encuentra bastante alejado de las ventas de los 3 principales géneros."
   ]
  },
  {
   "cell_type": "markdown",
   "metadata": {},
   "source": [
    "## Paso 4. Crea un perfil de usuario para cada región"
   ]
  },
  {
   "cell_type": "markdown",
   "metadata": {},
   "source": [
    "### Para cada región (NA, EU, JP) determina: \n",
    "\n",
    "#### Las cinco plataformas principales. Describe las variaciones en sus cuotas de mercado de una región a otra.\n"
   ]
  },
  {
   "cell_type": "code",
   "execution_count": 27,
   "metadata": {},
   "outputs": [
    {
     "name": "stdout",
     "output_type": "stream",
     "text": [
      "Principales plataformas en Norteamérica (NA):\n",
      "platform\n",
      "X360    602.47\n",
      "PS2     583.84\n",
      "Wii     496.90\n",
      "PS3     393.49\n",
      "DS      382.40\n",
      "Name: na_sales, dtype: float64\n",
      "\n",
      "Principales plataformas en Europa (EU):\n",
      "platform\n",
      "PS2     339.29\n",
      "PS3     330.29\n",
      "X360    270.76\n",
      "Wii     262.21\n",
      "PS      213.61\n",
      "Name: eu_sales, dtype: float64\n",
      "\n",
      "Principales plataformas en Japón (JP):\n",
      "platform\n",
      "DS      175.57\n",
      "PS      139.82\n",
      "PS2     139.20\n",
      "SNES    116.55\n",
      "3DS     100.67\n",
      "Name: jp_sales, dtype: float64\n"
     ]
    }
   ],
   "source": [
    "# Agrupar por plataforma y región para calcular las ventas totales en cada región\n",
    "na_sales = df_games.groupby('platform')['na_sales'].sum().sort_values(ascending=False).head(5)\n",
    "eu_sales = df_games.groupby('platform')['eu_sales'].sum().sort_values(ascending=False).head(5)\n",
    "jp_sales = df_games.groupby('platform')['jp_sales'].sum().sort_values(ascending=False).head(5)\n",
    "\n",
    "# Mostrar las 5 plataformas principales en cada región\n",
    "print(\"Principales plataformas en Norteamérica (NA):\")\n",
    "print(na_sales)\n",
    "\n",
    "print(\"\\nPrincipales plataformas en Europa (EU):\")\n",
    "print(eu_sales)\n",
    "\n",
    "print(\"\\nPrincipales plataformas en Japón (JP):\")\n",
    "print(jp_sales) "
   ]
  },
  {
   "cell_type": "code",
   "execution_count": 28,
   "metadata": {},
   "outputs": [
    {
     "data": {
      "image/png": "[encoded data removed]",
      "text/plain": [
       "<Figure size 1800x600 with 3 Axes>"
      ]
     },
     "metadata": {},
     "output_type": "display_data"
    }
   ],
   "source": [
    "# Visualización de las cuotas de mercado\n",
    "fig, axes = plt.subplots(1, 3, figsize=(18, 6), sharey=True)\n",
    "\n",
    "# Norteamérica\n",
    "sns.barplot(x=na_sales.index, y=na_sales.values, ax=axes[0], palette=\"Blues_d\")\n",
    "axes[0].set_title('Cuotas de Mercado en Norteamérica (NA)')\n",
    "axes[0].set_xlabel('Plataforma')\n",
    "axes[0].set_ylabel('Ventas (millones)')\n",
    "\n",
    "# Europa\n",
    "sns.barplot(x=eu_sales.index, y=eu_sales.values, ax=axes[1], palette=\"Greens_d\")\n",
    "axes[1].set_title('Cuotas de Mercado en Europa (EU)')\n",
    "axes[1].set_xlabel('Plataforma')\n",
    "\n",
    "# Japón\n",
    "sns.barplot(x=jp_sales.index, y=jp_sales.values, ax=axes[2], palette=\"Reds_d\")\n",
    "axes[2].set_title('Cuotas de Mercado en Japón (JP)')\n",
    "axes[2].set_xlabel('Plataforma')\n",
    "\n",
    "plt.tight_layout()\n",
    "plt.show()"
   ]
  },
  {
   "cell_type": "markdown",
   "metadata": {},
   "source": [
    "**Comentarios**\n",
    "\n",
    "Para la región de Norteamérica observamos que las dos plataformas con mayor número de ventas totales son X360 y PS2, ambas con poco más del 16% del mercado.\n",
    "\n",
    "Respecto a Europa, las dos plataformas con mayor número de ventas totales son PS2 y PS3, cada una con casi el 16% del mercado.\n",
    "Esto indica que los usuarios para ambas regiones tienen preferencias similares en cuanto a las plataformas que suelen adquirir.\n",
    "\n",
    "En el caso de la región de Japón, la plataforma con mayor número de ventas totales es la DS con poco más del 21% del mercado.\n",
    "\n",
    "Podemos observar que los usuarios en la región Japón tiene una ligera preferencia por las consolas portátiles (DS y 3DS) pero la plataforma PS2 se posiciona como la segunda favorita del mercado.\n"
   ]
  },
  {
   "cell_type": "markdown",
   "metadata": {},
   "source": [
    "#### Los cinco géneros principales. Explica la diferencia.\n"
   ]
  },
  {
   "cell_type": "code",
   "execution_count": 29,
   "metadata": {},
   "outputs": [
    {
     "name": "stdout",
     "output_type": "stream",
     "text": [
      "Principales géneros en Norteamérica (NA):\n",
      "genre\n",
      "Action          752.27\n",
      "Sports          589.39\n",
      "Shooter         495.23\n",
      "Misc            365.27\n",
      "Role-Playing    282.30\n",
      "Name: na_sales, dtype: float64\n",
      "\n",
      "Principales géneros en Europa (EU):\n",
      "genre\n",
      "Action     466.58\n",
      "Sports     339.58\n",
      "Shooter    294.02\n",
      "Misc       196.71\n",
      "Racing     192.02\n",
      "Name: eu_sales, dtype: float64\n",
      "\n",
      "Principales géneros en Japón (JP):\n",
      "genre\n",
      "Role-Playing    241.71\n",
      "Action          132.23\n",
      "Misc             85.43\n",
      "Sports           75.88\n",
      "Platform         55.27\n",
      "Name: jp_sales, dtype: float64\n"
     ]
    }
   ],
   "source": [
    "# Agrupar por género y región para calcular las ventas totales en cada región\n",
    "na_genres = df_filtered_games_sales_years.groupby('genre')['na_sales'].sum().sort_values(ascending=False).head(5)\n",
    "eu_genres = df_filtered_games_sales_years.groupby('genre')['eu_sales'].sum().sort_values(ascending=False).head(5)\n",
    "jp_genres = df_filtered_games_sales_years.groupby('genre')['jp_sales'].sum().sort_values(ascending=False).head(5)\n",
    "\n",
    "# Mostrar los 5 géneros principales en cada región\n",
    "print(\"Principales géneros en Norteamérica (NA):\")\n",
    "print(na_genres)\n",
    "\n",
    "print(\"\\nPrincipales géneros en Europa (EU):\")\n",
    "print(eu_genres)\n",
    "\n",
    "print(\"\\nPrincipales géneros en Japón (JP):\")\n",
    "print(jp_genres) "
   ]
  },
  {
   "cell_type": "code",
   "execution_count": 30,
   "metadata": {},
   "outputs": [
    {
     "data": {
      "image/png": "[encoded data removed]",
      "text/plain": [
       "<Figure size 1800x600 with 3 Axes>"
      ]
     },
     "metadata": {},
     "output_type": "display_data"
    }
   ],
   "source": [
    "# Visualización de las cuotas de mercado por género\n",
    "fig, axes = plt.subplots(1, 3, figsize=(18, 6), sharey=True)\n",
    "\n",
    "# Norteamérica\n",
    "sns.barplot(x=na_genres.index, y=na_genres.values, ax=axes[0], palette=\"Blues_d\")\n",
    "axes[0].set_title('Cuotas de Mercado por Género en Norteamérica (NA)')\n",
    "axes[0].set_xlabel('Género')\n",
    "axes[0].set_ylabel('Ventas (millones)')\n",
    "\n",
    "# Europa\n",
    "sns.barplot(x=eu_genres.index, y=eu_genres.values, ax=axes[1], palette=\"Greens_d\")\n",
    "axes[1].set_title('Cuotas de Mercado por Género en Europa (EU)')\n",
    "axes[1].set_xlabel('Género')\n",
    "\n",
    "# Japón\n",
    "sns.barplot(x=jp_genres.index, y=jp_genres.values, ax=axes[2], palette=\"Reds_d\")\n",
    "axes[2].set_title('Cuotas de Mercado por Género en Japón (JP)')\n",
    "axes[2].set_xlabel('Género')\n",
    "\n",
    "plt.tight_layout()\n",
    "plt.show()"
   ]
  },
  {
   "cell_type": "markdown",
   "metadata": {},
   "source": [
    "**Comentarios**\n",
    "\n",
    "Nuevamente encontramos que las preferencias para las regiones de Norteamérica y Europa son similares ya que Acción, Deportes y Disparos suelen ser géneros dominantes para ambas regiones.\n",
    "\n",
    "En el caso de Japón, la tendencia se inclina en favor del género Role-Playing seguido por los juegos de Acción."
   ]
  },
  {
   "cell_type": "markdown",
   "metadata": {},
   "source": [
    "#### Si las clasificaciones de ESRB afectan a las ventas en regiones individuales."
   ]
  },
  {
   "cell_type": "code",
   "execution_count": 31,
   "metadata": {},
   "outputs": [
    {
     "name": "stdout",
     "output_type": "stream",
     "text": [
      "Impacto de ESRB en Norteamérica (NA):\n",
      "rating\n",
      "E       1249.26\n",
      "M        727.80\n",
      "T        709.86\n",
      "E10+     345.50\n",
      "EC         1.53\n",
      "AO         1.26\n",
      "RP         0.00\n",
      "Name: na_sales, dtype: float64\n",
      "\n",
      "Impacto de ESRB en Europa (EU):\n",
      "rating\n",
      "E       690.61\n",
      "M       472.40\n",
      "T       392.71\n",
      "E10+    183.33\n",
      "AO        0.61\n",
      "EC        0.11\n",
      "RP        0.03\n",
      "Name: eu_sales, dtype: float64\n",
      "\n",
      "Impacto de ESRB en Japón (JP):\n",
      "rating\n",
      "E       189.91\n",
      "T       131.01\n",
      "M        57.84\n",
      "E10+     40.20\n",
      "AO        0.00\n",
      "EC        0.00\n",
      "RP        0.00\n",
      "Name: jp_sales, dtype: float64\n"
     ]
    }
   ],
   "source": [
    "# Agrupar por clasificación ESRB y región para calcular las ventas totales\n",
    "na_esrb = df_filtered_games_sales_years.groupby('rating')['na_sales'].sum().sort_values(ascending=False)\n",
    "eu_esrb = df_filtered_games_sales_years.groupby('rating')['eu_sales'].sum().sort_values(ascending=False)\n",
    "jp_esrb = df_filtered_games_sales_years.groupby('rating')['jp_sales'].sum().sort_values(ascending=False)\n",
    "\n",
    "# Mostrar el impacto de las clasificaciones ESRB en cada región\n",
    "print(\"Impacto de ESRB en Norteamérica (NA):\")\n",
    "print(na_esrb)\n",
    "\n",
    "print(\"\\nImpacto de ESRB en Europa (EU):\")\n",
    "print(eu_esrb)\n",
    "\n",
    "print(\"\\nImpacto de ESRB en Japón (JP):\")\n",
    "print(jp_esrb)"
   ]
  },
  {
   "cell_type": "code",
   "execution_count": 32,
   "metadata": {},
   "outputs": [
    {
     "data": {
      "image/png": "[encoded data removed]",
      "text/plain": [
       "<Figure size 1800x600 with 3 Axes>"
      ]
     },
     "metadata": {},
     "output_type": "display_data"
    }
   ],
   "source": [
    "# Visualización del impacto de ESRB en cada región\n",
    "fig, axes = plt.subplots(1, 3, figsize=(18, 6), sharey=True)\n",
    "\n",
    "# Norteamérica\n",
    "sns.barplot(x=na_esrb.index, y=na_esrb.values, ax=axes[0], palette=\"Blues_d\")\n",
    "axes[0].set_title('Impacto de ESRB en Norteamérica (NA)')\n",
    "axes[0].set_xlabel('Clasificación ESRB')\n",
    "axes[0].set_ylabel('Ventas (millones)')\n",
    "\n",
    "# Europa\n",
    "sns.barplot(x=eu_esrb.index, y=eu_esrb.values, ax=axes[1], palette=\"Greens_d\")\n",
    "axes[1].set_title('Impacto de ESRB en Europa (EU)')\n",
    "axes[1].set_xlabel('Clasificación ESRB')\n",
    "\n",
    "# Japón\n",
    "sns.barplot(x=jp_esrb.index, y=jp_esrb.values, ax=axes[2], palette=\"Reds_d\")\n",
    "axes[2].set_title('Impacto de ESRB en Japón (JP)')\n",
    "axes[2].set_xlabel('Clasificación ESRB')\n",
    "\n",
    "plt.tight_layout()\n",
    "plt.show()"
   ]
  },
  {
   "cell_type": "markdown",
   "metadata": {},
   "source": [
    "**Comentarios**\n",
    "\n",
    "Norteamérica y Europa muestran patrones similares, con una clara preferencia por los juegos clasificados como E, pero con una fuerte presencia de juegos para adultos (M) y adolescentes (T).\n",
    "\n",
    "Japón, por otro lado, tiene un mercado considerablemente más pequeño para juegos clasificados bajo ESRB, con una menor demanda de juegos para adultos y adolescentes comparado con NA y EU.\n",
    "\n",
    "Las clasificaciones AO,EC y RP tienen ventas casi inexistentes en todas las regiones, lo que sugiere que estos tipos de juegos tienen una demanda muy baja a nivel global."
   ]
  },
  {
   "cell_type": "markdown",
   "metadata": {},
   "source": [
    "## Paso 5. Prueba las siguientes hipótesis:\n"
   ]
  },
  {
   "cell_type": "markdown",
   "metadata": {},
   "source": [
    "### Las calificaciones promedio de los usuarios para las plataformas Xbox One y PC son las mismas.\n",
    "\n",
    "Establece tu mismo el valor de umbral alfa.\n"
   ]
  },
  {
   "cell_type": "markdown",
   "metadata": {},
   "source": [
    "**Hipótesis 1:**\n",
    "\n",
    "*Hipótesis Nula (H₀):* Las calificaciones promedio de los usuarios para Xbox One y PC son las mismas.\n",
    "\n",
    "*Hipótesis Alternativa (H₁):* Las calificaciones promedio de los usuarios para Xbox One y PC son diferentes.\n",
    "\n",
    "El valor alfa es 0.05, lo que significa que si el valor p es menor que 0.05, rechazamos la hipótesis nula."
   ]
  },
  {
   "cell_type": "code",
   "execution_count": 33,
   "metadata": {},
   "outputs": [
    {
     "name": "stdout",
     "output_type": "stream",
     "text": [
      "Valor p: 1.5670097178375495e-05\n",
      "Rechazamos la hipótesis nula: Las calificaciones promedio son diferentes.\n"
     ]
    }
   ],
   "source": [
    "# Filtrar los datos por plataforma Xbox One y PC\n",
    "xbox_one_ratings = df_filtered_games_sales_years[df_filtered_games_sales_years['platform'] == 'XOne']['user_score'].dropna()\n",
    "pc_ratings = df_filtered_games_sales_years[df_filtered_games_sales_years['platform'] == 'PC']['user_score'].dropna()\n",
    "\n",
    "# Nivel crítico de significación estadística\n",
    "alpha = 0.05 \n",
    "\n",
    "# Prueba de hipótesis con la prueba t de dos muestras independientes\n",
    "results = st.ttest_ind(xbox_one_ratings, pc_ratings, equal_var=False)\n",
    "\n",
    "# Imprimir el valor p obtenido\n",
    "print('Valor p:', results.pvalue)\n",
    "\n",
    "# Comparar el valor p con el nivel de significación estadística\n",
    "if results.pvalue < alpha:\n",
    "    print(\"Rechazamos la hipótesis nula: Las calificaciones promedio son diferentes.\")\n",
    "else:\n",
    "    print(\"No podemos rechazar la hipótesis nula: Las calificaciones promedio son las mismas o similares.\")\n"
   ]
  },
  {
   "cell_type": "markdown",
   "metadata": {},
   "source": [
    "### Las calificaciones promedio de los usuarios para los géneros de Acción y Deportes son diferentes. \n",
    "\n",
    "Establece tu  mismo el calor de umbral alfa."
   ]
  },
  {
   "cell_type": "markdown",
   "metadata": {},
   "source": [
    "**Hipótesis 2:**\n",
    "\n",
    "*Hipótesis Nula (H₀):* Las calificaciones promedio de los usuarios para los géneros de Acción y Deportes son diferentes.\n",
    "\n",
    "*Hipótesis Alternativa (H₁):* Las calificaciones promedio de los usuarios para los géneros de Acción y Deportes son las mismas.\n",
    "\n",
    "El valor alfa es 0.05, lo que significa que si el valor p es menor que 0.05, rechazamos la hipótesis nula."
   ]
  },
  {
   "cell_type": "code",
   "execution_count": 34,
   "metadata": {},
   "outputs": [
    {
     "name": "stdout",
     "output_type": "stream",
     "text": [
      "Valor p: 0.10115120156606783\n",
      "No podemos rechazar la hipótesis nula: Las calificaciones promedio son las mismas o similares.\n"
     ]
    }
   ],
   "source": [
    "# Filtrar los datos por género Acción y Deportes\n",
    "action_ratings = df_filtered_games_sales_years[df_filtered_games_sales_years['genre'] == 'Action']['user_score'].dropna()\n",
    "sports_ratings = df_filtered_games_sales_years[df_filtered_games_sales_years['genre'] == 'Sports']['user_score'].dropna()\n",
    "\n",
    "# Nivel crítico de significación estadística\n",
    "alpha = 0.05 \n",
    "\n",
    "# Prueba de hipótesis con la prueba t de dos muestras independientes\n",
    "results = st.ttest_ind(action_ratings, sports_ratings, equal_var=False)\n",
    "\n",
    "# Imprimir el valor p obtenido\n",
    "print('Valor p:', results.pvalue)\n",
    "\n",
    "# Comparar el valor p con el nivel de significación estadística\n",
    "if results.pvalue < alpha:\n",
    "    print(\"Rechazamos la hipótesis nula: Las calificaciones promedio son diferentes.\")\n",
    "else:\n",
    "    print(\"No podemos rechazar la hipótesis nula: Las calificaciones promedio son las mismas o similares.\")\n",
    "    \n"
   ]
  },
  {
   "cell_type": "markdown",
   "metadata": {},
   "source": [
    "### Explica:\n",
    " - Cómo formulaste las hipótesis nula y alternativa.\n",
    " - Qué criterio utilizaste para probar las hipótesis y por qué."
   ]
  },
  {
   "cell_type": "markdown",
   "metadata": {},
   "source": [
    "Para probar estas hipótesis, utilicé la prueba t de dos muestras independientes. Los criterios que me llevaron a elegir esta prueba son los siguientes:\n",
    "\n",
    "- Tipo de datos: Las calificaciones de los usuarios son datos numéricos continuos, y estamos interesados en comparar los promedios de dos grupos independientes.\n",
    "- Comparación de medias: La prueba t es ideal cuando se desea comparar las medias de dos grupos para determinar si son significativamente diferentes.\n",
    "- Varianzas desiguales: Utilicé la opción equal_var=False en la función ttest_ind porque las varianzas entre las calificaciones de los usuarios pueden no ser iguales. \n",
    "- Nivel de significancia: Definí el valor alfa como 0.05. Esto significa que acepto un 5% de probabilidad de rechazar la hipótesis nula cuando en realidad es verdadera."
   ]
  },
  {
   "cell_type": "markdown",
   "metadata": {},
   "source": [
    "## Paso 6. Escribe una conclusión general"
   ]
  },
  {
   "cell_type": "markdown",
   "metadata": {},
   "source": [
    "**Campaña para el año 2017**\n",
    "\n",
    "El análisis de datos sobre las ventas de videojuegos, las plataformas, los géneros y las calificaciones de los usuarios ha permitido extraer conclusiones clave que pueden guiar el lanzamiento de campañas de marketing específicas para las regiones de Norteamérica y Europa, así como para Japón. \n",
    "\n",
    "1) Norteamérica y Europa:\n",
    "    - Enfocar los esfuerzos publicitarios en juegos de Acción, Deportes y Disparos, que tienen una alta popularidad y ventas consistentes en estas regiones.\n",
    "    - Promover juegos para consolas como Wii, PS4, Xbox One, con un enfoque en juegos multijugador y en línea, que generan altos niveles de interacción en estas áreas.\n",
    "    - Utilizar influenciadores y comunidades de gamers competitivos para maximizar la exposición y atracción de jugadores.\n",
    "\n",
    "\n",
    "2) Japón:\n",
    "    - Centrar la campaña en juegos de RPG y Acción, especialmente títulos relacionados con historias profundas y personajes desarrollados.\n",
    "    - Promocionar plataformas de Nintendo y PlayStation, particularmente la Nintendo DS, Nintendo Switch y PlayStation 4, ya que son las consolas más queridas por el público japonés.\n",
    "    - Fomentar la narrativa y la jugabilidad inmersiva, dado que los juegos que enfatizan estas características tienden a resonar mejor en el mercado japonés.\n"
   ]
  },
  {
   "cell_type": "markdown",
   "metadata": {},
   "source": [
    "**Conclusión:**\n",
    "\n",
    "El análisis sugiere que, para obtener el mayor éxito en las campañas de marketing, es clave tener en cuenta las diferencias regionales en términos de preferencias de plataformas, géneros de juegos y ciclo de vida de consolas. Mientras que Norteamérica y Europa presentan mercados competitivos centrados en juegos de acción y deportes, Japón se inclina hacia títulos con una fuerte narrativa y juegos de rol. Adaptar las campañas según estas preferencias garantizará una mejor aceptación y resultados más óptimos en cada región."
   ]
  }
 ],
 "metadata": {
  "ExecuteTimeLog": [
   {
    "duration": 2535,
    "start_time": "2024-10-11T19:38:28.652Z"
   },
   {
    "duration": 39,
    "start_time": "2024-10-11T20:21:32.061Z"
   },
   {
    "duration": 211,
    "start_time": "2024-10-11T21:54:05.932Z"
   },
   {
    "duration": 5,
    "start_time": "2024-10-11T21:54:38.939Z"
   },
   {
    "duration": 824,
    "start_time": "2024-10-11T21:58:26.984Z"
   },
   {
    "duration": 25,
    "start_time": "2024-10-11T21:58:27.811Z"
   },
   {
    "duration": 8,
    "start_time": "2024-10-11T21:58:27.837Z"
   },
   {
    "duration": 274,
    "start_time": "2024-10-11T21:58:27.846Z"
   },
   {
    "duration": 0,
    "start_time": "2024-10-11T21:58:28.122Z"
   },
   {
    "duration": 0,
    "start_time": "2024-10-11T21:58:28.123Z"
   },
   {
    "duration": 817,
    "start_time": "2024-10-11T21:58:58.584Z"
   },
   {
    "duration": 25,
    "start_time": "2024-10-11T21:58:59.403Z"
   },
   {
    "duration": 8,
    "start_time": "2024-10-11T21:58:59.430Z"
   },
   {
    "duration": 30,
    "start_time": "2024-10-11T21:58:59.441Z"
   },
   {
    "duration": 7,
    "start_time": "2024-10-11T21:58:59.472Z"
   },
   {
    "duration": 3,
    "start_time": "2024-10-11T21:58:59.480Z"
   },
   {
    "duration": 284,
    "start_time": "2024-10-11T22:02:46.512Z"
   },
   {
    "duration": 13,
    "start_time": "2024-10-11T22:03:36.474Z"
   },
   {
    "duration": 16,
    "start_time": "2024-10-11T22:06:26.935Z"
   },
   {
    "duration": 757,
    "start_time": "2024-10-11T22:06:40.337Z"
   },
   {
    "duration": 24,
    "start_time": "2024-10-11T22:06:41.097Z"
   },
   {
    "duration": 9,
    "start_time": "2024-10-11T22:06:41.123Z"
   },
   {
    "duration": 12,
    "start_time": "2024-10-11T22:06:41.137Z"
   },
   {
    "duration": 7,
    "start_time": "2024-10-11T22:06:41.170Z"
   },
   {
    "duration": 3,
    "start_time": "2024-10-11T22:06:41.179Z"
   },
   {
    "duration": 7,
    "start_time": "2024-10-11T22:07:09.993Z"
   },
   {
    "duration": 275,
    "start_time": "2024-10-11T22:07:17.901Z"
   },
   {
    "duration": 14,
    "start_time": "2024-10-11T22:09:55.146Z"
   },
   {
    "duration": 766,
    "start_time": "2024-10-11T22:10:03.930Z"
   },
   {
    "duration": 24,
    "start_time": "2024-10-11T22:10:04.698Z"
   },
   {
    "duration": 7,
    "start_time": "2024-10-11T22:10:04.724Z"
   },
   {
    "duration": 12,
    "start_time": "2024-10-11T22:10:04.733Z"
   },
   {
    "duration": 27,
    "start_time": "2024-10-11T22:10:04.747Z"
   },
   {
    "duration": 6,
    "start_time": "2024-10-11T22:10:04.776Z"
   },
   {
    "duration": 758,
    "start_time": "2024-10-11T22:11:12.928Z"
   },
   {
    "duration": 24,
    "start_time": "2024-10-11T22:11:13.688Z"
   },
   {
    "duration": 8,
    "start_time": "2024-10-11T22:11:13.713Z"
   },
   {
    "duration": 11,
    "start_time": "2024-10-11T22:11:13.723Z"
   },
   {
    "duration": 7,
    "start_time": "2024-10-11T22:11:13.736Z"
   },
   {
    "duration": 287,
    "start_time": "2024-10-11T22:11:13.745Z"
   },
   {
    "duration": 803,
    "start_time": "2024-10-11T22:11:32.600Z"
   },
   {
    "duration": 24,
    "start_time": "2024-10-11T22:11:33.405Z"
   },
   {
    "duration": 8,
    "start_time": "2024-10-11T22:11:33.430Z"
   },
   {
    "duration": 10,
    "start_time": "2024-10-11T22:11:33.440Z"
   },
   {
    "duration": 23,
    "start_time": "2024-10-11T22:11:33.452Z"
   },
   {
    "duration": 6,
    "start_time": "2024-10-11T22:11:33.477Z"
   },
   {
    "duration": 273,
    "start_time": "2024-10-11T22:47:59.557Z"
   },
   {
    "duration": 4,
    "start_time": "2024-10-11T22:48:12.970Z"
   },
   {
    "duration": 12,
    "start_time": "2024-10-11T22:48:49.098Z"
   },
   {
    "duration": 539,
    "start_time": "2024-10-11T22:52:29.066Z"
   },
   {
    "duration": 12,
    "start_time": "2024-10-11T22:52:39.661Z"
   },
   {
    "duration": 5,
    "start_time": "2024-10-11T22:53:39.948Z"
   },
   {
    "duration": 12,
    "start_time": "2024-10-11T23:22:24.375Z"
   },
   {
    "duration": 829,
    "start_time": "2024-10-12T03:00:02.078Z"
   },
   {
    "duration": 25,
    "start_time": "2024-10-12T03:00:02.910Z"
   },
   {
    "duration": 8,
    "start_time": "2024-10-12T03:00:02.937Z"
   },
   {
    "duration": 27,
    "start_time": "2024-10-12T03:00:02.947Z"
   },
   {
    "duration": 6,
    "start_time": "2024-10-12T03:00:02.976Z"
   },
   {
    "duration": 6,
    "start_time": "2024-10-12T03:00:02.984Z"
   },
   {
    "duration": 11,
    "start_time": "2024-10-12T03:00:02.992Z"
   },
   {
    "duration": 805,
    "start_time": "2024-10-12T03:58:48.495Z"
   },
   {
    "duration": 20,
    "start_time": "2024-10-12T04:01:46.548Z"
   },
   {
    "duration": 4,
    "start_time": "2024-10-12T04:03:23.802Z"
   },
   {
    "duration": 4,
    "start_time": "2024-10-12T04:03:32.401Z"
   },
   {
    "duration": 13,
    "start_time": "2024-10-12T04:03:41.942Z"
   },
   {
    "duration": 12,
    "start_time": "2024-10-12T04:04:02.336Z"
   },
   {
    "duration": 13,
    "start_time": "2024-10-12T04:06:03.083Z"
   },
   {
    "duration": 4,
    "start_time": "2024-10-12T04:09:05.710Z"
   },
   {
    "duration": 11,
    "start_time": "2024-10-12T04:09:23.265Z"
   },
   {
    "duration": 789,
    "start_time": "2024-10-12T06:13:32.802Z"
   },
   {
    "duration": 24,
    "start_time": "2024-10-12T06:13:33.593Z"
   },
   {
    "duration": 9,
    "start_time": "2024-10-12T06:13:33.618Z"
   },
   {
    "duration": 12,
    "start_time": "2024-10-12T06:13:33.628Z"
   },
   {
    "duration": 29,
    "start_time": "2024-10-12T06:13:33.643Z"
   },
   {
    "duration": 9,
    "start_time": "2024-10-12T06:13:33.673Z"
   },
   {
    "duration": 15,
    "start_time": "2024-10-12T06:13:33.683Z"
   },
   {
    "duration": 14,
    "start_time": "2024-10-12T06:53:03.708Z"
   },
   {
    "duration": 18,
    "start_time": "2024-10-12T06:58:01.601Z"
   },
   {
    "duration": 14,
    "start_time": "2024-10-12T07:06:27.822Z"
   },
   {
    "duration": 16,
    "start_time": "2024-10-12T07:06:53.105Z"
   },
   {
    "duration": 814,
    "start_time": "2024-10-12T07:45:49.679Z"
   },
   {
    "duration": 25,
    "start_time": "2024-10-12T07:45:50.495Z"
   },
   {
    "duration": 8,
    "start_time": "2024-10-12T07:45:50.521Z"
   },
   {
    "duration": 11,
    "start_time": "2024-10-12T07:45:50.531Z"
   },
   {
    "duration": 27,
    "start_time": "2024-10-12T07:45:50.543Z"
   },
   {
    "duration": 7,
    "start_time": "2024-10-12T07:45:50.571Z"
   },
   {
    "duration": 816,
    "start_time": "2024-10-12T07:45:50.579Z"
   },
   {
    "duration": 0,
    "start_time": "2024-10-12T07:45:51.397Z"
   },
   {
    "duration": 0,
    "start_time": "2024-10-12T07:45:51.399Z"
   },
   {
    "duration": 4,
    "start_time": "2024-10-12T07:46:44.333Z"
   },
   {
    "duration": 49,
    "start_time": "2024-10-12T07:46:49.432Z"
   },
   {
    "duration": 16,
    "start_time": "2024-10-12T07:50:13.914Z"
   },
   {
    "duration": 23,
    "start_time": "2024-10-12T07:50:18.937Z"
   },
   {
    "duration": 8,
    "start_time": "2024-10-12T07:50:34.063Z"
   },
   {
    "duration": 11,
    "start_time": "2024-10-12T07:50:58.120Z"
   },
   {
    "duration": 6,
    "start_time": "2024-10-12T07:51:08.884Z"
   },
   {
    "duration": 7,
    "start_time": "2024-10-13T06:25:29.508Z"
   },
   {
    "duration": 2493,
    "start_time": "2024-10-13T06:25:44.106Z"
   },
   {
    "duration": 36,
    "start_time": "2024-10-13T06:25:46.601Z"
   },
   {
    "duration": 8,
    "start_time": "2024-10-13T06:25:46.639Z"
   },
   {
    "duration": 12,
    "start_time": "2024-10-13T06:25:46.650Z"
   },
   {
    "duration": 6,
    "start_time": "2024-10-13T06:25:46.664Z"
   },
   {
    "duration": 7,
    "start_time": "2024-10-13T06:25:46.672Z"
   },
   {
    "duration": 15,
    "start_time": "2024-10-13T06:25:46.681Z"
   },
   {
    "duration": 48,
    "start_time": "2024-10-13T06:25:46.698Z"
   },
   {
    "duration": 11,
    "start_time": "2024-10-13T06:25:46.748Z"
   },
   {
    "duration": 7,
    "start_time": "2024-10-13T06:25:46.761Z"
   },
   {
    "duration": 15,
    "start_time": "2024-10-13T06:25:46.769Z"
   },
   {
    "duration": 258,
    "start_time": "2024-10-13T06:44:36.858Z"
   },
   {
    "duration": 796,
    "start_time": "2024-10-13T06:46:55.175Z"
   },
   {
    "duration": 25,
    "start_time": "2024-10-13T06:46:55.974Z"
   },
   {
    "duration": 7,
    "start_time": "2024-10-13T06:46:56.000Z"
   },
   {
    "duration": 10,
    "start_time": "2024-10-13T06:46:56.009Z"
   },
   {
    "duration": 23,
    "start_time": "2024-10-13T06:46:56.020Z"
   },
   {
    "duration": 8,
    "start_time": "2024-10-13T06:46:56.045Z"
   },
   {
    "duration": 844,
    "start_time": "2024-10-13T06:46:56.055Z"
   },
   {
    "duration": 0,
    "start_time": "2024-10-13T06:46:56.901Z"
   },
   {
    "duration": 0,
    "start_time": "2024-10-13T06:46:56.902Z"
   },
   {
    "duration": 0,
    "start_time": "2024-10-13T06:46:56.903Z"
   },
   {
    "duration": 0,
    "start_time": "2024-10-13T06:46:56.904Z"
   },
   {
    "duration": 0,
    "start_time": "2024-10-13T06:46:56.905Z"
   },
   {
    "duration": 16,
    "start_time": "2024-10-13T06:47:55.474Z"
   },
   {
    "duration": 12,
    "start_time": "2024-10-13T06:50:17.833Z"
   },
   {
    "duration": 829,
    "start_time": "2024-10-13T06:51:13.040Z"
   },
   {
    "duration": 25,
    "start_time": "2024-10-13T06:51:13.871Z"
   },
   {
    "duration": 9,
    "start_time": "2024-10-13T06:51:13.897Z"
   },
   {
    "duration": 10,
    "start_time": "2024-10-13T06:51:13.908Z"
   },
   {
    "duration": 27,
    "start_time": "2024-10-13T06:51:13.920Z"
   },
   {
    "duration": 6,
    "start_time": "2024-10-13T06:51:13.949Z"
   },
   {
    "duration": 14,
    "start_time": "2024-10-13T06:51:13.957Z"
   },
   {
    "duration": 16,
    "start_time": "2024-10-13T06:51:13.973Z"
   },
   {
    "duration": 10,
    "start_time": "2024-10-13T06:51:13.991Z"
   },
   {
    "duration": 5,
    "start_time": "2024-10-13T06:51:14.004Z"
   },
   {
    "duration": 14,
    "start_time": "2024-10-13T06:51:14.043Z"
   },
   {
    "duration": 285,
    "start_time": "2024-10-13T06:51:14.058Z"
   },
   {
    "duration": 310,
    "start_time": "2024-10-13T06:51:14.345Z"
   },
   {
    "duration": 258,
    "start_time": "2024-10-13T06:51:34.006Z"
   },
   {
    "duration": 222,
    "start_time": "2024-10-13T07:06:20.221Z"
   },
   {
    "duration": 223,
    "start_time": "2024-10-13T07:06:44.612Z"
   },
   {
    "duration": 240,
    "start_time": "2024-10-13T07:07:12.241Z"
   },
   {
    "duration": 440,
    "start_time": "2024-10-13T07:11:33.016Z"
   },
   {
    "duration": 601,
    "start_time": "2024-10-13T07:12:53.588Z"
   },
   {
    "duration": 11,
    "start_time": "2024-10-13T07:15:40.592Z"
   },
   {
    "duration": 11,
    "start_time": "2024-10-13T07:16:34.633Z"
   },
   {
    "duration": 11,
    "start_time": "2024-10-13T07:19:43.139Z"
   },
   {
    "duration": 503,
    "start_time": "2024-10-13T07:25:51.073Z"
   },
   {
    "duration": 720,
    "start_time": "2024-10-13T07:26:00.626Z"
   },
   {
    "duration": 366,
    "start_time": "2024-10-13T07:26:44.214Z"
   },
   {
    "duration": 378,
    "start_time": "2024-10-13T07:27:08.934Z"
   },
   {
    "duration": 21,
    "start_time": "2024-10-13T07:30:22.652Z"
   },
   {
    "duration": 110,
    "start_time": "2024-10-13T07:30:43.191Z"
   },
   {
    "duration": 377,
    "start_time": "2024-10-13T07:30:49.834Z"
   },
   {
    "duration": 372,
    "start_time": "2024-10-13T07:32:04.595Z"
   },
   {
    "duration": 2701,
    "start_time": "2024-10-13T23:32:35.541Z"
   },
   {
    "duration": 40,
    "start_time": "2024-10-13T23:32:38.244Z"
   },
   {
    "duration": 9,
    "start_time": "2024-10-13T23:32:38.286Z"
   },
   {
    "duration": 12,
    "start_time": "2024-10-13T23:32:38.296Z"
   },
   {
    "duration": 6,
    "start_time": "2024-10-13T23:32:38.311Z"
   },
   {
    "duration": 9,
    "start_time": "2024-10-13T23:32:38.332Z"
   },
   {
    "duration": 17,
    "start_time": "2024-10-13T23:32:38.343Z"
   },
   {
    "duration": 18,
    "start_time": "2024-10-13T23:32:38.362Z"
   },
   {
    "duration": 13,
    "start_time": "2024-10-13T23:32:38.381Z"
   },
   {
    "duration": 35,
    "start_time": "2024-10-13T23:32:38.396Z"
   },
   {
    "duration": 16,
    "start_time": "2024-10-13T23:32:38.434Z"
   },
   {
    "duration": 304,
    "start_time": "2024-10-13T23:32:38.452Z"
   },
   {
    "duration": 241,
    "start_time": "2024-10-13T23:32:38.759Z"
   },
   {
    "duration": 0,
    "start_time": "2024-10-13T23:32:39.002Z"
   },
   {
    "duration": 0,
    "start_time": "2024-10-13T23:32:39.003Z"
   },
   {
    "duration": 407,
    "start_time": "2024-10-13T23:32:54.655Z"
   },
   {
    "duration": 100,
    "start_time": "2024-10-13T23:34:03.137Z"
   },
   {
    "duration": 24,
    "start_time": "2024-10-13T23:34:17.350Z"
   },
   {
    "duration": 310,
    "start_time": "2024-10-13T23:34:42.976Z"
   },
   {
    "duration": 498,
    "start_time": "2024-10-13T23:35:20.297Z"
   },
   {
    "duration": 403,
    "start_time": "2024-10-13T23:36:12.077Z"
   },
   {
    "duration": 459,
    "start_time": "2024-10-13T23:49:50.856Z"
   },
   {
    "duration": 21,
    "start_time": "2024-10-13T23:50:17.261Z"
   },
   {
    "duration": 18,
    "start_time": "2024-10-13T23:50:28.068Z"
   },
   {
    "duration": 18,
    "start_time": "2024-10-14T01:09:52.728Z"
   },
   {
    "duration": 23,
    "start_time": "2024-10-14T01:10:26.863Z"
   },
   {
    "duration": 263,
    "start_time": "2024-10-14T01:11:17.537Z"
   },
   {
    "duration": 250,
    "start_time": "2024-10-14T01:13:31.640Z"
   },
   {
    "duration": 843,
    "start_time": "2024-10-14T01:13:52.019Z"
   },
   {
    "duration": 26,
    "start_time": "2024-10-14T01:13:52.864Z"
   },
   {
    "duration": 8,
    "start_time": "2024-10-14T01:13:52.892Z"
   },
   {
    "duration": 11,
    "start_time": "2024-10-14T01:13:52.902Z"
   },
   {
    "duration": 7,
    "start_time": "2024-10-14T01:13:52.932Z"
   },
   {
    "duration": 14,
    "start_time": "2024-10-14T01:13:52.941Z"
   },
   {
    "duration": 17,
    "start_time": "2024-10-14T01:13:52.957Z"
   },
   {
    "duration": 20,
    "start_time": "2024-10-14T01:13:52.977Z"
   },
   {
    "duration": 40,
    "start_time": "2024-10-14T01:13:52.999Z"
   },
   {
    "duration": 6,
    "start_time": "2024-10-14T01:13:53.044Z"
   },
   {
    "duration": 15,
    "start_time": "2024-10-14T01:13:53.052Z"
   },
   {
    "duration": 293,
    "start_time": "2024-10-14T01:13:53.069Z"
   },
   {
    "duration": 312,
    "start_time": "2024-10-14T01:13:53.364Z"
   },
   {
    "duration": 0,
    "start_time": "2024-10-14T01:13:53.678Z"
   },
   {
    "duration": 0,
    "start_time": "2024-10-14T01:13:53.679Z"
   },
   {
    "duration": 311,
    "start_time": "2024-10-14T01:14:15.575Z"
   },
   {
    "duration": 863,
    "start_time": "2024-10-14T02:07:59.923Z"
   },
   {
    "duration": 25,
    "start_time": "2024-10-14T02:08:00.789Z"
   },
   {
    "duration": 8,
    "start_time": "2024-10-14T02:08:00.815Z"
   },
   {
    "duration": 11,
    "start_time": "2024-10-14T02:08:00.832Z"
   },
   {
    "duration": 6,
    "start_time": "2024-10-14T02:08:00.845Z"
   },
   {
    "duration": 7,
    "start_time": "2024-10-14T02:08:00.852Z"
   },
   {
    "duration": 16,
    "start_time": "2024-10-14T02:08:00.860Z"
   },
   {
    "duration": 16,
    "start_time": "2024-10-14T02:08:00.878Z"
   },
   {
    "duration": 41,
    "start_time": "2024-10-14T02:08:00.896Z"
   },
   {
    "duration": 6,
    "start_time": "2024-10-14T02:08:00.940Z"
   },
   {
    "duration": 14,
    "start_time": "2024-10-14T02:08:00.947Z"
   },
   {
    "duration": 305,
    "start_time": "2024-10-14T02:08:00.963Z"
   },
   {
    "duration": 297,
    "start_time": "2024-10-14T02:08:01.269Z"
   },
   {
    "duration": 0,
    "start_time": "2024-10-14T02:08:01.568Z"
   },
   {
    "duration": 1,
    "start_time": "2024-10-14T02:08:01.569Z"
   },
   {
    "duration": 0,
    "start_time": "2024-10-14T02:08:01.571Z"
   },
   {
    "duration": 0,
    "start_time": "2024-10-14T02:08:01.573Z"
   },
   {
    "duration": 10,
    "start_time": "2024-10-14T02:09:32.985Z"
   },
   {
    "duration": 4,
    "start_time": "2024-10-14T02:13:12.383Z"
   },
   {
    "duration": 5,
    "start_time": "2024-10-14T02:14:04.553Z"
   },
   {
    "duration": 134,
    "start_time": "2024-10-14T02:24:18.850Z"
   },
   {
    "duration": 20,
    "start_time": "2024-10-14T02:48:59.778Z"
   },
   {
    "duration": 861,
    "start_time": "2024-10-14T02:49:21.908Z"
   },
   {
    "duration": 28,
    "start_time": "2024-10-14T02:49:22.772Z"
   },
   {
    "duration": 9,
    "start_time": "2024-10-14T02:49:22.802Z"
   },
   {
    "duration": 24,
    "start_time": "2024-10-14T02:49:22.814Z"
   },
   {
    "duration": 7,
    "start_time": "2024-10-14T02:49:22.841Z"
   },
   {
    "duration": 7,
    "start_time": "2024-10-14T02:49:22.850Z"
   },
   {
    "duration": 15,
    "start_time": "2024-10-14T02:49:22.858Z"
   },
   {
    "duration": 18,
    "start_time": "2024-10-14T02:49:22.875Z"
   },
   {
    "duration": 45,
    "start_time": "2024-10-14T02:49:22.896Z"
   },
   {
    "duration": 7,
    "start_time": "2024-10-14T02:49:22.943Z"
   },
   {
    "duration": 15,
    "start_time": "2024-10-14T02:49:22.951Z"
   },
   {
    "duration": 329,
    "start_time": "2024-10-14T02:49:22.968Z"
   },
   {
    "duration": 0,
    "start_time": "2024-10-14T02:49:23.299Z"
   },
   {
    "duration": 0,
    "start_time": "2024-10-14T02:49:23.300Z"
   },
   {
    "duration": 0,
    "start_time": "2024-10-14T02:49:23.301Z"
   },
   {
    "duration": 0,
    "start_time": "2024-10-14T02:49:23.302Z"
   },
   {
    "duration": 0,
    "start_time": "2024-10-14T02:49:23.303Z"
   },
   {
    "duration": 0,
    "start_time": "2024-10-14T02:49:23.304Z"
   },
   {
    "duration": 0,
    "start_time": "2024-10-14T02:49:23.305Z"
   },
   {
    "duration": 267,
    "start_time": "2024-10-14T02:51:31.689Z"
   },
   {
    "duration": 13,
    "start_time": "2024-10-14T02:54:31.118Z"
   },
   {
    "duration": 390,
    "start_time": "2024-10-14T02:54:53.445Z"
   },
   {
    "duration": 231,
    "start_time": "2024-10-14T03:10:35.141Z"
   },
   {
    "duration": 136,
    "start_time": "2024-10-14T03:12:39.841Z"
   },
   {
    "duration": 715,
    "start_time": "2024-10-14T03:35:11.144Z"
   },
   {
    "duration": 513,
    "start_time": "2024-10-14T03:35:57.339Z"
   },
   {
    "duration": 66,
    "start_time": "2024-10-14T03:40:15.954Z"
   },
   {
    "duration": 41,
    "start_time": "2024-10-14T03:40:26.257Z"
   },
   {
    "duration": 42,
    "start_time": "2024-10-14T03:41:32.450Z"
   },
   {
    "duration": 18,
    "start_time": "2024-10-14T03:44:06.764Z"
   },
   {
    "duration": 26,
    "start_time": "2024-10-14T03:44:23.174Z"
   },
   {
    "duration": 669,
    "start_time": "2024-10-14T03:44:48.801Z"
   },
   {
    "duration": 12,
    "start_time": "2024-10-14T03:46:26.288Z"
   },
   {
    "duration": 468,
    "start_time": "2024-10-14T03:47:33.280Z"
   },
   {
    "duration": 398,
    "start_time": "2024-10-14T03:47:54.162Z"
   },
   {
    "duration": 393,
    "start_time": "2024-10-14T03:48:30.669Z"
   },
   {
    "duration": 135,
    "start_time": "2024-10-14T03:49:56.389Z"
   },
   {
    "duration": 52,
    "start_time": "2024-10-14T03:51:34.897Z"
   },
   {
    "duration": 22,
    "start_time": "2024-10-14T03:58:11.377Z"
   },
   {
    "duration": 21,
    "start_time": "2024-10-14T03:58:33.759Z"
   },
   {
    "duration": 775,
    "start_time": "2024-10-14T03:58:42.079Z"
   },
   {
    "duration": 382,
    "start_time": "2024-10-14T05:43:12.972Z"
   },
   {
    "duration": 786,
    "start_time": "2024-10-14T06:28:37.164Z"
   },
   {
    "duration": 6,
    "start_time": "2024-10-14T06:30:30.740Z"
   },
   {
    "duration": 6,
    "start_time": "2024-10-14T06:30:35.223Z"
   },
   {
    "duration": 627,
    "start_time": "2024-10-14T06:32:15.534Z"
   },
   {
    "duration": 1694,
    "start_time": "2024-10-14T06:32:34.510Z"
   },
   {
    "duration": 624,
    "start_time": "2024-10-14T06:32:51.194Z"
   },
   {
    "duration": 19,
    "start_time": "2024-10-14T06:33:43.864Z"
   },
   {
    "duration": 4,
    "start_time": "2024-10-14T06:38:47.394Z"
   },
   {
    "duration": 935,
    "start_time": "2024-10-14T06:39:04.545Z"
   },
   {
    "duration": 26,
    "start_time": "2024-10-14T06:39:05.483Z"
   },
   {
    "duration": 9,
    "start_time": "2024-10-14T06:39:05.511Z"
   },
   {
    "duration": 13,
    "start_time": "2024-10-14T06:39:05.531Z"
   },
   {
    "duration": 6,
    "start_time": "2024-10-14T06:39:05.547Z"
   },
   {
    "duration": 7,
    "start_time": "2024-10-14T06:39:05.555Z"
   },
   {
    "duration": 15,
    "start_time": "2024-10-14T06:39:05.564Z"
   },
   {
    "duration": 16,
    "start_time": "2024-10-14T06:39:05.580Z"
   },
   {
    "duration": 46,
    "start_time": "2024-10-14T06:39:05.597Z"
   },
   {
    "duration": 6,
    "start_time": "2024-10-14T06:39:05.646Z"
   },
   {
    "duration": 14,
    "start_time": "2024-10-14T06:39:05.654Z"
   },
   {
    "duration": 303,
    "start_time": "2024-10-14T06:39:05.670Z"
   },
   {
    "duration": 10,
    "start_time": "2024-10-14T06:39:05.976Z"
   },
   {
    "duration": 726,
    "start_time": "2024-10-14T06:39:05.990Z"
   },
   {
    "duration": 5,
    "start_time": "2024-10-14T06:39:06.718Z"
   },
   {
    "duration": 0,
    "start_time": "2024-10-14T06:39:06.725Z"
   },
   {
    "duration": 0,
    "start_time": "2024-10-14T06:39:06.727Z"
   },
   {
    "duration": 0,
    "start_time": "2024-10-14T06:39:06.728Z"
   },
   {
    "duration": 0,
    "start_time": "2024-10-14T06:39:06.729Z"
   },
   {
    "duration": 220,
    "start_time": "2024-10-14T06:39:58.786Z"
   },
   {
    "duration": 10,
    "start_time": "2024-10-14T06:40:49.371Z"
   },
   {
    "duration": 732,
    "start_time": "2024-10-14T06:43:32.945Z"
   },
   {
    "duration": 610,
    "start_time": "2024-10-14T06:53:43.402Z"
   },
   {
    "duration": 638,
    "start_time": "2024-10-14T06:53:58.779Z"
   },
   {
    "duration": 125,
    "start_time": "2024-10-14T07:27:09.479Z"
   },
   {
    "duration": 413,
    "start_time": "2024-10-14T07:27:19.881Z"
   },
   {
    "duration": 161,
    "start_time": "2024-10-14T07:27:46.689Z"
   },
   {
    "duration": 273,
    "start_time": "2024-10-14T07:29:18.306Z"
   },
   {
    "duration": 810,
    "start_time": "2024-10-14T07:30:34.973Z"
   },
   {
    "duration": 27,
    "start_time": "2024-10-14T07:30:35.785Z"
   },
   {
    "duration": 22,
    "start_time": "2024-10-14T07:30:35.814Z"
   },
   {
    "duration": 12,
    "start_time": "2024-10-14T07:30:35.838Z"
   },
   {
    "duration": 7,
    "start_time": "2024-10-14T07:30:35.853Z"
   },
   {
    "duration": 7,
    "start_time": "2024-10-14T07:30:35.862Z"
   },
   {
    "duration": 16,
    "start_time": "2024-10-14T07:30:35.871Z"
   },
   {
    "duration": 52,
    "start_time": "2024-10-14T07:30:35.889Z"
   },
   {
    "duration": 11,
    "start_time": "2024-10-14T07:30:35.943Z"
   },
   {
    "duration": 6,
    "start_time": "2024-10-14T07:30:35.956Z"
   },
   {
    "duration": 13,
    "start_time": "2024-10-14T07:30:35.963Z"
   },
   {
    "duration": 303,
    "start_time": "2024-10-14T07:30:35.978Z"
   },
   {
    "duration": 11,
    "start_time": "2024-10-14T07:30:36.283Z"
   },
   {
    "duration": 687,
    "start_time": "2024-10-14T07:30:36.296Z"
   },
   {
    "duration": 12,
    "start_time": "2024-10-14T07:30:36.986Z"
   },
   {
    "duration": 500,
    "start_time": "2024-10-14T07:30:37.000Z"
   },
   {
    "duration": 440,
    "start_time": "2024-10-14T07:31:27.960Z"
   },
   {
    "duration": 4,
    "start_time": "2024-10-14T07:33:12.733Z"
   },
   {
    "duration": 3,
    "start_time": "2024-10-14T07:33:23.294Z"
   },
   {
    "duration": 3,
    "start_time": "2024-10-14T07:33:28.835Z"
   },
   {
    "duration": 4,
    "start_time": "2024-10-14T07:33:35.402Z"
   },
   {
    "duration": 3,
    "start_time": "2024-10-14T07:33:47.167Z"
   },
   {
    "duration": 824,
    "start_time": "2024-10-14T07:37:29.379Z"
   },
   {
    "duration": 30,
    "start_time": "2024-10-14T07:37:30.206Z"
   },
   {
    "duration": 8,
    "start_time": "2024-10-14T07:37:30.238Z"
   },
   {
    "duration": 12,
    "start_time": "2024-10-14T07:37:30.249Z"
   },
   {
    "duration": 6,
    "start_time": "2024-10-14T07:37:30.262Z"
   },
   {
    "duration": 7,
    "start_time": "2024-10-14T07:37:30.270Z"
   },
   {
    "duration": 15,
    "start_time": "2024-10-14T07:37:30.278Z"
   },
   {
    "duration": 18,
    "start_time": "2024-10-14T07:37:30.331Z"
   },
   {
    "duration": 12,
    "start_time": "2024-10-14T07:37:30.350Z"
   },
   {
    "duration": 6,
    "start_time": "2024-10-14T07:37:30.364Z"
   },
   {
    "duration": 17,
    "start_time": "2024-10-14T07:37:30.372Z"
   },
   {
    "duration": 320,
    "start_time": "2024-10-14T07:37:30.390Z"
   },
   {
    "duration": 10,
    "start_time": "2024-10-14T07:37:30.712Z"
   },
   {
    "duration": 673,
    "start_time": "2024-10-14T07:37:30.731Z"
   },
   {
    "duration": 12,
    "start_time": "2024-10-14T07:37:31.406Z"
   },
   {
    "duration": 441,
    "start_time": "2024-10-14T07:37:31.431Z"
   },
   {
    "duration": 4,
    "start_time": "2024-10-14T07:37:31.874Z"
   },
   {
    "duration": 2,
    "start_time": "2024-10-14T07:37:39.398Z"
   },
   {
    "duration": 2,
    "start_time": "2024-10-14T07:37:40.845Z"
   },
   {
    "duration": 2,
    "start_time": "2024-10-14T07:37:44.979Z"
   },
   {
    "duration": 297,
    "start_time": "2024-10-14T07:39:28.366Z"
   },
   {
    "duration": 298,
    "start_time": "2024-10-14T07:40:08.012Z"
   },
   {
    "duration": 2680,
    "start_time": "2024-10-15T05:54:54.878Z"
   },
   {
    "duration": 37,
    "start_time": "2024-10-15T05:54:57.561Z"
   },
   {
    "duration": 8,
    "start_time": "2024-10-15T05:54:57.600Z"
   },
   {
    "duration": 22,
    "start_time": "2024-10-15T05:54:57.610Z"
   },
   {
    "duration": 6,
    "start_time": "2024-10-15T05:54:57.634Z"
   },
   {
    "duration": 8,
    "start_time": "2024-10-15T05:54:57.642Z"
   },
   {
    "duration": 21,
    "start_time": "2024-10-15T05:54:57.652Z"
   },
   {
    "duration": 18,
    "start_time": "2024-10-15T05:54:57.675Z"
   },
   {
    "duration": 44,
    "start_time": "2024-10-15T05:54:57.695Z"
   },
   {
    "duration": 7,
    "start_time": "2024-10-15T05:54:57.742Z"
   },
   {
    "duration": 14,
    "start_time": "2024-10-15T05:54:57.751Z"
   },
   {
    "duration": 295,
    "start_time": "2024-10-15T05:54:57.767Z"
   },
   {
    "duration": 10,
    "start_time": "2024-10-15T05:54:58.064Z"
   },
   {
    "duration": 701,
    "start_time": "2024-10-15T05:54:58.077Z"
   },
   {
    "duration": 13,
    "start_time": "2024-10-15T05:54:58.781Z"
   },
   {
    "duration": 440,
    "start_time": "2024-10-15T05:54:58.796Z"
   },
   {
    "duration": 601,
    "start_time": "2024-10-15T05:54:59.237Z"
   },
   {
    "duration": 21,
    "start_time": "2024-10-15T05:55:17.357Z"
   },
   {
    "duration": 24,
    "start_time": "2024-10-15T05:55:22.940Z"
   },
   {
    "duration": 13,
    "start_time": "2024-10-15T05:55:30.189Z"
   },
   {
    "duration": 11,
    "start_time": "2024-10-15T07:39:40.147Z"
   },
   {
    "duration": 603,
    "start_time": "2024-10-15T07:41:16.343Z"
   },
   {
    "duration": 11,
    "start_time": "2024-10-15T07:53:45.155Z"
   },
   {
    "duration": 137,
    "start_time": "2024-10-15T07:56:34.018Z"
   },
   {
    "duration": 132,
    "start_time": "2024-10-15T07:57:15.859Z"
   },
   {
    "duration": 681,
    "start_time": "2024-10-15T07:59:25.972Z"
   },
   {
    "duration": 497,
    "start_time": "2024-10-15T07:59:43.635Z"
   },
   {
    "duration": 487,
    "start_time": "2024-10-15T08:02:20.214Z"
   },
   {
    "duration": 788,
    "start_time": "2024-10-15T08:02:29.203Z"
   },
   {
    "duration": 26,
    "start_time": "2024-10-15T08:02:29.994Z"
   },
   {
    "duration": 17,
    "start_time": "2024-10-15T08:02:30.021Z"
   },
   {
    "duration": 11,
    "start_time": "2024-10-15T08:02:30.040Z"
   },
   {
    "duration": 6,
    "start_time": "2024-10-15T08:02:30.052Z"
   },
   {
    "duration": 6,
    "start_time": "2024-10-15T08:02:30.060Z"
   },
   {
    "duration": 14,
    "start_time": "2024-10-15T08:02:30.068Z"
   },
   {
    "duration": 47,
    "start_time": "2024-10-15T08:02:30.084Z"
   },
   {
    "duration": 13,
    "start_time": "2024-10-15T08:02:30.134Z"
   },
   {
    "duration": 6,
    "start_time": "2024-10-15T08:02:30.150Z"
   },
   {
    "duration": 14,
    "start_time": "2024-10-15T08:02:30.158Z"
   },
   {
    "duration": 314,
    "start_time": "2024-10-15T08:02:30.173Z"
   },
   {
    "duration": 12,
    "start_time": "2024-10-15T08:02:30.489Z"
   },
   {
    "duration": 563,
    "start_time": "2024-10-15T08:02:30.502Z"
   },
   {
    "duration": 622,
    "start_time": "2024-10-15T08:02:31.067Z"
   },
   {
    "duration": 8,
    "start_time": "2024-10-15T08:02:31.691Z"
   },
   {
    "duration": 140,
    "start_time": "2024-10-15T08:02:31.701Z"
   },
   {
    "duration": 0,
    "start_time": "2024-10-15T08:02:31.843Z"
   },
   {
    "duration": 0,
    "start_time": "2024-10-15T08:02:31.844Z"
   },
   {
    "duration": 328,
    "start_time": "2024-10-15T08:07:15.808Z"
   },
   {
    "duration": 463,
    "start_time": "2024-10-15T08:07:55.140Z"
   },
   {
    "duration": 966,
    "start_time": "2024-10-15T08:08:25.739Z"
   },
   {
    "duration": 375,
    "start_time": "2024-10-15T08:08:38.101Z"
   },
   {
    "duration": 408,
    "start_time": "2024-10-15T08:09:06.417Z"
   },
   {
    "duration": 17,
    "start_time": "2024-10-15T08:18:11.669Z"
   },
   {
    "duration": 829,
    "start_time": "2024-10-15T08:18:26.764Z"
   },
   {
    "duration": 25,
    "start_time": "2024-10-15T08:18:27.595Z"
   },
   {
    "duration": 14,
    "start_time": "2024-10-15T08:18:27.622Z"
   },
   {
    "duration": 13,
    "start_time": "2024-10-15T08:18:27.638Z"
   },
   {
    "duration": 9,
    "start_time": "2024-10-15T08:18:27.654Z"
   },
   {
    "duration": 13,
    "start_time": "2024-10-15T08:18:27.665Z"
   },
   {
    "duration": 15,
    "start_time": "2024-10-15T08:18:27.680Z"
   },
   {
    "duration": 38,
    "start_time": "2024-10-15T08:18:27.696Z"
   },
   {
    "duration": 14,
    "start_time": "2024-10-15T08:18:27.736Z"
   },
   {
    "duration": 6,
    "start_time": "2024-10-15T08:18:27.752Z"
   },
   {
    "duration": 14,
    "start_time": "2024-10-15T08:18:27.759Z"
   },
   {
    "duration": 310,
    "start_time": "2024-10-15T08:18:27.774Z"
   },
   {
    "duration": 11,
    "start_time": "2024-10-15T08:18:28.087Z"
   },
   {
    "duration": 522,
    "start_time": "2024-10-15T08:18:28.100Z"
   },
   {
    "duration": 136,
    "start_time": "2024-10-15T08:18:28.626Z"
   },
   {
    "duration": 0,
    "start_time": "2024-10-15T08:18:28.764Z"
   },
   {
    "duration": 0,
    "start_time": "2024-10-15T08:18:28.765Z"
   },
   {
    "duration": 161,
    "start_time": "2024-10-16T17:56:31.879Z"
   },
   {
    "duration": 14,
    "start_time": "2024-10-16T17:56:45.569Z"
   },
   {
    "duration": 2551,
    "start_time": "2024-10-16T17:57:03.501Z"
   },
   {
    "duration": 32,
    "start_time": "2024-10-16T17:57:06.055Z"
   },
   {
    "duration": 9,
    "start_time": "2024-10-16T17:57:06.089Z"
   },
   {
    "duration": 11,
    "start_time": "2024-10-16T17:57:06.100Z"
   },
   {
    "duration": 6,
    "start_time": "2024-10-16T17:57:06.114Z"
   },
   {
    "duration": 7,
    "start_time": "2024-10-16T17:57:06.122Z"
   },
   {
    "duration": 49,
    "start_time": "2024-10-16T17:57:06.131Z"
   },
   {
    "duration": 16,
    "start_time": "2024-10-16T17:57:06.182Z"
   },
   {
    "duration": 10,
    "start_time": "2024-10-16T17:57:06.200Z"
   },
   {
    "duration": 6,
    "start_time": "2024-10-16T17:57:06.212Z"
   },
   {
    "duration": 13,
    "start_time": "2024-10-16T17:57:06.219Z"
   },
   {
    "duration": 316,
    "start_time": "2024-10-16T17:57:06.233Z"
   },
   {
    "duration": 13,
    "start_time": "2024-10-16T17:57:06.552Z"
   },
   {
    "duration": 441,
    "start_time": "2024-10-16T17:57:06.569Z"
   },
   {
    "duration": 144,
    "start_time": "2024-10-16T17:57:07.012Z"
   },
   {
    "duration": 0,
    "start_time": "2024-10-16T17:57:07.158Z"
   },
   {
    "duration": 0,
    "start_time": "2024-10-16T17:57:07.160Z"
   },
   {
    "duration": 11,
    "start_time": "2024-10-16T20:19:48.060Z"
   },
   {
    "duration": 811,
    "start_time": "2024-10-16T22:01:34.379Z"
   },
   {
    "duration": 24,
    "start_time": "2024-10-16T22:01:35.192Z"
   },
   {
    "duration": 8,
    "start_time": "2024-10-16T22:01:35.218Z"
   },
   {
    "duration": 10,
    "start_time": "2024-10-16T22:01:35.228Z"
   },
   {
    "duration": 6,
    "start_time": "2024-10-16T22:01:35.240Z"
   },
   {
    "duration": 32,
    "start_time": "2024-10-16T22:01:35.248Z"
   },
   {
    "duration": 14,
    "start_time": "2024-10-16T22:01:35.282Z"
   },
   {
    "duration": 15,
    "start_time": "2024-10-16T22:01:35.298Z"
   },
   {
    "duration": 10,
    "start_time": "2024-10-16T22:01:35.315Z"
   },
   {
    "duration": 6,
    "start_time": "2024-10-16T22:01:35.329Z"
   },
   {
    "duration": 45,
    "start_time": "2024-10-16T22:01:35.336Z"
   },
   {
    "duration": 271,
    "start_time": "2024-10-16T22:01:35.383Z"
   },
   {
    "duration": 20,
    "start_time": "2024-10-16T22:01:35.655Z"
   },
   {
    "duration": 486,
    "start_time": "2024-10-16T22:01:35.676Z"
   },
   {
    "duration": 137,
    "start_time": "2024-10-16T22:01:36.163Z"
   },
   {
    "duration": 0,
    "start_time": "2024-10-16T22:01:36.302Z"
   },
   {
    "duration": 0,
    "start_time": "2024-10-16T22:01:36.303Z"
   },
   {
    "duration": 2724,
    "start_time": "2024-10-17T02:26:41.846Z"
   },
   {
    "duration": 37,
    "start_time": "2024-10-17T02:26:44.572Z"
   },
   {
    "duration": 11,
    "start_time": "2024-10-17T02:26:44.611Z"
   },
   {
    "duration": 16,
    "start_time": "2024-10-17T02:26:44.625Z"
   },
   {
    "duration": 7,
    "start_time": "2024-10-17T02:26:44.643Z"
   },
   {
    "duration": 13,
    "start_time": "2024-10-17T02:26:44.652Z"
   },
   {
    "duration": 16,
    "start_time": "2024-10-17T02:26:44.667Z"
   },
   {
    "duration": 17,
    "start_time": "2024-10-17T02:26:44.685Z"
   },
   {
    "duration": 14,
    "start_time": "2024-10-17T02:26:44.731Z"
   },
   {
    "duration": 7,
    "start_time": "2024-10-17T02:26:44.750Z"
   },
   {
    "duration": 13,
    "start_time": "2024-10-17T02:26:44.758Z"
   },
   {
    "duration": 298,
    "start_time": "2024-10-17T02:26:44.773Z"
   },
   {
    "duration": 13,
    "start_time": "2024-10-17T02:26:45.073Z"
   },
   {
    "duration": 460,
    "start_time": "2024-10-17T02:26:45.087Z"
   },
   {
    "duration": 151,
    "start_time": "2024-10-17T02:26:45.549Z"
   },
   {
    "duration": 0,
    "start_time": "2024-10-17T02:26:45.702Z"
   },
   {
    "duration": 0,
    "start_time": "2024-10-17T02:26:45.703Z"
   },
   {
    "duration": 17,
    "start_time": "2024-10-17T03:25:37.873Z"
   },
   {
    "duration": 5,
    "start_time": "2024-10-17T03:25:50.872Z"
   },
   {
    "duration": 191,
    "start_time": "2024-10-17T03:26:14.579Z"
   },
   {
    "duration": 837,
    "start_time": "2024-10-17T03:31:37.312Z"
   },
   {
    "duration": 24,
    "start_time": "2024-10-17T03:31:38.152Z"
   },
   {
    "duration": 8,
    "start_time": "2024-10-17T03:31:38.180Z"
   },
   {
    "duration": 10,
    "start_time": "2024-10-17T03:31:38.190Z"
   },
   {
    "duration": 30,
    "start_time": "2024-10-17T03:31:38.201Z"
   },
   {
    "duration": 14,
    "start_time": "2024-10-17T03:31:38.234Z"
   },
   {
    "duration": 312,
    "start_time": "2024-10-17T03:31:38.250Z"
   },
   {
    "duration": 0,
    "start_time": "2024-10-17T03:31:38.565Z"
   },
   {
    "duration": 0,
    "start_time": "2024-10-17T03:31:38.566Z"
   },
   {
    "duration": 0,
    "start_time": "2024-10-17T03:31:38.568Z"
   },
   {
    "duration": 0,
    "start_time": "2024-10-17T03:31:38.568Z"
   },
   {
    "duration": 0,
    "start_time": "2024-10-17T03:31:38.570Z"
   },
   {
    "duration": 0,
    "start_time": "2024-10-17T03:31:38.571Z"
   },
   {
    "duration": 0,
    "start_time": "2024-10-17T03:31:38.573Z"
   },
   {
    "duration": 1,
    "start_time": "2024-10-17T03:31:38.573Z"
   },
   {
    "duration": 0,
    "start_time": "2024-10-17T03:31:38.575Z"
   },
   {
    "duration": 0,
    "start_time": "2024-10-17T03:31:38.576Z"
   },
   {
    "duration": 0,
    "start_time": "2024-10-17T03:31:38.577Z"
   },
   {
    "duration": 16,
    "start_time": "2024-10-17T03:39:57.153Z"
   },
   {
    "duration": 6,
    "start_time": "2024-10-17T03:41:30.215Z"
   },
   {
    "duration": 7,
    "start_time": "2024-10-17T03:44:38.541Z"
   },
   {
    "duration": 6,
    "start_time": "2024-10-17T03:45:03.515Z"
   },
   {
    "duration": 841,
    "start_time": "2024-10-17T03:45:12.831Z"
   },
   {
    "duration": 27,
    "start_time": "2024-10-17T03:45:13.674Z"
   },
   {
    "duration": 9,
    "start_time": "2024-10-17T03:45:13.702Z"
   },
   {
    "duration": 20,
    "start_time": "2024-10-17T03:45:13.712Z"
   },
   {
    "duration": 6,
    "start_time": "2024-10-17T03:45:13.735Z"
   },
   {
    "duration": 13,
    "start_time": "2024-10-17T03:45:13.743Z"
   },
   {
    "duration": 7,
    "start_time": "2024-10-17T03:45:13.758Z"
   },
   {
    "duration": 936,
    "start_time": "2024-10-17T03:45:13.766Z"
   },
   {
    "duration": 0,
    "start_time": "2024-10-17T03:45:14.704Z"
   },
   {
    "duration": 0,
    "start_time": "2024-10-17T03:45:14.706Z"
   },
   {
    "duration": 0,
    "start_time": "2024-10-17T03:45:14.707Z"
   },
   {
    "duration": 0,
    "start_time": "2024-10-17T03:45:14.709Z"
   },
   {
    "duration": 0,
    "start_time": "2024-10-17T03:45:14.710Z"
   },
   {
    "duration": 0,
    "start_time": "2024-10-17T03:45:14.712Z"
   },
   {
    "duration": 0,
    "start_time": "2024-10-17T03:45:14.730Z"
   },
   {
    "duration": 0,
    "start_time": "2024-10-17T03:45:14.732Z"
   },
   {
    "duration": 0,
    "start_time": "2024-10-17T03:45:14.733Z"
   },
   {
    "duration": 0,
    "start_time": "2024-10-17T03:45:14.734Z"
   },
   {
    "duration": 0,
    "start_time": "2024-10-17T03:45:14.735Z"
   },
   {
    "duration": 16,
    "start_time": "2024-10-17T03:46:08.760Z"
   },
   {
    "duration": 5,
    "start_time": "2024-10-17T03:50:41.997Z"
   },
   {
    "duration": 3,
    "start_time": "2024-10-17T03:50:50.836Z"
   },
   {
    "duration": 3,
    "start_time": "2024-10-17T03:50:53.116Z"
   },
   {
    "duration": 11,
    "start_time": "2024-10-17T03:51:31.430Z"
   },
   {
    "duration": 5,
    "start_time": "2024-10-17T03:59:17.185Z"
   },
   {
    "duration": 7,
    "start_time": "2024-10-17T04:03:19.007Z"
   },
   {
    "duration": 5,
    "start_time": "2024-10-17T04:04:22.150Z"
   },
   {
    "duration": 12,
    "start_time": "2024-10-17T04:04:26.163Z"
   },
   {
    "duration": 810,
    "start_time": "2024-10-17T04:04:58.618Z"
   },
   {
    "duration": 26,
    "start_time": "2024-10-17T04:04:59.431Z"
   },
   {
    "duration": 8,
    "start_time": "2024-10-17T04:04:59.459Z"
   },
   {
    "duration": 11,
    "start_time": "2024-10-17T04:04:59.470Z"
   },
   {
    "duration": 7,
    "start_time": "2024-10-17T04:04:59.483Z"
   },
   {
    "duration": 40,
    "start_time": "2024-10-17T04:04:59.492Z"
   },
   {
    "duration": 829,
    "start_time": "2024-10-17T04:04:59.535Z"
   },
   {
    "duration": 0,
    "start_time": "2024-10-17T04:05:00.366Z"
   },
   {
    "duration": 0,
    "start_time": "2024-10-17T04:05:00.368Z"
   },
   {
    "duration": 0,
    "start_time": "2024-10-17T04:05:00.369Z"
   },
   {
    "duration": 0,
    "start_time": "2024-10-17T04:05:00.371Z"
   },
   {
    "duration": 0,
    "start_time": "2024-10-17T04:05:00.372Z"
   },
   {
    "duration": 0,
    "start_time": "2024-10-17T04:05:00.374Z"
   },
   {
    "duration": 0,
    "start_time": "2024-10-17T04:05:00.375Z"
   },
   {
    "duration": 0,
    "start_time": "2024-10-17T04:05:00.377Z"
   },
   {
    "duration": 0,
    "start_time": "2024-10-17T04:05:00.378Z"
   },
   {
    "duration": 0,
    "start_time": "2024-10-17T04:05:00.379Z"
   },
   {
    "duration": 0,
    "start_time": "2024-10-17T04:05:00.380Z"
   },
   {
    "duration": 0,
    "start_time": "2024-10-17T04:05:00.381Z"
   },
   {
    "duration": 0,
    "start_time": "2024-10-17T04:05:00.382Z"
   },
   {
    "duration": 7,
    "start_time": "2024-10-17T04:05:57.874Z"
   },
   {
    "duration": 13,
    "start_time": "2024-10-17T04:06:11.325Z"
   },
   {
    "duration": 852,
    "start_time": "2024-10-17T04:06:27.233Z"
   },
   {
    "duration": 26,
    "start_time": "2024-10-17T04:06:28.088Z"
   },
   {
    "duration": 17,
    "start_time": "2024-10-17T04:06:28.116Z"
   },
   {
    "duration": 12,
    "start_time": "2024-10-17T04:06:28.139Z"
   },
   {
    "duration": 6,
    "start_time": "2024-10-17T04:06:28.154Z"
   },
   {
    "duration": 13,
    "start_time": "2024-10-17T04:06:28.161Z"
   },
   {
    "duration": 8,
    "start_time": "2024-10-17T04:06:28.176Z"
   },
   {
    "duration": 13,
    "start_time": "2024-10-17T04:06:28.185Z"
   },
   {
    "duration": 34,
    "start_time": "2024-10-17T04:06:28.200Z"
   },
   {
    "duration": 13,
    "start_time": "2024-10-17T04:06:28.236Z"
   },
   {
    "duration": 17,
    "start_time": "2024-10-17T04:06:28.251Z"
   },
   {
    "duration": 12,
    "start_time": "2024-10-17T04:06:28.270Z"
   },
   {
    "duration": 5,
    "start_time": "2024-10-17T04:06:28.284Z"
   },
   {
    "duration": 51,
    "start_time": "2024-10-17T04:06:28.293Z"
   },
   {
    "duration": 285,
    "start_time": "2024-10-17T04:06:28.346Z"
   },
   {
    "duration": 11,
    "start_time": "2024-10-17T04:06:28.633Z"
   },
   {
    "duration": 549,
    "start_time": "2024-10-17T04:06:28.646Z"
   },
   {
    "duration": 151,
    "start_time": "2024-10-17T04:06:29.197Z"
   },
   {
    "duration": 0,
    "start_time": "2024-10-17T04:06:29.350Z"
   },
   {
    "duration": 0,
    "start_time": "2024-10-17T04:06:29.352Z"
   },
   {
    "duration": 16,
    "start_time": "2024-10-17T07:12:15.500Z"
   },
   {
    "duration": 17,
    "start_time": "2024-10-17T07:14:24.783Z"
   },
   {
    "duration": 15,
    "start_time": "2024-10-17T07:14:38.723Z"
   },
   {
    "duration": 14,
    "start_time": "2024-10-17T07:17:21.222Z"
   },
   {
    "duration": 841,
    "start_time": "2024-10-17T07:17:28.955Z"
   },
   {
    "duration": 26,
    "start_time": "2024-10-17T07:17:29.799Z"
   },
   {
    "duration": 8,
    "start_time": "2024-10-17T07:17:29.831Z"
   },
   {
    "duration": 11,
    "start_time": "2024-10-17T07:17:29.842Z"
   },
   {
    "duration": 7,
    "start_time": "2024-10-17T07:17:29.855Z"
   },
   {
    "duration": 12,
    "start_time": "2024-10-17T07:17:29.863Z"
   },
   {
    "duration": 7,
    "start_time": "2024-10-17T07:17:29.877Z"
   },
   {
    "duration": 49,
    "start_time": "2024-10-17T07:17:29.885Z"
   },
   {
    "duration": 14,
    "start_time": "2024-10-17T07:17:29.936Z"
   },
   {
    "duration": 15,
    "start_time": "2024-10-17T07:17:29.954Z"
   },
   {
    "duration": 10,
    "start_time": "2024-10-17T07:17:29.971Z"
   },
   {
    "duration": 6,
    "start_time": "2024-10-17T07:17:29.983Z"
   },
   {
    "duration": 42,
    "start_time": "2024-10-17T07:17:29.990Z"
   },
   {
    "duration": 276,
    "start_time": "2024-10-17T07:17:30.034Z"
   },
   {
    "duration": 20,
    "start_time": "2024-10-17T07:17:30.312Z"
   },
   {
    "duration": 524,
    "start_time": "2024-10-17T07:17:30.334Z"
   },
   {
    "duration": 137,
    "start_time": "2024-10-17T07:17:30.860Z"
   },
   {
    "duration": 0,
    "start_time": "2024-10-17T07:17:30.999Z"
   },
   {
    "duration": 0,
    "start_time": "2024-10-17T07:17:31.000Z"
   },
   {
    "duration": 15,
    "start_time": "2024-10-17T07:22:32.953Z"
   },
   {
    "duration": 801,
    "start_time": "2024-10-17T07:22:48.472Z"
   },
   {
    "duration": 24,
    "start_time": "2024-10-17T07:22:49.276Z"
   },
   {
    "duration": 9,
    "start_time": "2024-10-17T07:22:49.301Z"
   },
   {
    "duration": 25,
    "start_time": "2024-10-17T07:22:49.313Z"
   },
   {
    "duration": 6,
    "start_time": "2024-10-17T07:22:49.340Z"
   },
   {
    "duration": 14,
    "start_time": "2024-10-17T07:22:49.348Z"
   },
   {
    "duration": 6,
    "start_time": "2024-10-17T07:22:49.364Z"
   },
   {
    "duration": 13,
    "start_time": "2024-10-17T07:22:49.371Z"
   },
   {
    "duration": 45,
    "start_time": "2024-10-17T07:22:49.386Z"
   },
   {
    "duration": 16,
    "start_time": "2024-10-17T07:22:49.434Z"
   },
   {
    "duration": 11,
    "start_time": "2024-10-17T07:22:49.451Z"
   },
   {
    "duration": 5,
    "start_time": "2024-10-17T07:22:49.464Z"
   },
   {
    "duration": 12,
    "start_time": "2024-10-17T07:22:49.471Z"
   },
   {
    "duration": 307,
    "start_time": "2024-10-17T07:22:49.485Z"
   },
   {
    "duration": 12,
    "start_time": "2024-10-17T07:22:49.794Z"
   },
   {
    "duration": 514,
    "start_time": "2024-10-17T07:22:49.807Z"
   },
   {
    "duration": 150,
    "start_time": "2024-10-17T07:22:50.323Z"
   },
   {
    "duration": 0,
    "start_time": "2024-10-17T07:22:50.475Z"
   },
   {
    "duration": 0,
    "start_time": "2024-10-17T07:22:50.476Z"
   },
   {
    "duration": 6,
    "start_time": "2024-10-17T07:28:18.153Z"
   },
   {
    "duration": 864,
    "start_time": "2024-10-17T07:28:30.745Z"
   },
   {
    "duration": 27,
    "start_time": "2024-10-17T07:28:31.611Z"
   },
   {
    "duration": 9,
    "start_time": "2024-10-17T07:28:31.642Z"
   },
   {
    "duration": 12,
    "start_time": "2024-10-17T07:28:31.654Z"
   },
   {
    "duration": 6,
    "start_time": "2024-10-17T07:28:31.667Z"
   },
   {
    "duration": 13,
    "start_time": "2024-10-17T07:28:31.675Z"
   },
   {
    "duration": 7,
    "start_time": "2024-10-17T07:28:31.690Z"
   },
   {
    "duration": 42,
    "start_time": "2024-10-17T07:28:31.700Z"
   },
   {
    "duration": 14,
    "start_time": "2024-10-17T07:28:31.744Z"
   },
   {
    "duration": 15,
    "start_time": "2024-10-17T07:28:31.761Z"
   },
   {
    "duration": 6,
    "start_time": "2024-10-17T07:28:31.778Z"
   },
   {
    "duration": 12,
    "start_time": "2024-10-17T07:28:31.786Z"
   },
   {
    "duration": 277,
    "start_time": "2024-10-17T07:28:31.832Z"
   },
   {
    "duration": 20,
    "start_time": "2024-10-17T07:28:32.113Z"
   },
   {
    "duration": 484,
    "start_time": "2024-10-17T07:28:32.135Z"
   },
   {
    "duration": 147,
    "start_time": "2024-10-17T07:28:32.621Z"
   },
   {
    "duration": 0,
    "start_time": "2024-10-17T07:28:32.771Z"
   },
   {
    "duration": 0,
    "start_time": "2024-10-17T07:28:32.772Z"
   },
   {
    "duration": 9,
    "start_time": "2024-10-17T07:32:24.810Z"
   },
   {
    "duration": 836,
    "start_time": "2024-10-17T07:32:43.612Z"
   },
   {
    "duration": 26,
    "start_time": "2024-10-17T07:32:44.450Z"
   },
   {
    "duration": 9,
    "start_time": "2024-10-17T07:32:44.478Z"
   },
   {
    "duration": 10,
    "start_time": "2024-10-17T07:32:44.490Z"
   },
   {
    "duration": 6,
    "start_time": "2024-10-17T07:32:44.502Z"
   },
   {
    "duration": 12,
    "start_time": "2024-10-17T07:32:44.532Z"
   },
   {
    "duration": 6,
    "start_time": "2024-10-17T07:32:44.546Z"
   },
   {
    "duration": 13,
    "start_time": "2024-10-17T07:32:44.554Z"
   },
   {
    "duration": 14,
    "start_time": "2024-10-17T07:32:44.569Z"
   },
   {
    "duration": 47,
    "start_time": "2024-10-17T07:32:44.587Z"
   },
   {
    "duration": 10,
    "start_time": "2024-10-17T07:32:44.636Z"
   },
   {
    "duration": 12,
    "start_time": "2024-10-17T07:32:44.648Z"
   },
   {
    "duration": 279,
    "start_time": "2024-10-17T07:32:44.662Z"
   },
   {
    "duration": 13,
    "start_time": "2024-10-17T07:32:44.943Z"
   },
   {
    "duration": 534,
    "start_time": "2024-10-17T07:32:44.957Z"
   },
   {
    "duration": 135,
    "start_time": "2024-10-17T07:32:45.493Z"
   },
   {
    "duration": 0,
    "start_time": "2024-10-17T07:32:45.631Z"
   },
   {
    "duration": 0,
    "start_time": "2024-10-17T07:32:45.633Z"
   },
   {
    "duration": 7,
    "start_time": "2024-10-17T07:34:01.707Z"
   },
   {
    "duration": 10,
    "start_time": "2024-10-17T07:34:54.964Z"
   },
   {
    "duration": 7,
    "start_time": "2024-10-17T07:35:16.640Z"
   },
   {
    "duration": 14,
    "start_time": "2024-10-17T07:38:11.549Z"
   },
   {
    "duration": 260,
    "start_time": "2024-10-17T07:41:20.279Z"
   },
   {
    "duration": 255,
    "start_time": "2024-10-17T07:41:30.243Z"
   },
   {
    "duration": 848,
    "start_time": "2024-10-17T07:45:53.310Z"
   },
   {
    "duration": 26,
    "start_time": "2024-10-17T07:45:54.161Z"
   },
   {
    "duration": 8,
    "start_time": "2024-10-17T07:45:54.188Z"
   },
   {
    "duration": 11,
    "start_time": "2024-10-17T07:45:54.198Z"
   },
   {
    "duration": 25,
    "start_time": "2024-10-17T07:45:54.211Z"
   },
   {
    "duration": 12,
    "start_time": "2024-10-17T07:45:54.238Z"
   },
   {
    "duration": 7,
    "start_time": "2024-10-17T07:45:54.251Z"
   },
   {
    "duration": 13,
    "start_time": "2024-10-17T07:45:54.259Z"
   },
   {
    "duration": 15,
    "start_time": "2024-10-17T07:45:54.274Z"
   },
   {
    "duration": 45,
    "start_time": "2024-10-17T07:45:54.293Z"
   },
   {
    "duration": 15,
    "start_time": "2024-10-17T07:45:54.340Z"
   },
   {
    "duration": 12,
    "start_time": "2024-10-17T07:45:54.357Z"
   },
   {
    "duration": 291,
    "start_time": "2024-10-17T07:45:54.371Z"
   },
   {
    "duration": 14,
    "start_time": "2024-10-17T07:45:54.665Z"
   },
   {
    "duration": 497,
    "start_time": "2024-10-17T07:45:54.681Z"
   },
   {
    "duration": 141,
    "start_time": "2024-10-17T07:45:55.180Z"
   },
   {
    "duration": 0,
    "start_time": "2024-10-17T07:45:55.323Z"
   },
   {
    "duration": 0,
    "start_time": "2024-10-17T07:45:55.325Z"
   },
   {
    "duration": 6,
    "start_time": "2024-10-17T07:48:06.937Z"
   },
   {
    "duration": 4,
    "start_time": "2024-10-17T07:48:19.027Z"
   },
   {
    "duration": 15,
    "start_time": "2024-10-17T07:49:11.778Z"
   },
   {
    "duration": 254,
    "start_time": "2024-10-17T07:49:40.528Z"
   },
   {
    "duration": 12,
    "start_time": "2024-10-17T07:52:12.168Z"
   },
   {
    "duration": 493,
    "start_time": "2024-10-17T07:53:37.743Z"
   },
   {
    "duration": 3,
    "start_time": "2024-10-17T07:57:53.494Z"
   },
   {
    "duration": 192,
    "start_time": "2024-10-17T07:58:25.771Z"
   },
   {
    "duration": 242,
    "start_time": "2024-10-17T07:59:12.412Z"
   },
   {
    "duration": 2592,
    "start_time": "2024-10-18T01:31:58.164Z"
   },
   {
    "duration": 38,
    "start_time": "2024-10-18T01:32:00.758Z"
   },
   {
    "duration": 9,
    "start_time": "2024-10-18T01:32:00.798Z"
   },
   {
    "duration": 10,
    "start_time": "2024-10-18T01:32:00.809Z"
   },
   {
    "duration": 8,
    "start_time": "2024-10-18T01:32:00.820Z"
   },
   {
    "duration": 12,
    "start_time": "2024-10-18T01:32:00.829Z"
   },
   {
    "duration": 6,
    "start_time": "2024-10-18T01:32:00.843Z"
   },
   {
    "duration": 12,
    "start_time": "2024-10-18T01:32:00.851Z"
   },
   {
    "duration": 44,
    "start_time": "2024-10-18T01:32:00.865Z"
   },
   {
    "duration": 11,
    "start_time": "2024-10-18T01:32:00.912Z"
   },
   {
    "duration": 16,
    "start_time": "2024-10-18T01:32:00.924Z"
   },
   {
    "duration": 13,
    "start_time": "2024-10-18T01:32:00.941Z"
   },
   {
    "duration": 245,
    "start_time": "2024-10-18T01:32:00.955Z"
   },
   {
    "duration": 0,
    "start_time": "2024-10-18T01:32:01.202Z"
   },
   {
    "duration": 0,
    "start_time": "2024-10-18T01:32:01.209Z"
   },
   {
    "duration": 0,
    "start_time": "2024-10-18T01:32:01.210Z"
   },
   {
    "duration": 0,
    "start_time": "2024-10-18T01:32:01.212Z"
   },
   {
    "duration": 0,
    "start_time": "2024-10-18T01:32:01.214Z"
   },
   {
    "duration": 0,
    "start_time": "2024-10-18T01:32:01.215Z"
   },
   {
    "duration": 262,
    "start_time": "2024-10-18T01:32:46.491Z"
   },
   {
    "duration": 218,
    "start_time": "2024-10-18T01:32:58.512Z"
   },
   {
    "duration": 309,
    "start_time": "2024-10-18T03:56:15.803Z"
   },
   {
    "duration": 231,
    "start_time": "2024-10-18T03:56:52.610Z"
   },
   {
    "duration": 238,
    "start_time": "2024-10-18T06:39:57.715Z"
   },
   {
    "duration": 273,
    "start_time": "2024-10-18T06:41:59.648Z"
   },
   {
    "duration": 13,
    "start_time": "2024-10-18T06:45:55.984Z"
   },
   {
    "duration": 458,
    "start_time": "2024-10-18T06:46:40.669Z"
   },
   {
    "duration": 577,
    "start_time": "2024-10-18T06:48:52.096Z"
   },
   {
    "duration": 234,
    "start_time": "2024-10-18T07:20:47.858Z"
   },
   {
    "duration": 255,
    "start_time": "2024-10-18T07:26:10.868Z"
   },
   {
    "duration": 283,
    "start_time": "2024-10-18T07:26:19.693Z"
   },
   {
    "duration": 240,
    "start_time": "2024-10-18T07:26:26.894Z"
   },
   {
    "duration": 879,
    "start_time": "2024-10-18T07:26:57.920Z"
   },
   {
    "duration": 34,
    "start_time": "2024-10-18T07:26:58.801Z"
   },
   {
    "duration": 14,
    "start_time": "2024-10-18T07:26:58.837Z"
   },
   {
    "duration": 11,
    "start_time": "2024-10-18T07:26:58.852Z"
   },
   {
    "duration": 5,
    "start_time": "2024-10-18T07:26:58.866Z"
   },
   {
    "duration": 12,
    "start_time": "2024-10-18T07:26:58.873Z"
   },
   {
    "duration": 7,
    "start_time": "2024-10-18T07:26:58.910Z"
   },
   {
    "duration": 17,
    "start_time": "2024-10-18T07:26:58.919Z"
   },
   {
    "duration": 18,
    "start_time": "2024-10-18T07:26:58.938Z"
   },
   {
    "duration": 13,
    "start_time": "2024-10-18T07:26:58.958Z"
   },
   {
    "duration": 50,
    "start_time": "2024-10-18T07:26:58.973Z"
   },
   {
    "duration": 19,
    "start_time": "2024-10-18T07:26:59.025Z"
   },
   {
    "duration": 336,
    "start_time": "2024-10-18T07:26:59.046Z"
   },
   {
    "duration": 334,
    "start_time": "2024-10-18T07:26:59.385Z"
   },
   {
    "duration": 15,
    "start_time": "2024-10-18T07:26:59.726Z"
   },
   {
    "duration": 592,
    "start_time": "2024-10-18T07:26:59.743Z"
   },
   {
    "duration": 246,
    "start_time": "2024-10-18T07:27:00.338Z"
   },
   {
    "duration": 0,
    "start_time": "2024-10-18T07:27:00.587Z"
   },
   {
    "duration": 0,
    "start_time": "2024-10-18T07:27:00.588Z"
   },
   {
    "duration": 8,
    "start_time": "2024-10-18T07:34:52.173Z"
   },
   {
    "duration": 4,
    "start_time": "2024-10-18T07:35:03.374Z"
   },
   {
    "duration": 127,
    "start_time": "2024-10-18T07:35:17.352Z"
   },
   {
    "duration": 120,
    "start_time": "2024-10-18T07:37:51.766Z"
   },
   {
    "duration": 4,
    "start_time": "2024-10-18T07:39:51.873Z"
   },
   {
    "duration": 198,
    "start_time": "2024-10-18T07:39:57.906Z"
   },
   {
    "duration": 138,
    "start_time": "2024-10-18T07:41:05.432Z"
   },
   {
    "duration": 130,
    "start_time": "2024-10-18T07:41:15.564Z"
   },
   {
    "duration": 227,
    "start_time": "2024-10-18T07:41:56.248Z"
   },
   {
    "duration": 13,
    "start_time": "2024-10-18T07:42:02.295Z"
   },
   {
    "duration": 482,
    "start_time": "2024-10-18T07:42:10.554Z"
   },
   {
    "duration": 123,
    "start_time": "2024-10-18T07:42:16.953Z"
   },
   {
    "duration": 18,
    "start_time": "2024-10-18T07:43:21.553Z"
   },
   {
    "duration": 124,
    "start_time": "2024-10-18T07:45:42.686Z"
   },
   {
    "duration": 10,
    "start_time": "2024-10-18T07:48:32.026Z"
   },
   {
    "duration": 11,
    "start_time": "2024-10-18T07:49:13.270Z"
   },
   {
    "duration": 2839,
    "start_time": "2024-10-21T01:37:22.205Z"
   },
   {
    "duration": 38,
    "start_time": "2024-10-21T01:37:25.047Z"
   },
   {
    "duration": 10,
    "start_time": "2024-10-21T01:37:25.087Z"
   },
   {
    "duration": 15,
    "start_time": "2024-10-21T01:37:25.101Z"
   },
   {
    "duration": 7,
    "start_time": "2024-10-21T01:37:25.120Z"
   },
   {
    "duration": 16,
    "start_time": "2024-10-21T01:37:25.129Z"
   },
   {
    "duration": 8,
    "start_time": "2024-10-21T01:37:25.147Z"
   },
   {
    "duration": 16,
    "start_time": "2024-10-21T01:37:25.157Z"
   },
   {
    "duration": 20,
    "start_time": "2024-10-21T01:37:25.209Z"
   },
   {
    "duration": 14,
    "start_time": "2024-10-21T01:37:25.231Z"
   },
   {
    "duration": 18,
    "start_time": "2024-10-21T01:37:25.249Z"
   },
   {
    "duration": 41,
    "start_time": "2024-10-21T01:37:25.269Z"
   },
   {
    "duration": 310,
    "start_time": "2024-10-21T01:37:25.313Z"
   },
   {
    "duration": 302,
    "start_time": "2024-10-21T01:37:25.626Z"
   },
   {
    "duration": 13,
    "start_time": "2024-10-21T01:37:25.930Z"
   },
   {
    "duration": 648,
    "start_time": "2024-10-21T01:37:25.946Z"
   },
   {
    "duration": 3,
    "start_time": "2024-10-21T01:37:26.596Z"
   },
   {
    "duration": 11,
    "start_time": "2024-10-21T01:37:26.601Z"
   },
   {
    "duration": 137,
    "start_time": "2024-10-21T01:37:26.613Z"
   },
   {
    "duration": 241,
    "start_time": "2024-10-21T01:37:26.753Z"
   },
   {
    "duration": 0,
    "start_time": "2024-10-21T01:37:26.996Z"
   },
   {
    "duration": 527,
    "start_time": "2024-10-21T01:38:00.744Z"
   },
   {
    "duration": 8,
    "start_time": "2024-10-21T02:34:08.419Z"
   },
   {
    "duration": 16,
    "start_time": "2024-10-21T02:34:37.663Z"
   },
   {
    "duration": 12,
    "start_time": "2024-10-21T02:39:18.824Z"
   },
   {
    "duration": 11,
    "start_time": "2024-10-21T02:40:11.573Z"
   },
   {
    "duration": 683,
    "start_time": "2024-10-21T02:41:28.002Z"
   },
   {
    "duration": 14,
    "start_time": "2024-10-21T02:42:45.665Z"
   },
   {
    "duration": 589,
    "start_time": "2024-10-21T02:42:49.503Z"
   },
   {
    "duration": 3,
    "start_time": "2024-10-21T05:43:01.693Z"
   },
   {
    "duration": 14,
    "start_time": "2024-10-21T05:43:03.031Z"
   },
   {
    "duration": 14,
    "start_time": "2024-10-21T05:44:55.509Z"
   },
   {
    "duration": 787,
    "start_time": "2024-10-21T05:45:13.984Z"
   },
   {
    "duration": 35,
    "start_time": "2024-10-21T05:45:14.774Z"
   },
   {
    "duration": 8,
    "start_time": "2024-10-21T05:45:14.811Z"
   },
   {
    "duration": 10,
    "start_time": "2024-10-21T05:45:14.821Z"
   },
   {
    "duration": 5,
    "start_time": "2024-10-21T05:45:14.834Z"
   },
   {
    "duration": 13,
    "start_time": "2024-10-21T05:45:14.841Z"
   },
   {
    "duration": 8,
    "start_time": "2024-10-21T05:45:14.856Z"
   },
   {
    "duration": 48,
    "start_time": "2024-10-21T05:45:14.866Z"
   },
   {
    "duration": 14,
    "start_time": "2024-10-21T05:45:14.916Z"
   },
   {
    "duration": 10,
    "start_time": "2024-10-21T05:45:14.932Z"
   },
   {
    "duration": 15,
    "start_time": "2024-10-21T05:45:14.944Z"
   },
   {
    "duration": 12,
    "start_time": "2024-10-21T05:45:14.960Z"
   },
   {
    "duration": 37,
    "start_time": "2024-10-21T05:45:14.973Z"
   },
   {
    "duration": 293,
    "start_time": "2024-10-21T05:45:15.014Z"
   },
   {
    "duration": 242,
    "start_time": "2024-10-21T05:45:15.308Z"
   },
   {
    "duration": 11,
    "start_time": "2024-10-21T05:45:15.552Z"
   },
   {
    "duration": 580,
    "start_time": "2024-10-21T05:45:15.565Z"
   },
   {
    "duration": 219,
    "start_time": "2024-10-21T05:45:16.148Z"
   },
   {
    "duration": 0,
    "start_time": "2024-10-21T05:45:16.369Z"
   },
   {
    "duration": 0,
    "start_time": "2024-10-21T05:45:16.371Z"
   },
   {
    "duration": 0,
    "start_time": "2024-10-21T05:45:16.372Z"
   },
   {
    "duration": 5,
    "start_time": "2024-10-21T05:46:25.992Z"
   },
   {
    "duration": 10,
    "start_time": "2024-10-21T05:47:42.526Z"
   },
   {
    "duration": 12,
    "start_time": "2024-10-21T05:47:54.924Z"
   },
   {
    "duration": 19,
    "start_time": "2024-10-21T05:48:47.113Z"
   },
   {
    "duration": 13,
    "start_time": "2024-10-21T05:49:02.982Z"
   },
   {
    "duration": 4,
    "start_time": "2024-10-21T06:52:51.174Z"
   },
   {
    "duration": 12,
    "start_time": "2024-10-21T06:53:14.251Z"
   },
   {
    "duration": 15,
    "start_time": "2024-10-21T07:07:47.146Z"
   },
   {
    "duration": 14,
    "start_time": "2024-10-21T07:08:37.832Z"
   },
   {
    "duration": 226,
    "start_time": "2024-10-21T07:10:42.959Z"
   },
   {
    "duration": 834,
    "start_time": "2024-10-21T07:11:04.606Z"
   },
   {
    "duration": 26,
    "start_time": "2024-10-21T07:11:05.442Z"
   },
   {
    "duration": 7,
    "start_time": "2024-10-21T07:11:05.469Z"
   },
   {
    "duration": 11,
    "start_time": "2024-10-21T07:11:05.477Z"
   },
   {
    "duration": 23,
    "start_time": "2024-10-21T07:11:05.490Z"
   },
   {
    "duration": 13,
    "start_time": "2024-10-21T07:11:05.514Z"
   },
   {
    "duration": 7,
    "start_time": "2024-10-21T07:11:05.528Z"
   },
   {
    "duration": 13,
    "start_time": "2024-10-21T07:11:05.537Z"
   },
   {
    "duration": 14,
    "start_time": "2024-10-21T07:11:05.551Z"
   },
   {
    "duration": 44,
    "start_time": "2024-10-21T07:11:05.566Z"
   },
   {
    "duration": 15,
    "start_time": "2024-10-21T07:11:05.611Z"
   },
   {
    "duration": 13,
    "start_time": "2024-10-21T07:11:05.628Z"
   },
   {
    "duration": 10,
    "start_time": "2024-10-21T07:11:05.642Z"
   },
   {
    "duration": 303,
    "start_time": "2024-10-21T07:11:05.656Z"
   },
   {
    "duration": 248,
    "start_time": "2024-10-21T07:11:05.962Z"
   },
   {
    "duration": 11,
    "start_time": "2024-10-21T07:11:06.212Z"
   },
   {
    "duration": 588,
    "start_time": "2024-10-21T07:11:06.225Z"
   },
   {
    "duration": 377,
    "start_time": "2024-10-21T07:11:06.816Z"
   },
   {
    "duration": 0,
    "start_time": "2024-10-21T07:11:07.196Z"
   },
   {
    "duration": 0,
    "start_time": "2024-10-21T07:11:07.201Z"
   },
   {
    "duration": 0,
    "start_time": "2024-10-21T07:11:07.203Z"
   },
   {
    "duration": 0,
    "start_time": "2024-10-21T07:11:07.204Z"
   },
   {
    "duration": 0,
    "start_time": "2024-10-21T07:11:07.205Z"
   },
   {
    "duration": 0,
    "start_time": "2024-10-21T07:11:07.207Z"
   },
   {
    "duration": 17,
    "start_time": "2024-10-21T07:11:38.983Z"
   },
   {
    "duration": 16,
    "start_time": "2024-10-21T07:11:47.511Z"
   },
   {
    "duration": 4,
    "start_time": "2024-10-21T07:13:25.523Z"
   },
   {
    "duration": 4,
    "start_time": "2024-10-21T07:13:38.169Z"
   },
   {
    "duration": 183,
    "start_time": "2024-10-21T07:13:53.215Z"
   },
   {
    "duration": 2,
    "start_time": "2024-10-21T07:17:57.620Z"
   },
   {
    "duration": 5,
    "start_time": "2024-10-21T07:18:19.338Z"
   },
   {
    "duration": 4,
    "start_time": "2024-10-21T07:18:57.746Z"
   },
   {
    "duration": 464,
    "start_time": "2024-10-21T07:23:05.682Z"
   },
   {
    "duration": 832,
    "start_time": "2024-10-21T07:27:16.638Z"
   },
   {
    "duration": 25,
    "start_time": "2024-10-21T07:27:17.473Z"
   },
   {
    "duration": 12,
    "start_time": "2024-10-21T07:27:17.500Z"
   },
   {
    "duration": 12,
    "start_time": "2024-10-21T07:27:17.516Z"
   },
   {
    "duration": 6,
    "start_time": "2024-10-21T07:27:17.530Z"
   },
   {
    "duration": 13,
    "start_time": "2024-10-21T07:27:17.537Z"
   },
   {
    "duration": 7,
    "start_time": "2024-10-21T07:27:17.551Z"
   },
   {
    "duration": 13,
    "start_time": "2024-10-21T07:27:17.559Z"
   },
   {
    "duration": 49,
    "start_time": "2024-10-21T07:27:17.574Z"
   },
   {
    "duration": 11,
    "start_time": "2024-10-21T07:27:17.625Z"
   },
   {
    "duration": 15,
    "start_time": "2024-10-21T07:27:17.638Z"
   },
   {
    "duration": 12,
    "start_time": "2024-10-21T07:27:17.655Z"
   },
   {
    "duration": 9,
    "start_time": "2024-10-21T07:27:17.669Z"
   },
   {
    "duration": 325,
    "start_time": "2024-10-21T07:27:17.680Z"
   },
   {
    "duration": 288,
    "start_time": "2024-10-21T07:27:18.007Z"
   },
   {
    "duration": 20,
    "start_time": "2024-10-21T07:27:18.297Z"
   },
   {
    "duration": 546,
    "start_time": "2024-10-21T07:27:18.319Z"
   },
   {
    "duration": 4,
    "start_time": "2024-10-21T07:27:18.867Z"
   },
   {
    "duration": 3,
    "start_time": "2024-10-21T07:27:18.873Z"
   },
   {
    "duration": 0,
    "start_time": "2024-10-21T07:27:18.878Z"
   },
   {
    "duration": 0,
    "start_time": "2024-10-21T07:27:18.879Z"
   },
   {
    "duration": 0,
    "start_time": "2024-10-21T07:27:18.880Z"
   },
   {
    "duration": 3,
    "start_time": "2024-10-21T07:28:04.877Z"
   },
   {
    "duration": 211,
    "start_time": "2024-10-21T07:28:50.579Z"
   },
   {
    "duration": 12,
    "start_time": "2024-10-21T07:31:41.670Z"
   },
   {
    "duration": 10,
    "start_time": "2024-10-21T07:33:43.760Z"
   },
   {
    "duration": 2,
    "start_time": "2024-10-21T07:34:09.348Z"
   },
   {
    "duration": 10,
    "start_time": "2024-10-21T07:34:32.968Z"
   },
   {
    "duration": 245,
    "start_time": "2024-10-21T07:43:45.104Z"
   },
   {
    "duration": 240,
    "start_time": "2024-10-21T07:44:00.210Z"
   },
   {
    "duration": 4,
    "start_time": "2024-10-21T07:46:57.677Z"
   },
   {
    "duration": 2,
    "start_time": "2024-10-21T07:50:30.756Z"
   },
   {
    "duration": 29,
    "start_time": "2024-10-21T07:50:32.272Z"
   },
   {
    "duration": 808,
    "start_time": "2024-10-21T07:50:44.430Z"
   },
   {
    "duration": 27,
    "start_time": "2024-10-21T07:50:45.240Z"
   },
   {
    "duration": 8,
    "start_time": "2024-10-21T07:50:45.268Z"
   },
   {
    "duration": 12,
    "start_time": "2024-10-21T07:50:45.278Z"
   },
   {
    "duration": 7,
    "start_time": "2024-10-21T07:50:45.309Z"
   },
   {
    "duration": 13,
    "start_time": "2024-10-21T07:50:45.318Z"
   },
   {
    "duration": 9,
    "start_time": "2024-10-21T07:50:45.333Z"
   },
   {
    "duration": 14,
    "start_time": "2024-10-21T07:50:45.343Z"
   },
   {
    "duration": 16,
    "start_time": "2024-10-21T07:50:45.358Z"
   },
   {
    "duration": 13,
    "start_time": "2024-10-21T07:50:45.408Z"
   },
   {
    "duration": 16,
    "start_time": "2024-10-21T07:50:45.422Z"
   },
   {
    "duration": 11,
    "start_time": "2024-10-21T07:50:45.441Z"
   },
   {
    "duration": 8,
    "start_time": "2024-10-21T07:50:45.454Z"
   },
   {
    "duration": 317,
    "start_time": "2024-10-21T07:50:45.466Z"
   },
   {
    "duration": 295,
    "start_time": "2024-10-21T07:50:45.786Z"
   },
   {
    "duration": 20,
    "start_time": "2024-10-21T07:50:46.083Z"
   },
   {
    "duration": 525,
    "start_time": "2024-10-21T07:50:46.104Z"
   },
   {
    "duration": 6,
    "start_time": "2024-10-21T07:50:46.631Z"
   },
   {
    "duration": 3,
    "start_time": "2024-10-21T07:50:46.640Z"
   },
   {
    "duration": 427,
    "start_time": "2024-10-21T07:50:46.645Z"
   },
   {
    "duration": 0,
    "start_time": "2024-10-21T07:50:47.074Z"
   },
   {
    "duration": 0,
    "start_time": "2024-10-21T07:50:47.075Z"
   },
   {
    "duration": 0,
    "start_time": "2024-10-21T07:50:47.076Z"
   },
   {
    "duration": 34,
    "start_time": "2024-10-21T07:52:51.708Z"
   },
   {
    "duration": 3,
    "start_time": "2024-10-21T07:52:56.657Z"
   },
   {
    "duration": 28,
    "start_time": "2024-10-21T07:52:58.175Z"
   },
   {
    "duration": 28,
    "start_time": "2024-10-21T07:54:10.645Z"
   },
   {
    "duration": 19,
    "start_time": "2024-10-21T07:55:28.751Z"
   },
   {
    "duration": 813,
    "start_time": "2024-10-21T07:56:22.720Z"
   },
   {
    "duration": 25,
    "start_time": "2024-10-21T07:56:23.534Z"
   },
   {
    "duration": 9,
    "start_time": "2024-10-21T07:56:23.560Z"
   },
   {
    "duration": 10,
    "start_time": "2024-10-21T07:56:23.571Z"
   },
   {
    "duration": 6,
    "start_time": "2024-10-21T07:56:23.583Z"
   },
   {
    "duration": 30,
    "start_time": "2024-10-21T07:56:23.590Z"
   },
   {
    "duration": 6,
    "start_time": "2024-10-21T07:56:23.621Z"
   },
   {
    "duration": 12,
    "start_time": "2024-10-21T07:56:23.629Z"
   },
   {
    "duration": 14,
    "start_time": "2024-10-21T07:56:23.642Z"
   },
   {
    "duration": 10,
    "start_time": "2024-10-21T07:56:23.659Z"
   },
   {
    "duration": 47,
    "start_time": "2024-10-21T07:56:23.670Z"
   },
   {
    "duration": 12,
    "start_time": "2024-10-21T07:56:23.719Z"
   },
   {
    "duration": 10,
    "start_time": "2024-10-21T07:56:23.732Z"
   },
   {
    "duration": 301,
    "start_time": "2024-10-21T07:56:23.744Z"
   },
   {
    "duration": 308,
    "start_time": "2024-10-21T07:56:24.047Z"
   },
   {
    "duration": 12,
    "start_time": "2024-10-21T07:56:24.357Z"
   },
   {
    "duration": 534,
    "start_time": "2024-10-21T07:56:24.371Z"
   },
   {
    "duration": 5,
    "start_time": "2024-10-21T07:56:24.907Z"
   },
   {
    "duration": 2,
    "start_time": "2024-10-21T07:56:24.915Z"
   },
   {
    "duration": 13,
    "start_time": "2024-10-21T07:56:24.919Z"
   },
   {
    "duration": 245,
    "start_time": "2024-10-21T07:56:24.933Z"
   },
   {
    "duration": 0,
    "start_time": "2024-10-21T07:56:25.180Z"
   },
   {
    "duration": 0,
    "start_time": "2024-10-21T07:56:25.181Z"
   },
   {
    "duration": 174,
    "start_time": "2024-10-21T20:04:44.128Z"
   },
   {
    "duration": 2754,
    "start_time": "2024-10-21T20:05:02.052Z"
   },
   {
    "duration": 48,
    "start_time": "2024-10-21T20:05:04.808Z"
   },
   {
    "duration": 9,
    "start_time": "2024-10-21T20:05:04.858Z"
   },
   {
    "duration": 11,
    "start_time": "2024-10-21T20:05:04.869Z"
   },
   {
    "duration": 7,
    "start_time": "2024-10-21T20:05:04.883Z"
   },
   {
    "duration": 12,
    "start_time": "2024-10-21T20:05:04.892Z"
   },
   {
    "duration": 38,
    "start_time": "2024-10-21T20:05:04.906Z"
   },
   {
    "duration": 14,
    "start_time": "2024-10-21T20:05:04.945Z"
   },
   {
    "duration": 16,
    "start_time": "2024-10-21T20:05:04.961Z"
   },
   {
    "duration": 13,
    "start_time": "2024-10-21T20:05:04.979Z"
   },
   {
    "duration": 17,
    "start_time": "2024-10-21T20:05:04.994Z"
   },
   {
    "duration": 42,
    "start_time": "2024-10-21T20:05:05.013Z"
   },
   {
    "duration": 11,
    "start_time": "2024-10-21T20:05:05.057Z"
   },
   {
    "duration": 313,
    "start_time": "2024-10-21T20:05:05.071Z"
   },
   {
    "duration": 258,
    "start_time": "2024-10-21T20:05:05.386Z"
   },
   {
    "duration": 20,
    "start_time": "2024-10-21T20:05:05.646Z"
   },
   {
    "duration": 11,
    "start_time": "2024-10-21T20:05:05.668Z"
   },
   {
    "duration": 646,
    "start_time": "2024-10-21T20:05:05.681Z"
   },
   {
    "duration": 5,
    "start_time": "2024-10-21T20:05:06.329Z"
   },
   {
    "duration": 2,
    "start_time": "2024-10-21T20:05:06.336Z"
   },
   {
    "duration": 13,
    "start_time": "2024-10-21T20:05:06.341Z"
   },
   {
    "duration": 241,
    "start_time": "2024-10-21T20:05:06.356Z"
   },
   {
    "duration": 0,
    "start_time": "2024-10-21T20:05:06.600Z"
   },
   {
    "duration": 0,
    "start_time": "2024-10-21T20:05:06.601Z"
   },
   {
    "duration": 222,
    "start_time": "2024-10-21T20:08:15.078Z"
   },
   {
    "duration": 14,
    "start_time": "2024-10-21T20:11:09.980Z"
   },
   {
    "duration": 11,
    "start_time": "2024-10-21T20:12:11.421Z"
   },
   {
    "duration": 519,
    "start_time": "2024-10-21T20:12:27.500Z"
   },
   {
    "duration": 3,
    "start_time": "2024-10-21T20:19:36.258Z"
   },
   {
    "duration": 17,
    "start_time": "2024-10-21T20:19:50.489Z"
   },
   {
    "duration": 13,
    "start_time": "2024-10-21T20:20:51.522Z"
   },
   {
    "duration": 244,
    "start_time": "2024-10-21T20:21:03.398Z"
   },
   {
    "duration": 13,
    "start_time": "2024-10-21T20:26:30.163Z"
   },
   {
    "duration": 2,
    "start_time": "2024-10-21T20:38:54.817Z"
   },
   {
    "duration": 401,
    "start_time": "2024-10-21T20:42:39.804Z"
   },
   {
    "duration": 260,
    "start_time": "2024-10-21T20:45:06.751Z"
   },
   {
    "duration": 262,
    "start_time": "2024-10-21T20:45:47.405Z"
   },
   {
    "duration": 317,
    "start_time": "2024-10-21T21:28:43.858Z"
   },
   {
    "duration": 286,
    "start_time": "2024-10-21T21:28:51.964Z"
   },
   {
    "duration": 279,
    "start_time": "2024-10-21T21:29:02.238Z"
   },
   {
    "duration": 397,
    "start_time": "2024-10-21T21:29:15.575Z"
   },
   {
    "duration": 300,
    "start_time": "2024-10-21T21:29:24.974Z"
   },
   {
    "duration": 308,
    "start_time": "2024-10-21T21:30:03.304Z"
   },
   {
    "duration": 319,
    "start_time": "2024-10-21T21:35:52.199Z"
   },
   {
    "duration": 309,
    "start_time": "2024-10-21T22:11:42.884Z"
   },
   {
    "duration": 265,
    "start_time": "2024-10-21T22:16:58.259Z"
   },
   {
    "duration": 277,
    "start_time": "2024-10-21T22:19:31.814Z"
   },
   {
    "duration": 199,
    "start_time": "2024-10-21T22:20:35.411Z"
   },
   {
    "duration": 171,
    "start_time": "2024-10-21T22:38:43.950Z"
   },
   {
    "duration": 172,
    "start_time": "2024-10-21T22:43:18.702Z"
   },
   {
    "duration": 8,
    "start_time": "2024-10-21T23:15:17.310Z"
   },
   {
    "duration": 8,
    "start_time": "2024-10-21T23:17:42.716Z"
   },
   {
    "duration": 446,
    "start_time": "2024-10-21T23:18:31.245Z"
   },
   {
    "duration": 7,
    "start_time": "2024-10-21T23:19:08.331Z"
   },
   {
    "duration": 8,
    "start_time": "2024-10-21T23:20:46.705Z"
   },
   {
    "duration": 19,
    "start_time": "2024-10-21T23:22:19.545Z"
   },
   {
    "duration": 8,
    "start_time": "2024-10-21T23:22:39.091Z"
   },
   {
    "duration": 16,
    "start_time": "2024-10-21T23:25:13.900Z"
   },
   {
    "duration": 43,
    "start_time": "2024-10-21T23:25:30.699Z"
   },
   {
    "duration": 9,
    "start_time": "2024-10-21T23:26:51.045Z"
   },
   {
    "duration": 8,
    "start_time": "2024-10-21T23:27:24.927Z"
   },
   {
    "duration": 8,
    "start_time": "2024-10-21T23:27:39.577Z"
   },
   {
    "duration": 7,
    "start_time": "2024-10-21T23:33:26.819Z"
   },
   {
    "duration": 6,
    "start_time": "2024-10-21T23:36:49.721Z"
   },
   {
    "duration": 6,
    "start_time": "2024-10-22T01:41:25.181Z"
   },
   {
    "duration": 19,
    "start_time": "2024-10-22T01:41:56.335Z"
   },
   {
    "duration": 9,
    "start_time": "2024-10-22T01:43:38.383Z"
   },
   {
    "duration": 9,
    "start_time": "2024-10-22T01:45:03.972Z"
   },
   {
    "duration": 55,
    "start_time": "2024-10-22T01:46:19.882Z"
   },
   {
    "duration": 10,
    "start_time": "2024-10-22T01:46:35.351Z"
   },
   {
    "duration": 44,
    "start_time": "2024-10-22T01:47:18.745Z"
   },
   {
    "duration": 9,
    "start_time": "2024-10-22T01:48:09.327Z"
   },
   {
    "duration": 897,
    "start_time": "2024-10-22T02:10:24.480Z"
   },
   {
    "duration": 26,
    "start_time": "2024-10-22T02:10:25.379Z"
   },
   {
    "duration": 10,
    "start_time": "2024-10-22T02:10:25.407Z"
   },
   {
    "duration": 24,
    "start_time": "2024-10-22T02:10:25.420Z"
   },
   {
    "duration": 7,
    "start_time": "2024-10-22T02:10:25.446Z"
   },
   {
    "duration": 19,
    "start_time": "2024-10-22T02:10:25.455Z"
   },
   {
    "duration": 7,
    "start_time": "2024-10-22T02:10:25.476Z"
   },
   {
    "duration": 16,
    "start_time": "2024-10-22T02:10:25.485Z"
   },
   {
    "duration": 45,
    "start_time": "2024-10-22T02:10:25.503Z"
   },
   {
    "duration": 14,
    "start_time": "2024-10-22T02:10:25.552Z"
   },
   {
    "duration": 16,
    "start_time": "2024-10-22T02:10:25.568Z"
   },
   {
    "duration": 14,
    "start_time": "2024-10-22T02:10:25.586Z"
   },
   {
    "duration": 40,
    "start_time": "2024-10-22T02:10:25.603Z"
   },
   {
    "duration": 321,
    "start_time": "2024-10-22T02:10:25.646Z"
   },
   {
    "duration": 340,
    "start_time": "2024-10-22T02:10:25.970Z"
   },
   {
    "duration": 16,
    "start_time": "2024-10-22T02:10:26.312Z"
   },
   {
    "duration": 23,
    "start_time": "2024-10-22T02:10:26.330Z"
   },
   {
    "duration": 588,
    "start_time": "2024-10-22T02:10:26.355Z"
   },
   {
    "duration": 7,
    "start_time": "2024-10-22T02:10:26.945Z"
   },
   {
    "duration": 3,
    "start_time": "2024-10-22T02:10:26.953Z"
   },
   {
    "duration": 13,
    "start_time": "2024-10-22T02:10:26.958Z"
   },
   {
    "duration": 323,
    "start_time": "2024-10-22T02:10:26.975Z"
   },
   {
    "duration": 306,
    "start_time": "2024-10-22T02:10:27.301Z"
   },
   {
    "duration": 394,
    "start_time": "2024-10-22T02:10:27.609Z"
   },
   {
    "duration": 535,
    "start_time": "2024-10-22T02:10:28.008Z"
   },
   {
    "duration": 247,
    "start_time": "2024-10-22T02:10:28.545Z"
   },
   {
    "duration": 14,
    "start_time": "2024-10-22T02:10:28.794Z"
   },
   {
    "duration": 14,
    "start_time": "2024-10-22T02:10:28.817Z"
   },
   {
    "duration": 11,
    "start_time": "2024-10-22T02:10:28.844Z"
   },
   {
    "duration": 13,
    "start_time": "2024-10-22T02:18:39.395Z"
   },
   {
    "duration": 14,
    "start_time": "2024-10-22T02:27:03.273Z"
   },
   {
    "duration": 549,
    "start_time": "2024-10-22T02:33:15.628Z"
   },
   {
    "duration": 472,
    "start_time": "2024-10-22T02:35:32.257Z"
   },
   {
    "duration": 559,
    "start_time": "2024-10-22T02:36:43.329Z"
   },
   {
    "duration": 772,
    "start_time": "2024-10-22T02:37:50.978Z"
   },
   {
    "duration": 9,
    "start_time": "2024-10-22T02:42:06.337Z"
   },
   {
    "duration": 12,
    "start_time": "2024-10-22T02:42:13.084Z"
   },
   {
    "duration": 8,
    "start_time": "2024-10-22T02:42:22.462Z"
   },
   {
    "duration": 12,
    "start_time": "2024-10-22T02:43:57.866Z"
   },
   {
    "duration": 266,
    "start_time": "2024-10-22T02:45:07.028Z"
   },
   {
    "duration": 439,
    "start_time": "2024-10-22T02:45:29.993Z"
   },
   {
    "duration": 421,
    "start_time": "2024-10-22T02:51:06.593Z"
   },
   {
    "duration": 838,
    "start_time": "2024-10-22T02:51:16.534Z"
   },
   {
    "duration": 38,
    "start_time": "2024-10-22T02:51:17.374Z"
   },
   {
    "duration": 11,
    "start_time": "2024-10-22T02:51:17.414Z"
   },
   {
    "duration": 26,
    "start_time": "2024-10-22T02:51:17.427Z"
   },
   {
    "duration": 8,
    "start_time": "2024-10-22T02:51:17.455Z"
   },
   {
    "duration": 19,
    "start_time": "2024-10-22T02:51:17.466Z"
   },
   {
    "duration": 8,
    "start_time": "2024-10-22T02:51:17.487Z"
   },
   {
    "duration": 14,
    "start_time": "2024-10-22T02:51:17.496Z"
   },
   {
    "duration": 43,
    "start_time": "2024-10-22T02:51:17.513Z"
   },
   {
    "duration": 16,
    "start_time": "2024-10-22T02:51:17.560Z"
   },
   {
    "duration": 20,
    "start_time": "2024-10-22T02:51:17.578Z"
   },
   {
    "duration": 13,
    "start_time": "2024-10-22T02:51:17.600Z"
   },
   {
    "duration": 34,
    "start_time": "2024-10-22T02:51:17.616Z"
   },
   {
    "duration": 295,
    "start_time": "2024-10-22T02:51:17.652Z"
   },
   {
    "duration": 356,
    "start_time": "2024-10-22T02:51:17.950Z"
   },
   {
    "duration": 16,
    "start_time": "2024-10-22T02:51:18.308Z"
   },
   {
    "duration": 27,
    "start_time": "2024-10-22T02:51:18.326Z"
   },
   {
    "duration": 576,
    "start_time": "2024-10-22T02:51:18.355Z"
   },
   {
    "duration": 7,
    "start_time": "2024-10-22T02:51:18.933Z"
   },
   {
    "duration": 3,
    "start_time": "2024-10-22T02:51:18.942Z"
   },
   {
    "duration": 13,
    "start_time": "2024-10-22T02:51:18.947Z"
   },
   {
    "duration": 324,
    "start_time": "2024-10-22T02:51:18.961Z"
   },
   {
    "duration": 302,
    "start_time": "2024-10-22T02:51:19.288Z"
   },
   {
    "duration": 329,
    "start_time": "2024-10-22T02:51:19.593Z"
   },
   {
    "duration": 404,
    "start_time": "2024-10-22T02:51:19.924Z"
   },
   {
    "duration": 202,
    "start_time": "2024-10-22T02:51:20.330Z"
   },
   {
    "duration": 15,
    "start_time": "2024-10-22T02:51:20.545Z"
   },
   {
    "duration": 424,
    "start_time": "2024-10-22T02:51:20.564Z"
   },
   {
    "duration": 12,
    "start_time": "2024-10-22T02:51:20.989Z"
   },
   {
    "duration": 484,
    "start_time": "2024-10-22T02:51:21.005Z"
   },
   {
    "duration": 11,
    "start_time": "2024-10-22T02:51:21.491Z"
   },
   {
    "duration": 427,
    "start_time": "2024-10-22T02:51:21.504Z"
   },
   {
    "duration": 9,
    "start_time": "2024-10-22T02:58:03.330Z"
   },
   {
    "duration": 9,
    "start_time": "2024-10-22T02:58:24.503Z"
   },
   {
    "duration": 13,
    "start_time": "2024-10-22T02:59:42.164Z"
   },
   {
    "duration": 9,
    "start_time": "2024-10-22T03:12:33.656Z"
   },
   {
    "duration": 295,
    "start_time": "2024-10-22T03:26:42.648Z"
   },
   {
    "duration": 8,
    "start_time": "2024-10-22T03:26:52.494Z"
   },
   {
    "duration": 9,
    "start_time": "2024-10-22T03:27:33.423Z"
   },
   {
    "duration": 8,
    "start_time": "2024-10-22T03:30:39.773Z"
   },
   {
    "duration": 7,
    "start_time": "2024-10-22T03:34:24.681Z"
   },
   {
    "duration": 9,
    "start_time": "2024-10-22T03:36:31.208Z"
   },
   {
    "duration": 770,
    "start_time": "2024-10-22T03:38:15.603Z"
   },
   {
    "duration": 25,
    "start_time": "2024-10-22T03:38:16.376Z"
   },
   {
    "duration": 8,
    "start_time": "2024-10-22T03:38:16.403Z"
   },
   {
    "duration": 30,
    "start_time": "2024-10-22T03:38:16.413Z"
   },
   {
    "duration": 7,
    "start_time": "2024-10-22T03:38:16.446Z"
   },
   {
    "duration": 14,
    "start_time": "2024-10-22T03:38:16.456Z"
   },
   {
    "duration": 10,
    "start_time": "2024-10-22T03:38:16.472Z"
   },
   {
    "duration": 13,
    "start_time": "2024-10-22T03:38:16.484Z"
   },
   {
    "duration": 13,
    "start_time": "2024-10-22T03:38:16.499Z"
   },
   {
    "duration": 12,
    "start_time": "2024-10-22T03:38:16.543Z"
   },
   {
    "duration": 18,
    "start_time": "2024-10-22T03:38:16.556Z"
   },
   {
    "duration": 13,
    "start_time": "2024-10-22T03:38:16.577Z"
   },
   {
    "duration": 10,
    "start_time": "2024-10-22T03:38:16.592Z"
   },
   {
    "duration": 317,
    "start_time": "2024-10-22T03:38:16.605Z"
   },
   {
    "duration": 295,
    "start_time": "2024-10-22T03:38:16.923Z"
   },
   {
    "duration": 24,
    "start_time": "2024-10-22T03:38:17.220Z"
   },
   {
    "duration": 10,
    "start_time": "2024-10-22T03:38:17.246Z"
   },
   {
    "duration": 540,
    "start_time": "2024-10-22T03:38:17.259Z"
   },
   {
    "duration": 4,
    "start_time": "2024-10-22T03:38:17.801Z"
   },
   {
    "duration": 3,
    "start_time": "2024-10-22T03:38:17.807Z"
   },
   {
    "duration": 10,
    "start_time": "2024-10-22T03:38:17.812Z"
   },
   {
    "duration": 271,
    "start_time": "2024-10-22T03:38:17.824Z"
   },
   {
    "duration": 308,
    "start_time": "2024-10-22T03:38:18.096Z"
   },
   {
    "duration": 318,
    "start_time": "2024-10-22T03:38:18.406Z"
   },
   {
    "duration": 355,
    "start_time": "2024-10-22T03:38:18.725Z"
   },
   {
    "duration": 203,
    "start_time": "2024-10-22T03:38:19.082Z"
   },
   {
    "duration": 11,
    "start_time": "2024-10-22T03:38:19.286Z"
   },
   {
    "duration": 418,
    "start_time": "2024-10-22T03:38:19.299Z"
   },
   {
    "duration": 10,
    "start_time": "2024-10-22T03:38:19.719Z"
   },
   {
    "duration": 393,
    "start_time": "2024-10-22T03:38:19.731Z"
   },
   {
    "duration": 17,
    "start_time": "2024-10-22T03:38:20.126Z"
   },
   {
    "duration": 428,
    "start_time": "2024-10-22T03:38:20.144Z"
   },
   {
    "duration": 8,
    "start_time": "2024-10-22T03:38:20.575Z"
   },
   {
    "duration": 8,
    "start_time": "2024-10-22T03:38:20.584Z"
   },
   {
    "duration": 833,
    "start_time": "2024-10-22T03:55:54.546Z"
   },
   {
    "duration": 24,
    "start_time": "2024-10-22T03:55:55.381Z"
   },
   {
    "duration": 8,
    "start_time": "2024-10-22T03:55:55.407Z"
   },
   {
    "duration": 10,
    "start_time": "2024-10-22T03:55:55.417Z"
   },
   {
    "duration": 19,
    "start_time": "2024-10-22T03:55:55.429Z"
   },
   {
    "duration": 13,
    "start_time": "2024-10-22T03:55:55.449Z"
   },
   {
    "duration": 6,
    "start_time": "2024-10-22T03:55:55.464Z"
   },
   {
    "duration": 12,
    "start_time": "2024-10-22T03:55:55.472Z"
   },
   {
    "duration": 13,
    "start_time": "2024-10-22T03:55:55.486Z"
   },
   {
    "duration": 43,
    "start_time": "2024-10-22T03:55:55.501Z"
   },
   {
    "duration": 15,
    "start_time": "2024-10-22T03:55:55.546Z"
   },
   {
    "duration": 12,
    "start_time": "2024-10-22T03:55:55.562Z"
   },
   {
    "duration": 10,
    "start_time": "2024-10-22T03:55:55.577Z"
   },
   {
    "duration": 320,
    "start_time": "2024-10-22T03:55:55.589Z"
   },
   {
    "duration": 282,
    "start_time": "2024-10-22T03:55:55.911Z"
   },
   {
    "duration": 14,
    "start_time": "2024-10-22T03:55:56.195Z"
   },
   {
    "duration": 9,
    "start_time": "2024-10-22T03:55:56.210Z"
   },
   {
    "duration": 562,
    "start_time": "2024-10-22T03:55:56.221Z"
   },
   {
    "duration": 5,
    "start_time": "2024-10-22T03:55:56.785Z"
   },
   {
    "duration": 4,
    "start_time": "2024-10-22T03:55:56.791Z"
   },
   {
    "duration": 11,
    "start_time": "2024-10-22T03:55:56.796Z"
   },
   {
    "duration": 267,
    "start_time": "2024-10-22T03:55:56.809Z"
   },
   {
    "duration": 295,
    "start_time": "2024-10-22T03:55:57.078Z"
   },
   {
    "duration": 331,
    "start_time": "2024-10-22T03:55:57.375Z"
   },
   {
    "duration": 362,
    "start_time": "2024-10-22T03:55:57.708Z"
   },
   {
    "duration": 181,
    "start_time": "2024-10-22T03:55:58.072Z"
   },
   {
    "duration": 12,
    "start_time": "2024-10-22T03:55:58.255Z"
   },
   {
    "duration": 430,
    "start_time": "2024-10-22T03:55:58.271Z"
   },
   {
    "duration": 10,
    "start_time": "2024-10-22T03:55:58.703Z"
   },
   {
    "duration": 403,
    "start_time": "2024-10-22T03:55:58.715Z"
   },
   {
    "duration": 10,
    "start_time": "2024-10-22T03:55:59.120Z"
   },
   {
    "duration": 404,
    "start_time": "2024-10-22T03:55:59.131Z"
   },
   {
    "duration": 14,
    "start_time": "2024-10-22T03:55:59.537Z"
   },
   {
    "duration": 9,
    "start_time": "2024-10-22T03:55:59.553Z"
   },
   {
    "duration": 8,
    "start_time": "2024-10-22T06:37:26.264Z"
   },
   {
    "duration": 837,
    "start_time": "2024-10-22T06:38:00.690Z"
   },
   {
    "duration": 30,
    "start_time": "2024-10-22T06:38:01.529Z"
   },
   {
    "duration": 8,
    "start_time": "2024-10-22T06:38:01.561Z"
   },
   {
    "duration": 12,
    "start_time": "2024-10-22T06:38:01.570Z"
   },
   {
    "duration": 6,
    "start_time": "2024-10-22T06:38:01.584Z"
   },
   {
    "duration": 12,
    "start_time": "2024-10-22T06:38:01.591Z"
   },
   {
    "duration": 7,
    "start_time": "2024-10-22T06:38:01.605Z"
   },
   {
    "duration": 41,
    "start_time": "2024-10-22T06:38:01.613Z"
   },
   {
    "duration": 15,
    "start_time": "2024-10-22T06:38:01.656Z"
   },
   {
    "duration": 12,
    "start_time": "2024-10-22T06:38:01.672Z"
   },
   {
    "duration": 14,
    "start_time": "2024-10-22T06:38:01.686Z"
   },
   {
    "duration": 42,
    "start_time": "2024-10-22T06:38:01.702Z"
   },
   {
    "duration": 10,
    "start_time": "2024-10-22T06:38:01.746Z"
   },
   {
    "duration": 291,
    "start_time": "2024-10-22T06:38:01.761Z"
   },
   {
    "duration": 290,
    "start_time": "2024-10-22T06:38:02.054Z"
   },
   {
    "duration": 14,
    "start_time": "2024-10-22T06:38:02.346Z"
   },
   {
    "duration": 8,
    "start_time": "2024-10-22T06:38:02.362Z"
   },
   {
    "duration": 558,
    "start_time": "2024-10-22T06:38:02.373Z"
   },
   {
    "duration": 4,
    "start_time": "2024-10-22T06:38:02.933Z"
   },
   {
    "duration": 3,
    "start_time": "2024-10-22T06:38:02.940Z"
   },
   {
    "duration": 13,
    "start_time": "2024-10-22T06:38:02.944Z"
   },
   {
    "duration": 265,
    "start_time": "2024-10-22T06:38:02.959Z"
   },
   {
    "duration": 293,
    "start_time": "2024-10-22T06:38:03.226Z"
   },
   {
    "duration": 322,
    "start_time": "2024-10-22T06:38:03.521Z"
   },
   {
    "duration": 365,
    "start_time": "2024-10-22T06:38:03.844Z"
   },
   {
    "duration": 195,
    "start_time": "2024-10-22T06:38:04.210Z"
   },
   {
    "duration": 13,
    "start_time": "2024-10-22T06:38:04.407Z"
   },
   {
    "duration": 411,
    "start_time": "2024-10-22T06:38:04.421Z"
   },
   {
    "duration": 15,
    "start_time": "2024-10-22T06:38:04.834Z"
   },
   {
    "duration": 444,
    "start_time": "2024-10-22T06:38:04.850Z"
   },
   {
    "duration": 10,
    "start_time": "2024-10-22T06:38:05.297Z"
   },
   {
    "duration": 433,
    "start_time": "2024-10-22T06:38:05.309Z"
   },
   {
    "duration": 8,
    "start_time": "2024-10-22T06:38:05.744Z"
   },
   {
    "duration": 8,
    "start_time": "2024-10-22T06:38:05.754Z"
   },
   {
    "duration": 9,
    "start_time": "2024-10-22T06:39:55.417Z"
   },
   {
    "duration": 792,
    "start_time": "2024-10-22T06:40:31.295Z"
   },
   {
    "duration": 23,
    "start_time": "2024-10-22T06:40:32.089Z"
   },
   {
    "duration": 9,
    "start_time": "2024-10-22T06:40:32.114Z"
   },
   {
    "duration": 24,
    "start_time": "2024-10-22T06:40:32.124Z"
   },
   {
    "duration": 7,
    "start_time": "2024-10-22T06:40:32.150Z"
   },
   {
    "duration": 13,
    "start_time": "2024-10-22T06:40:32.158Z"
   },
   {
    "duration": 7,
    "start_time": "2024-10-22T06:40:32.173Z"
   },
   {
    "duration": 14,
    "start_time": "2024-10-22T06:40:32.181Z"
   },
   {
    "duration": 47,
    "start_time": "2024-10-22T06:40:32.196Z"
   },
   {
    "duration": 13,
    "start_time": "2024-10-22T06:40:32.248Z"
   },
   {
    "duration": 16,
    "start_time": "2024-10-22T06:40:32.263Z"
   },
   {
    "duration": 12,
    "start_time": "2024-10-22T06:40:32.281Z"
   },
   {
    "duration": 9,
    "start_time": "2024-10-22T06:40:32.295Z"
   },
   {
    "duration": 313,
    "start_time": "2024-10-22T06:40:32.305Z"
   },
   {
    "duration": 304,
    "start_time": "2024-10-22T06:40:32.620Z"
   },
   {
    "duration": 18,
    "start_time": "2024-10-22T06:40:32.926Z"
   },
   {
    "duration": 15,
    "start_time": "2024-10-22T06:40:32.945Z"
   },
   {
    "duration": 542,
    "start_time": "2024-10-22T06:40:32.961Z"
   },
   {
    "duration": 5,
    "start_time": "2024-10-22T06:40:33.505Z"
   },
   {
    "duration": 2,
    "start_time": "2024-10-22T06:40:33.512Z"
   },
   {
    "duration": 10,
    "start_time": "2024-10-22T06:40:33.516Z"
   },
   {
    "duration": 278,
    "start_time": "2024-10-22T06:40:33.527Z"
   },
   {
    "duration": 299,
    "start_time": "2024-10-22T06:40:33.807Z"
   },
   {
    "duration": 316,
    "start_time": "2024-10-22T06:40:34.109Z"
   },
   {
    "duration": 380,
    "start_time": "2024-10-22T06:40:34.427Z"
   },
   {
    "duration": 198,
    "start_time": "2024-10-22T06:40:34.809Z"
   },
   {
    "duration": 12,
    "start_time": "2024-10-22T06:40:35.009Z"
   },
   {
    "duration": 399,
    "start_time": "2024-10-22T06:40:35.025Z"
   },
   {
    "duration": 20,
    "start_time": "2024-10-22T06:40:35.426Z"
   },
   {
    "duration": 401,
    "start_time": "2024-10-22T06:40:35.448Z"
   },
   {
    "duration": 12,
    "start_time": "2024-10-22T06:40:35.852Z"
   },
   {
    "duration": 448,
    "start_time": "2024-10-22T06:40:35.866Z"
   },
   {
    "duration": 8,
    "start_time": "2024-10-22T06:40:36.316Z"
   },
   {
    "duration": 17,
    "start_time": "2024-10-22T06:40:36.326Z"
   },
   {
    "duration": 814,
    "start_time": "2024-10-22T07:00:57.347Z"
   },
   {
    "duration": 26,
    "start_time": "2024-10-22T07:00:58.163Z"
   },
   {
    "duration": 8,
    "start_time": "2024-10-22T07:00:58.190Z"
   },
   {
    "duration": 11,
    "start_time": "2024-10-22T07:00:58.201Z"
   },
   {
    "duration": 6,
    "start_time": "2024-10-22T07:00:58.213Z"
   },
   {
    "duration": 12,
    "start_time": "2024-10-22T07:00:58.242Z"
   },
   {
    "duration": 8,
    "start_time": "2024-10-22T07:00:58.256Z"
   },
   {
    "duration": 13,
    "start_time": "2024-10-22T07:00:58.266Z"
   },
   {
    "duration": 13,
    "start_time": "2024-10-22T07:00:58.283Z"
   },
   {
    "duration": 11,
    "start_time": "2024-10-22T07:00:58.300Z"
   },
   {
    "duration": 15,
    "start_time": "2024-10-22T07:00:58.342Z"
   },
   {
    "duration": 13,
    "start_time": "2024-10-22T07:00:58.359Z"
   },
   {
    "duration": 10,
    "start_time": "2024-10-22T07:00:58.374Z"
   },
   {
    "duration": 310,
    "start_time": "2024-10-22T07:00:58.385Z"
   },
   {
    "duration": 291,
    "start_time": "2024-10-22T07:00:58.697Z"
   },
   {
    "duration": 14,
    "start_time": "2024-10-22T07:00:58.990Z"
   },
   {
    "duration": 9,
    "start_time": "2024-10-22T07:00:59.006Z"
   },
   {
    "duration": 567,
    "start_time": "2024-10-22T07:00:59.016Z"
   },
   {
    "duration": 5,
    "start_time": "2024-10-22T07:00:59.585Z"
   },
   {
    "duration": 3,
    "start_time": "2024-10-22T07:00:59.592Z"
   },
   {
    "duration": 12,
    "start_time": "2024-10-22T07:00:59.596Z"
   },
   {
    "duration": 272,
    "start_time": "2024-10-22T07:00:59.610Z"
   },
   {
    "duration": 296,
    "start_time": "2024-10-22T07:00:59.885Z"
   },
   {
    "duration": 351,
    "start_time": "2024-10-22T07:01:00.183Z"
   },
   {
    "duration": 401,
    "start_time": "2024-10-22T07:01:00.536Z"
   },
   {
    "duration": 187,
    "start_time": "2024-10-22T07:01:00.942Z"
   },
   {
    "duration": 17,
    "start_time": "2024-10-22T07:01:01.131Z"
   },
   {
    "duration": 416,
    "start_time": "2024-10-22T07:01:01.153Z"
   },
   {
    "duration": 12,
    "start_time": "2024-10-22T07:01:01.571Z"
   },
   {
    "duration": 428,
    "start_time": "2024-10-22T07:01:01.585Z"
   },
   {
    "duration": 11,
    "start_time": "2024-10-22T07:01:02.016Z"
   },
   {
    "duration": 398,
    "start_time": "2024-10-22T07:01:02.028Z"
   },
   {
    "duration": 15,
    "start_time": "2024-10-22T07:01:02.428Z"
   },
   {
    "duration": 8,
    "start_time": "2024-10-22T07:01:02.445Z"
   },
   {
    "duration": 830,
    "start_time": "2024-10-22T07:10:56.237Z"
   },
   {
    "duration": 24,
    "start_time": "2024-10-22T07:10:57.069Z"
   },
   {
    "duration": 8,
    "start_time": "2024-10-22T07:10:57.095Z"
   },
   {
    "duration": 12,
    "start_time": "2024-10-22T07:10:57.105Z"
   },
   {
    "duration": 28,
    "start_time": "2024-10-22T07:10:57.118Z"
   },
   {
    "duration": 13,
    "start_time": "2024-10-22T07:10:57.147Z"
   },
   {
    "duration": 7,
    "start_time": "2024-10-22T07:10:57.162Z"
   },
   {
    "duration": 13,
    "start_time": "2024-10-22T07:10:57.170Z"
   },
   {
    "duration": 14,
    "start_time": "2024-10-22T07:10:57.185Z"
   },
   {
    "duration": 47,
    "start_time": "2024-10-22T07:10:57.202Z"
   },
   {
    "duration": 16,
    "start_time": "2024-10-22T07:10:57.250Z"
   },
   {
    "duration": 13,
    "start_time": "2024-10-22T07:10:57.268Z"
   },
   {
    "duration": 10,
    "start_time": "2024-10-22T07:10:57.283Z"
   },
   {
    "duration": 310,
    "start_time": "2024-10-22T07:10:57.295Z"
   },
   {
    "duration": 311,
    "start_time": "2024-10-22T07:10:57.607Z"
   },
   {
    "duration": 14,
    "start_time": "2024-10-22T07:10:57.920Z"
   },
   {
    "duration": 9,
    "start_time": "2024-10-22T07:10:57.943Z"
   },
   {
    "duration": 541,
    "start_time": "2024-10-22T07:10:57.954Z"
   },
   {
    "duration": 4,
    "start_time": "2024-10-22T07:10:58.497Z"
   },
   {
    "duration": 2,
    "start_time": "2024-10-22T07:10:58.503Z"
   },
   {
    "duration": 10,
    "start_time": "2024-10-22T07:10:58.507Z"
   },
   {
    "duration": 276,
    "start_time": "2024-10-22T07:10:58.519Z"
   },
   {
    "duration": 301,
    "start_time": "2024-10-22T07:10:58.797Z"
   },
   {
    "duration": 325,
    "start_time": "2024-10-22T07:10:59.101Z"
   },
   {
    "duration": 374,
    "start_time": "2024-10-22T07:10:59.428Z"
   },
   {
    "duration": 186,
    "start_time": "2024-10-22T07:10:59.804Z"
   },
   {
    "duration": 11,
    "start_time": "2024-10-22T07:10:59.992Z"
   },
   {
    "duration": 409,
    "start_time": "2024-10-22T07:11:00.007Z"
   },
   {
    "duration": 10,
    "start_time": "2024-10-22T07:11:00.419Z"
   },
   {
    "duration": 426,
    "start_time": "2024-10-22T07:11:00.442Z"
   },
   {
    "duration": 10,
    "start_time": "2024-10-22T07:11:00.870Z"
   },
   {
    "duration": 446,
    "start_time": "2024-10-22T07:11:00.882Z"
   },
   {
    "duration": 16,
    "start_time": "2024-10-22T07:11:01.330Z"
   },
   {
    "duration": 11,
    "start_time": "2024-10-22T07:11:01.347Z"
   },
   {
    "duration": 3,
    "start_time": "2024-10-22T15:35:21.870Z"
   },
   {
    "duration": 2538,
    "start_time": "2025-02-26T20:48:10.370Z"
   },
   {
    "duration": 34,
    "start_time": "2025-02-26T20:48:12.911Z"
   },
   {
    "duration": 7,
    "start_time": "2025-02-26T20:48:12.947Z"
   },
   {
    "duration": 11,
    "start_time": "2025-02-26T20:48:12.957Z"
   },
   {
    "duration": 6,
    "start_time": "2025-02-26T20:48:12.969Z"
   },
   {
    "duration": 12,
    "start_time": "2025-02-26T20:48:12.977Z"
   },
   {
    "duration": 7,
    "start_time": "2025-02-26T20:48:12.990Z"
   },
   {
    "duration": 13,
    "start_time": "2025-02-26T20:48:13.024Z"
   },
   {
    "duration": 14,
    "start_time": "2025-02-26T20:48:13.038Z"
   },
   {
    "duration": 11,
    "start_time": "2025-02-26T20:48:13.055Z"
   },
   {
    "duration": 15,
    "start_time": "2025-02-26T20:48:13.067Z"
   },
   {
    "duration": 46,
    "start_time": "2025-02-26T20:48:13.084Z"
   },
   {
    "duration": 12,
    "start_time": "2025-02-26T20:48:13.131Z"
   },
   {
    "duration": 298,
    "start_time": "2025-02-26T20:48:13.147Z"
   },
   {
    "duration": 242,
    "start_time": "2025-02-26T20:48:13.447Z"
   },
   {
    "duration": 12,
    "start_time": "2025-02-26T20:48:13.691Z"
   },
   {
    "duration": 21,
    "start_time": "2025-02-26T20:48:13.705Z"
   },
   {
    "duration": 593,
    "start_time": "2025-02-26T20:48:13.728Z"
   },
   {
    "duration": 5,
    "start_time": "2025-02-26T20:48:14.323Z"
   },
   {
    "duration": 3,
    "start_time": "2025-02-26T20:48:14.330Z"
   },
   {
    "duration": 10,
    "start_time": "2025-02-26T20:48:14.335Z"
   },
   {
    "duration": 277,
    "start_time": "2025-02-26T20:48:14.347Z"
   },
   {
    "duration": 284,
    "start_time": "2025-02-26T20:48:14.626Z"
   },
   {
    "duration": 316,
    "start_time": "2025-02-26T20:48:14.912Z"
   },
   {
    "duration": 288,
    "start_time": "2025-02-26T20:48:15.230Z"
   },
   {
    "duration": 185,
    "start_time": "2025-02-26T20:48:15.524Z"
   },
   {
    "duration": 15,
    "start_time": "2025-02-26T20:48:15.711Z"
   },
   {
    "duration": 474,
    "start_time": "2025-02-26T20:48:15.729Z"
   },
   {
    "duration": 20,
    "start_time": "2025-02-26T20:48:16.204Z"
   },
   {
    "duration": 392,
    "start_time": "2025-02-26T20:48:16.226Z"
   },
   {
    "duration": 10,
    "start_time": "2025-02-26T20:48:16.620Z"
   },
   {
    "duration": 424,
    "start_time": "2025-02-26T20:48:16.632Z"
   },
   {
    "duration": 9,
    "start_time": "2025-02-26T20:48:17.057Z"
   },
   {
    "duration": 8,
    "start_time": "2025-02-26T20:48:17.068Z"
   },
   {
    "duration": 808,
    "start_time": "2025-02-26T21:18:11.831Z"
   },
   {
    "duration": 23,
    "start_time": "2025-02-26T21:18:12.641Z"
   },
   {
    "duration": 9,
    "start_time": "2025-02-26T21:18:12.666Z"
   },
   {
    "duration": 10,
    "start_time": "2025-02-26T21:18:12.677Z"
   },
   {
    "duration": 6,
    "start_time": "2025-02-26T21:18:12.688Z"
   },
   {
    "duration": 37,
    "start_time": "2025-02-26T21:18:12.695Z"
   },
   {
    "duration": 6,
    "start_time": "2025-02-26T21:18:12.733Z"
   },
   {
    "duration": 13,
    "start_time": "2025-02-26T21:18:12.740Z"
   },
   {
    "duration": 13,
    "start_time": "2025-02-26T21:18:12.754Z"
   },
   {
    "duration": 11,
    "start_time": "2025-02-26T21:18:12.770Z"
   },
   {
    "duration": 51,
    "start_time": "2025-02-26T21:18:12.783Z"
   },
   {
    "duration": 12,
    "start_time": "2025-02-26T21:18:12.835Z"
   },
   {
    "duration": 9,
    "start_time": "2025-02-26T21:18:12.849Z"
   },
   {
    "duration": 317,
    "start_time": "2025-02-26T21:18:12.860Z"
   },
   {
    "duration": 277,
    "start_time": "2025-02-26T21:18:13.179Z"
   },
   {
    "duration": 13,
    "start_time": "2025-02-26T21:18:13.458Z"
   },
   {
    "duration": 9,
    "start_time": "2025-02-26T21:18:13.473Z"
   },
   {
    "duration": 545,
    "start_time": "2025-02-26T21:18:13.483Z"
   },
   {
    "duration": 5,
    "start_time": "2025-02-26T21:18:14.030Z"
   },
   {
    "duration": 3,
    "start_time": "2025-02-26T21:18:14.037Z"
   },
   {
    "duration": 12,
    "start_time": "2025-02-26T21:18:14.042Z"
   },
   {
    "duration": 288,
    "start_time": "2025-02-26T21:18:14.056Z"
   },
   {
    "duration": 292,
    "start_time": "2025-02-26T21:18:14.346Z"
   },
   {
    "duration": 311,
    "start_time": "2025-02-26T21:18:14.641Z"
   },
   {
    "duration": 370,
    "start_time": "2025-02-26T21:18:14.954Z"
   },
   {
    "duration": 180,
    "start_time": "2025-02-26T21:18:15.326Z"
   },
   {
    "duration": 20,
    "start_time": "2025-02-26T21:18:15.508Z"
   },
   {
    "duration": 379,
    "start_time": "2025-02-26T21:18:15.531Z"
   },
   {
    "duration": 17,
    "start_time": "2025-02-26T21:18:15.912Z"
   },
   {
    "duration": 417,
    "start_time": "2025-02-26T21:18:15.931Z"
   },
   {
    "duration": 10,
    "start_time": "2025-02-26T21:18:16.349Z"
   },
   {
    "duration": 427,
    "start_time": "2025-02-26T21:18:16.361Z"
   },
   {
    "duration": 8,
    "start_time": "2025-02-26T21:18:16.790Z"
   },
   {
    "duration": 7,
    "start_time": "2025-02-26T21:18:16.800Z"
   }
  ],
  "kernelspec": {
   "display_name": "Python 3",
   "language": "python",
   "name": "python3"
  },
  "language_info": {
   "codemirror_mode": {
    "name": "ipython",
    "version": 3
   },
   "file_extension": ".py",
   "mimetype": "text/x-python",
   "name": "python",
   "nbconvert_exporter": "python",
   "pygments_lexer": "ipython3",
   "version": "3.12.4"
  },
  "toc": {
   "base_numbering": 1,
   "nav_menu": {},
   "number_sections": true,
   "sideBar": true,
   "skip_h1_title": true,
   "title_cell": "Table of Contents",
   "title_sidebar": "Contents",
   "toc_cell": false,
   "toc_position": {},
   "toc_section_display": true,
   "toc_window_display": false
  }
 },
 "nbformat": 4,
 "nbformat_minor": 2
}
